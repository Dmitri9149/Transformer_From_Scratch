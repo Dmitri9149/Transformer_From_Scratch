{
  "nbformat": 4,
  "nbformat_minor": 0,
  "metadata": {
    "colab": {
      "name": "Transformer_Values_Keys_Queries",
      "provenance": [],
      "collapsed_sections": [],
      "authorship_tag": "ABX9TyOCKQwEzWPdSeYbufEzvYNe",
      "include_colab_link": true
    },
    "kernelspec": {
      "name": "python3",
      "display_name": "Python 3"
    }
  },
  "cells": [
    {
      "cell_type": "markdown",
      "metadata": {
        "id": "view-in-github",
        "colab_type": "text"
      },
      "source": [
        "<a href=\"https://colab.research.google.com/github/Dmitri9149/Transformer_From_Scratch/blob/main/Transformer_Values_Keys_Queries.ipynb\" target=\"_parent\"><img src=\"https://colab.research.google.com/assets/colab-badge.svg\" alt=\"Open In Colab\"/></a>"
      ]
    },
    {
      "cell_type": "code",
      "metadata": {
        "id": "a1nfNv3rDtdo",
        "outputId": "fdf2161b-3933-494e-b27c-c5883a52af63",
        "colab": {
          "base_uri": "https://localhost:8080/",
          "height": 35
        }
      },
      "source": [
        "from google.colab import drive\n",
        "drive.mount('/content/drive')"
      ],
      "execution_count": null,
      "outputs": [
        {
          "output_type": "stream",
          "text": [
            "Drive already mounted at /content/drive; to attempt to forcibly remount, call drive.mount(\"/content/drive\", force_remount=True).\n"
          ],
          "name": "stdout"
        }
      ]
    },
    {
      "cell_type": "markdown",
      "metadata": {
        "id": "sj81vUTeDwbh"
      },
      "source": [
        "\n",
        "## Transformer in \"Quantum Mechanical\" notations.\n",
        "## What are the V, K, Q in the Transformer? \n",
        "## What are the Value, Key, Query ?  \n",
        "\\\n",
        "\n",
        "\n",
        "###Bra and Ket vectors. Einstain convention. \n",
        "\\\n",
        "\n",
        "If we have a vector V : the 'ket' vector is ... just  V  vector,  \n",
        "but written in the form : \n",
        "$$|V> $$\n",
        "The 'bra' vector will be: $$<V|$$\n",
        "\n",
        "'Bra' correspond to a linear operator:  \n",
        "if we have vector $|U>$ the operator will be:  \n",
        "$$<U|$$ \n",
        "The operator takes a vector:\n",
        "$$|V>$$ as input and produce scalar number: $$<U|V>$$ as output: where the scalar is the dot product between U and V.  \n",
        "We can also construct the operator: \n",
        "$$|U><V|$$ \n",
        "it acts on the vector $|G>$ in the way : \n",
        "$$(|U><V|)|G> = (<V|G>)|U>$$\n",
        "We may also think about: $$|V>$$ as column vector: \n",
        "$$\\begin{bmatrix}v_1\\\\v_2\\\\..\\\\v_n\\end{bmatrix}\\quad i=1,..,n$$\n",
        "And about: $$<V|$$ as row vector:\n",
        "$$\\begin{bmatrix}v_1&v_2&..&v_n\\end{bmatrix}\\quad i=1,..,n$$\n",
        "\n",
        "If we have ooperator (matrix) G of size m\\*n: where \n",
        "$$ j = 1,..m\\quad i = 1,..n $$ acting on:  \n",
        "$$|V>=\\begin{bmatrix}v_1\\\\v_2\\\\..\\\\v_n\\end{bmatrix}\\quad i=1,..,n$$ as \n",
        "$$ $$\n",
        "$$G|V>$$\n",
        "the corresponding operator acting on: $$<V|=\\begin{bmatrix}v_1&v_2&..&v_n\\end{bmatrix}\\quad i=1,..,N$$ will be $$G^T$$\n",
        "$$ $$\n",
        "$$<V|G^T|$$  \n",
        "where $G^T$ has size n\\*m and $G^T$ is matrix transpose to G.  \n",
        "\n",
        "$$ $$\n",
        "Let as choose orthonormal basis: \n",
        "$|e_i>$ where i = 1,..n  \n",
        "In the basis : $$<e_i|e_j> = 1$$ when $i = j$  \n",
        "and  \n",
        "$$<e_i|e_j> = 0$$  \n",
        "when $i = j$ .  \n",
        "\n",
        "In the basis we have for a vector q : \n",
        "$$q = q^i|e_i>=\\sum_{i=1}^nq^i|e_i>\\quad   i=1,..,n$$    \n",
        "\n",
        "And for a covector (linear operator) k : \n",
        "$$k=k_i<e^i|\\quad   i = 1,..,n $$  \n",
        "\n",
        "We use the Einstain convention here:  \n",
        "when an index appears twice in a single term in upper and lower position, we sum all the corresponding terms over the index. The notations will be used to get a shorter form for some expressions. \n",
        "\n",
        " \n",
        "\n",
        "\n",
        "\n",
        "\n",
        "\n",
        "\n",
        "\n",
        "\n",
        "\n",
        "\n",
        "\n",
        "\n",
        "\n",
        "\n",
        "\n",
        "\n",
        "\n",
        "\n",
        "\n",
        "\n",
        "\n",
        "\n",
        "\n",
        "\n",
        "\n",
        "\n",
        "\n",
        "\n",
        "\n",
        "\n"
      ]
    },
    {
      "cell_type": "markdown",
      "metadata": {
        "id": "OZeRNRqrlg46"
      },
      "source": [
        "### Learning Procedure\n",
        "The typical task is. \n",
        "We  have liner operator: \n",
        "$$G(a)$$\n",
        "where a is a set of parameters and $$a\\in R^N$$  \n",
        "We also have a pair (t,s):  \n",
        "where t is what we have to get when we apply G to s.\n",
        "We can take as measure of similarity of what we get and what we want $$<t|G(a)|s>$$\n",
        "If we will get what we want: the expression will be 1. If we will be very far from what we want, it will be close to 0. \n",
        "We may consider the expression above as a potential V(a).  To get what we want we will try to find  $a^*$ which will maximize the V(a).  \n",
        "In general case we have a set of experiments:  \n",
        "$$(t_1,s_1), (t_2,s_2),......,(t_n,s_n)$$ where t and s reflects some relation between the two values. The t and s may be expressed in such complex form, that it is not possible easily construct the operator G which transform target t to expected result s. Moreover, t and s may have mistakes.  \n",
        "To construct such G we may:  \n",
        "1.Make some guess what is the general form of the G and how the general form vary depending on some parameters a. For example we may guess the t and s are related by linear operator G(a) and our task is to get the 'best' a.  \n",
        "If we will designate the best a as $a^*$ , we will get the needed operator $G(a_*)$.\n",
        "We can do it in the way:  \n",
        "1.Consider the sum of all the results of 'measurements':  \n",
        "$$\\sum_i<t_i|G(a)|s_i>$$ as potential V(a).  \n",
        "\n",
        "2.Find the parameter which minimise the potential: $a^*$.  \n",
        "The $G(a^*)$ will reflect the relations between the t ans s in the 'best' way. \n",
        "\n",
        "We will try to express the learning taks using the vectors, covectors, linear opetators and scalar products in this way.   \n"
      ]
    },
    {
      "cell_type": "markdown",
      "metadata": {
        "id": "pSiJLURh9qvm"
      },
      "source": [
        "### Split Identity  \n",
        "\n",
        "We can always write a vector q (we assume othonormal basis) in the form: \n",
        "$$q =\\sum_{i=1}^nq^i|e_i>=\\sum_{i=1}^n<e^i|q>|e_i>,$$\n",
        "because:\n",
        "$$q^i=<e^i|q>|\\quad   i = 1,..,n $$  \n",
        "Or, what is the same: \n",
        "$$q =q^i|e_i>=(\\sum_{i=1}^n|e^i><e_i|)|q> =\\sum_{i=1}^n|e^i><e_i||q>$$\n",
        "\n",
        "\n",
        "#### Some intuition. \n",
        "Let us try to develop some intuition. We have 'particle' q , but it also have some kind of wave nature:  \n",
        "we construct the  'grid' of the operators:  \n",
        "$$P_i=|e^i><e_i|\\quad i = 1,..,N$$  \n",
        "and particle q is passing via all possible paths throught the grid's clefts. At every cleft i = 1,..,n we 'map' our particle q by operator  \n",
        "$$P_i= |e^i><e_i|$$  \n",
        "and finally 'reduce' by summing all the results together again into the same q.  \n",
        "See the pictures below."
      ]
    },
    {
      "cell_type": "code",
      "metadata": {
        "id": "QvrrO8KWD_Ub",
        "outputId": "dbaec6e4-6fef-47bd-f615-b538f28895fa",
        "colab": {
          "base_uri": "https://localhost:8080/",
          "height": 467
        }
      },
      "source": [
        "from IPython.display import Image\n",
        "Image(\"/content/drive/My Drive/Data/my_projects_data/Split_Identity_v3.png\",width = 800)"
      ],
      "execution_count": null,
      "outputs": [
        {
          "output_type": "execute_result",
          "data": {
            "image/png": "[encoded data removed]",
            "text/plain": [
              "<IPython.core.display.Image object>"
            ]
          },
          "metadata": {
            "tags": [],
            "image/png": {
              "width": 800
            }
          },
          "execution_count": 6
        }
      ]
    },
    {
      "cell_type": "code",
      "metadata": {
        "id": "Yz5W42vDNZu5",
        "outputId": "8c45b48c-421c-4771-e549-1440781078d3",
        "colab": {
          "base_uri": "https://localhost:8080/",
          "height": 669
        }
      },
      "source": [
        "from IPython.display import Image\n",
        "Image(\"/content/drive/My Drive/Data/my_projects_data/Grid_operators_v0.png\")"
      ],
      "execution_count": null,
      "outputs": [
        {
          "output_type": "execute_result",
          "data": {
            "image/png": "[encoded data removed]",
            "text/plain": [
              "<IPython.core.display.Image object>"
            ]
          },
          "metadata": {
            "tags": []
          },
          "execution_count": 7
        }
      ]
    },
    {
      "cell_type": "markdown",
      "metadata": {
        "id": "X80DN-O5GR04"
      },
      "source": [
        "### Projection Operators\n",
        "The operators $$P_i\\quad i=1,..,n$$ are very important: these are Projection Operators. Every such operator $P_j$ project 'particle' q to the corresponding basis vector j. And the Split Identity experiment correspond to the 'grid' of the $$P_i, i =1,..n$$ and our particle q, passimg throught the 'grid'.  \n",
        "We may introduce Identity operator E:  \n",
        "$$E|q>=|q>$$\n",
        "Taking into account what we know about $P_i$ we can write:  \n",
        "$$E = \\sum_{i=1}^NP_i \\quad   i=1,..,N$$ \n",
        "See the picture.   \n"
      ]
    },
    {
      "cell_type": "markdown",
      "metadata": {
        "id": "aylyC73eLxCH"
      },
      "source": [
        "### Attention Mechanism (change statistics)   \n",
        "Let us try another 'grid' : \n",
        "$$\\sum_{i=1}^na_iP_i=\\sum_{i=1}^na_i|e^i><e_i| \\quad   i=1,..,n$$ We may assume the $a_i$ are appropriatelly normalized, for exmple:  \n",
        "$$\\sum_{i=1}^na_i= n \\quad   i=1,..,n$$ \n",
        "In this case we will not get same q if we pass it throught the grid.\n",
        "We will get something new. Let us think about $a_i$ as 'an importance' of our basis vectors  \n",
        "$$|e_i>\\quad  i=1,..n$$  \n",
        "in the new 'grid'.  \n",
        "If we will take a vector:\n",
        "$$q = (\\sum_{i=1}^nP_i)q=\\sum_{i=1}^n|e^i><e_i|q \\quad   i=1,..,n$$\n",
        "and apply the 'scores' \n",
        "$$ a_i= 1 \\quad   i=1,..,n$$\n",
        "to the above equations we will get a new vector q(a): \n",
        "$$q(a) = (\\sum_{i=1}^na_iP_i)q=\\sum_{i=1}^na_i|e^i><e_i|q \\quad   i=1,..,n$$  \n",
        "The $q(a)$ is received from q by changing the 'importance' of initial components \n",
        "$$q^i \\quad  i=1,..n $$  \n",
        "of q, from 1 to $a_i, \\quad i=1,..n$  \n",
        "If in q we pay equal 'attention' to all components $q^i$ , in $q(a)$ (which we receive transforming q) we pay 'attention' to components $q^i$  in accordance with $a_i$ scores.  \n",
        "We change attention for components in q vector from:  \n",
        "$$(1,1,....,1)\\quad  to\\quad  (a_1,a_2,..,a_n)\\quad i= 1,..,n$$  \n",
        "\n",
        "### Statistical point of view. \n",
        "Vector below are still considered as orthonormal.  \n",
        "If we have a statistical variable e and we observe vectors $$|e_i> \\quad i=1,..n $$  \n",
        "or, what is the same:\n",
        " $$|e^i><e_i| \\quad i=1,..n $$    \n",
        "with some probabilities $p_i $ where :  \n",
        "$$\\sum_{i=1}^np_i= 1 \\quad   i=1,..,n$$  \n",
        "In this case the operator:  \n",
        "$$\\sum_{i=1}^n(1/n)P_i\\quad   i=1,..,n$$  \n",
        "represents ensemle where all vectors are equally probable.  \n",
        "The operator:  \n",
        "$$\\sum_{i=1}^n{a_j}^kP_i\\quad   k,j,i=1,..,n$$\n",
        "$${a_j}^k = 1\\quad j=k$$ \n",
        "$${a_j}^k = o\\quad j\\not=k$$\n",
        "represent ensemble where we observe only one vector from N possible, and newer observe other vectors.   \n",
        "And in general case:\n",
        "$$\\sum_{i=1}^n{p_i}P_i\\quad   k,j,i=1,..,n$$  \n",
        "vectors $e_i$ are observed with probabilities $p_i$ \n",
        "\n",
        "\n",
        "\n",
        "\n",
        "\n",
        "\n",
        "\n",
        "\n"
      ]
    },
    {
      "cell_type": "markdown",
      "metadata": {
        "id": "Y5dNMliaC96d"
      },
      "source": [
        "### Generate sequence of vectors\n",
        "\n",
        "Let us take orthonormal vectors: $$|e_i>\\quad i= 1,..,n$$\n",
        "and operator: \n",
        "$$sequence=\\sum_{i=1}^{n-1}|e^{i+1}><e_i| \\quad   i=1,..,n-1$$\n",
        "We may see:  \n",
        "$$sequence|e_1>=|e_2>$$\n",
        "$$sequence|e_2>=|e_3>$$\n",
        "$$...$$\n",
        "$$sequence|e_{n-1}>=|e_n>$$\n",
        "\n",
        "And the operator:  \n",
        "$$cyclic\\_sequence=\\sum_{i=1}^{n-1}|e^{i+1}><e_i|+|e^1><e_n| \\quad   i=1,..,n$$\n",
        "will generate cyclic sequence, because we 'glued' |e_n> back to |e_1>:\n",
        "$$  $$\n",
        "$$cyclic_sequence|e_1>=|e_2>$$\n",
        "$$cyclic_sequence|e_2>=|e_3>$$\n",
        "$$...$$\n",
        "$$cyclic_sequence|e_{n-1}>=|e_n>$$\n",
        "$$cyclic_sequence|e_n>=|e_1>$$\n",
        "We may take $|e_1>$, pass it throught the 'grid': it means we apply the operator sequence , or cyclic_sequence to the $|e_1>$,  \n",
        " and we will get $|e_2>$;   \n",
        " we will take the result: $|e_2>$ and pass it throught the 'grid' again:  \n",
        " and we will get $|e_3>$  ...etc.... \n",
        "\n",
        "\n",
        "\n",
        "\n"
      ]
    },
    {
      "cell_type": "markdown",
      "metadata": {
        "id": "7Zjm1Y__-h64"
      },
      "source": [
        "### Birth and death operators\n",
        "\n",
        "The bases continue to be orthonormal.  \n",
        "The operator $|e^j><e_i|$ works in very interesting way. Let us supply $|e_i>$ to it. It will be 'eated' by the right part of operator (death of $|e_i>$) and $|e^j>$ will be produced by the left hand side of the operator (birth of partice$|e_j>$).  \n",
        "We may link with $<e^j|$ death operator :  \n",
        "$$A_j$$  \n",
        "and with $|e_i>$ birth operator: \n",
        "$$A_i^+$$\n",
        "In this case the 'cyclic_sequence' we can write as : \n",
        "$$cyclic\\_sequence=\\sum_{i=1}^{n-1}A_{i+1}^+A_i+A_1^+A_n \\quad   i=1,..,n$$\n",
        "\n",
        "From here we may easily see what happens: the 'eating' of a $e_i$ is immediatelly followed by 'production' of $e^{i+1}$  \n",
        "Plus there is the 'edge' condition: \n",
        "$$A^+_1A_n$$  \n",
        "which transforms $|e_n>$ back to $|e_1>$  \n",
        "and we have the cyclic behaviour.\n",
        "\n",
        "\n"
      ]
    },
    {
      "cell_type": "markdown",
      "metadata": {
        "id": "pu_IRA668rf5"
      },
      "source": [
        "### More formal definition. \n",
        "We assume we are in ONB ! (In orthonormal basis !!).  \n",
        "\n",
        "Let us try to be more formal.  \n",
        "\n",
        "We have a vector space with basis vectors:\n",
        "$$|e_i>\\quad   i=1,..,N$$\n",
        "Let us add to the systen \"vaquum\" state: $$|0>$$\n",
        "It will be a new vector.  \n",
        "\n",
        "We may introduce the $$A^+_i\\quad and \\quad A_j\\quad  $$  \n",
        "like this: \n",
        "$$A^+_i|j>=0$$\n",
        "$$A^+_i|0>=|i>$$  \n",
        "for any i,j.  \n",
        "And\n",
        "$$A_i|j> = 0 \\quad if \\quad i\\not=j; \\quad and \\quad |0>\\quad if \\quad i=j$$\n"
      ]
    },
    {
      "cell_type": "markdown",
      "metadata": {
        "id": "EHUfXghSCNg1"
      },
      "source": [
        "### Natural language case\n",
        "\n",
        "In case of a language, we have Vocalubary of size VocabSize.  \n",
        "Let us link with every word his own vector space. Every word $$w_j$$ will be 'vacuum' in the space:  \n",
        "$$|0_j>$$. It is just an item without any idea how it is linked with other 'vacuum' items. Real words, which we use, are not just an items, the words keep natural informative relations between each other. The embeddings are exactly about of this: how one word is related to another word. Real words are produced by 'birh' operators. We can make a statistical investigation and determine, how often other words appears in sentencies with word 'I', for example. For this (particular) case for 'I' we will have vector embedding, which we identify with the 'birth' operator : $$A^+(embed)_{I}=\\alpha_{I}A^+_{I}+\\alpha_{am}A^+_{am}+\\alpha_{love}A^+_{love}+...  $$ \n",
        "And we may demand the sum of squares of all the $\\alpha$'s is equal 1.  \n",
        "\n",
        "Because of difficulties to write indexes I place 'embed' in roud braces, it means the operator is parametrized by 'system' where it is used.   \n",
        "What about corpus of sentencies ? Every entence bring us a lot of information: the chance the words are collected and are independent is about 0. In case of particular corpus of sentencies 'embed', in case of particular sentence, it is reasonable to think (at least initially) about a word in sentence as the birth operator above.  \n",
        "What is important: the birth operators to the left for 'I' depends on embedding, the birth operator to the right is not, it just reflect 'birh' of 'I' particle. But the real word , which we may understand as 'meaning' of 'I' in our particular embedding case, is a superposition of all 'items' in our vocabulary with some coefficients. Of course, we may expect the $\\alpha_{I}$ is close to 1, which reflect the special role the 'item I' is playing in our 'I' embedding (meaning).  \n",
        "As we know, everythng make sence only in context. And this is a practical procedure, how we take into account a context. Context is represented by corpus of sentencies, where our particular sentence is living. And we extract the context as superposition of our 'word items'. It is some kind of 'secondary quantizations'. First quantization is splitting of our strings in corpus. We split our strings on white spaces and collect the Vocabulary of items, just symbols, nothing more. There are many ways to make an embedding, but every embedding is about this: our words are not longer just an items, but reflects a meaning they are getting because of the embedding, and the particular meaning is reflected by the particular superposition, by which we now replace a 'pure' item. And the good way to think about it: by the 'birth' operators (see below).  \n",
        "\n",
        "Let us take sentence p. There are 'words items' $${|0^{v(i)}>}_j \\ j=1,..,J; \\ v(i) \\in Vocab$$ where J is length of our sentencies. \n",
        "The interplay of the indexes is very important. \n",
        "The j correspond to the position, coordinate in our space, position of a word in a sentence. But v(i) correspond to some event at the position, it is reflection of the changes which happens with our list of words while we go throught the list (usually from left to the right). The 'you' works like 'infinitesimal impuls' in mechanic which change our system in 'impuls direction'. Here is something similar: the list 'I love ...' is changed by 'you' in the derection the 'you' keeps. On the other side: the 'you' is a coordinate, which indicate the third position in our list 'I love you' after 'I' and 'love'. 'you' mark a position  and what happens in the position in our sentece.\n",
        "'you' has the properties of state and of impuls, an operator which act on a state.    \n",
        "\n"
      ]
    },
    {
      "cell_type": "markdown",
      "metadata": {
        "id": "V3L2HlYsYLwj"
      },
      "source": [
        "### States and operators, how it works concretelly\n",
        "\n",
        "Let us take Embedding 'E' and a phrase 'P'. Word $|w>$ in P is represented (at least initially, the representation may change) as birth operator:  \n",
        "$$A^+_w(E)$$  \n",
        "There is also death operator : $$A_w(E)$$  for every 'w'  \n",
        "and we can construct for every $$w \\in P$$  \n",
        "the operator: \n",
        " $$A^+_w(E)A_w(E)$$   \n",
        " Finally, we construct the operator, which uniquelly represent out phrase P: \n",
        "$$\\sum_wA^+_w(E)A_w(E) \\ where \\ w \\in P$$ \n",
        "Actually, the operator represent 'bag of words' model for a sentence, there is no explicit positional flawor in the operator, I am aware about it, but it is a difficult question and will be discussed later. The possible solution is to consider a word as a product of w*j= (w,j), as a tensor particle where second particle represent position in a sentence and has 'fermionic' flawour: there is not allowed to be a (v,j) and (w,j) with same j in a sentence P. It seems, there is another solution, which is used in the Wasvani Transformer. Let us add to our 'vacuum' state a new vacuum items $|0_1>, |0_2>, etc....$ which represent natural numbers. We may change the birth operators in such way, that in every superposition some $|i>$ is included with a fixed coeficient 'a', same for all superpositions. It will place rigid constrain on the birth operators which correspond to words in a phrase. There is an $|i>$ for every 'word' in phrase, there are to be words with all i from 1 to J, and no two words with same j.  \n",
        "I am not sure, is it enought, but we will consider P not as a set, but as the ordered set of events (1,2,3,....J) or even , in some cases , $(1,2,3,...,\\infty)$\n",
        "The sonstruction is something like this. We will think about words w from P as W function W(j), j=1,..,J (or inf). It means we combine J similar copies of our Vocab spaces (including vacuum states) in one big new vector space. Vacuum states are now marked by a word and by a number j, same for our birth and death operators. In this case: for a phrase P=(0,1,2,....), we have: $$W_P(x) \\ x \\in P$$  \n",
        "And out operators will be :   \n",
        "Birth (for phrase P in embedding E):\n",
        "$$A^+(E,P)(x)=\\sum_p\\alpha(p,x)A^+_{p,x}$$   \n",
        "\n"
      ]
    },
    {
      "cell_type": "markdown",
      "metadata": {
        "id": "tXuBCQ72tRfB"
      },
      "source": [
        "### High order form for our operators\n",
        "Our operators will be :   \n",
        "Birth (for phrase P in embedding E):\n",
        "$$A^+(E,P)(x)=\\sum_p\\alpha^+(p,x)A^+_{p,x}$$  \n",
        "Death: \n",
        "$$A(E,P)(x)=\\sum_k\\alpha(k,x)A_{k,x}$$  \n",
        "where $$x,y=(1,..,J); \\ k,p=(1,..,VocabSize)$$  \n",
        "The phrase operator: \n",
        "$$Grid(E,P)(x) = A^+(E,P)(x)A(E,P)(x)= \\\\ \n",
        "(\\sum_p\\alpha^+(p,x)A^+_{p,x})(\\sum_k\\alpha(k,x)A_{k,x})= \\\\ \n",
        "(\\sum_{p,k}\\alpha^+(p,x)\\alpha(k,x)A^+_{p,x}A_{k,x})$$  \n",
        "where   \n",
        "$$x=(0,1,2,..,J)$$\n",
        "$$\\alpha^+(k,x)=\\alpha(k,x)$$  \n",
        "in our case.\n",
        "\n",
        "There is nothig mistic in the opertor, see the drawings. I hope from the drawings it will be clear what it is and how it is calculated.\n",
        "\n",
        "\n",
        "\n"
      ]
    },
    {
      "cell_type": "markdown",
      "metadata": {
        "id": "3QlIuQQ0ynsg"
      },
      "source": [
        "### Key, Value, Quiry\n",
        "\n",
        "The operator $$Grid(E,P)(x)$$ is actually from what the Attention Mechanism is calculated for learning. \n",
        "We may think about the operator as 'Dictionary[x]' where 'x' is the index in our dictionary. The operator  \n",
        "$$A^+(E,P)(x)=value[x]=|W(E)(x)>$$ \n",
        "and  \n",
        "$$ A(E,P)(x)=key[x]=<W(E)(x)|$$ where \n",
        "x = (1,2,3..J).  \n",
        "If we combine all in one 'death / birth operator', the K/V Dictionary will be particularly explicit: \n",
        "$$Dictionary(E,P)(x) = A^+(E,P)(x)A(E,P)(x)=$$\n",
        "$$$$\n",
        "$$=(value[x],key[x])=|W(E)(x)><W(E)(x)|=$$  \n",
        "$$=Grid(E,P)(x)$$  \n",
        "where x = (1,2,3,..,J)\n",
        "$$|W(E)(x)>$$ is word embedding at position x in our phrase P corresponding to our Embedding of words from corpus E. It is superposition of all words from our Vacabulary which we consider just as 'items'. Actually, any Embedding has two stages:  \n",
        "1.Meaning, context stage: under what considerations and assumptions , and what tasks we have in mind when we replace item w , by superposition of all items in Vocabuary. How we compute the (a1,a2,..,...) coefficients in our superposition. What is the 'birth' operator ? \n",
        "2.How we decrease the size of our huge Vocabulary space. We embed word representations in the original big space , by some procedure, to a smaller D space. Even 'pure' words |w> and |v> which are perpendiculat in our original space will transform to vectors which will not be perpendicular. \n",
        "But even in the smaller space we can make operators  \n",
        "$$=(value[x],key[x])=|W(E)(x)><W(E)(x)|=$$  \n",
        "$$=Grid(E,P)(x)$$  \n",
        "where x = (1,2,3,..,J) where $$|W(E)(x)>$$ is now an embedding to the smaller space. But the meaning of the operators and how to make normalizatio is less clear in the case.  \n",
        "The vector normalization questions looks as solvable, but I still do not know exactly how to do it all together. This is initial considerations mainly to express some intuition and trygive some explanations what, from my point of view, is happening in Transformer case.\n",
        "\n",
        "I mixed notations: Grid(E,P)(x) is my notation, Key/Values are from the Wasvani paper and the rest are from Quantum Field Theory. "
      ]
    },
    {
      "cell_type": "markdown",
      "metadata": {
        "id": "JTbhZ_Ld_zLz"
      },
      "source": [
        "### Query Q and 'Third quantization'\n",
        "\n",
        "In the Transformer scheme, the quiry is the paticle transformation we pass throught the Grid(E,P) operator: we take a q, apply Grid(E,P)(x) to q for every x, and sum all the results in the new q_new. The pqrticles q are named as Queries. \n",
        "Well, it works like a new bith operator... We may take the first word w_1 of our target sentence, apply the operator and we will get w_1_new. In the transformer we do it with every word in our target sentence, and if we will trace how the transformer words, we will se we actually try to translate the targte phrase in w_new representations, not in the original words. \n",
        "The w_new is superposition of actions of all the other words in target sentence. Initially, we have words just as unlinked items. When we study the general statiscic of our big phrase corpus, we get 'second' quantization:any word is represented form the point of view of ALL other words. ALL is crucial here, because when we start tightly work with source/target pairs, we may expect the word menaning may change. Actually, we do it. Now we try to make a word representation from the point of view of ALL WORDS IN SENTECE. We take word w from source sentence, which is result of 'second' quantization, apply Grid(E,P) to it, and receive the result of 'third' quantization. The new 'meaning' of a word have to correspont better to our task of source to target translation.    \n",
        "We do same for the target sentence too. And then we manipulate by the new representations to get our goal of translation.   \n",
        "I did not check it , but it seems there is some analogy with Monads. Let us say we have initial item 'dog'. By staistical embedding we include ('wrap') the word dog in Monad(E,w) = Snd(E)(w) and get Snd(E)(w). We decribed it as some kind of 'birth' operator. When we manipulate by source/target, we include the dog_second = Snd(E)(dog) to dog_third=Third(E,P)(Snd(E)(dog)). And we realize it as a 'birth' operator too, which act now on 'second quantization' representations of the 'dog'. Physically, the 'third' quantization is also just a superposition of all words in vocabulary, but now the words from the source and target phrase are represented with much higher coefficients in general.  \n",
        "We also have to go out of monad. Back to our just items. We do it within learning procedure, by comparing the 'candidate' result of prediction which is a words superposition, with just item = the correct answer (word). \n",
        "### What happens within learning. \n",
        "\n",
        "\n"
      ]
    },
    {
      "cell_type": "markdown",
      "metadata": {
        "id": "-imXg9o6_29v"
      },
      "source": [
        "### Toy model of language translation.\n",
        "Let us consider two languages. We are looking for translation of one language to another. Let us make 'one hot encoding of words' in both languages. To every word we will assign a unique natural number. And all the word vectors are orthogonal. Word_j is vector will 1 in the position j and 0 in all other places in infinite dimentional vector. \n",
        "We may think we will have \"infinite dimentional \" vocabularies:\n",
        "$$V_t \\quad and \\quad V_s \\quad target \\quad and \\quad sourse $$\n",
        "Very big sized (and we do not know how big) vocabularies.  \n",
        "There is one problem: we use same numbers for numbering in both vocabularies. If we make numbering independently, same number may be assignet to word in target and source languages.  We may easily eliminate the problem by splitting the natural numbers in two parts: \n",
        "let us use odd numbers for target language numbering, and even for the source language.  \n",
        "In this case there is no \"clash\" of numbers and we managed to embed both languages in one set of numbers.\n",
        "The toy model will mean, the translation will be very simple, because the two languages are very \"strongly\" linked.  \n",
        "Let us assume to every target word there is corresponding source word, and vise versa.  \n",
        "So, for a sentence of n source words, there will correspond sentence of n words in target language of the same words , but \"translated\" to target language.  \n"
      ]
    },
    {
      "cell_type": "markdown",
      "metadata": {
        "id": "tB9rX0ppjbwp"
      },
      "source": [
        "### Higher order construct\n",
        "Let us try to collect all we have in some gigh order constructs. \n",
        "We have $$p = 1,2,..,Corpus\\_Size$$ pairs of source / target sentencies.  \n",
        "We may write it in the form:  \n",
        "$$W^0_p(x); \\ W^1_p(x): \\ x = 1,..,N=Sentence\\_Length$$  \n",
        "where $$W^0_p(k)=word_k=|k>$$\n",
        "$$ or \\ W^0_p(k)=|0> $$  \n",
        "if there are no words at k:we have \\<pad> tokens at k, our sentence is shorther than k. Using |0> we may determine our W functions on all x up to infinity, but usually we will constrain out sentencies by length N.   \n",
        "$$W^1_p(r)=word_{2r}=|2r>$$\n",
        "the k-th word in source sentence and r-th word in target sentence. \n",
        "Let us consider the operator, we will name it 'Hamiltonian', for a sentence source p: \n",
        "$$H^{init}_{p}=\\sum_x\\alpha(x)|W^0_p(x)><W^0_p(x)|; \\ x=1,..,\\infty$$  \n",
        "$$\\alpha(x)=0; \\ if \\ W^0_p(k)=|0> \\\\ $$\n",
        "$$\\alpha(x)=1/(Words_p); \\ if \\ W^0_p(k) \\not=|0>$$\n",
        "Where Words_p is number of words in source sentence p.  \n",
        "In operator form it will be: \n",
        "$$H^{init}_{p}=\\sum_x\\alpha(x)A^{*0}_p(x)A^{0}_p(x); \\ x=1,..,\\infty$$ \n",
        "\n",
        "Let $$\\{W^0_p\\}$$ is the set of all words in sentence p, in this case we can easily use $$H^{init}_p$$ to learn linear transformations corresponding superposition of words from \n",
        "$$\\{W^0_p\\}$$ \n",
        "Transformations like: \n",
        "$$L_{p}=\\beta(x)|W^0_p>; \\ x=1,..,\\infty$$ \n",
        "where \n",
        "$$\\beta(x)=0; \\ if \\ W^0_p(k)=|0>\\\\$$\n",
        "$$\\sum_w\\beta(x)=1; w\\in\\{W^0_p\\}$$\n",
        "\n",
        "\n"
      ]
    },
    {
      "cell_type": "markdown",
      "metadata": {
        "id": "ySQVWs4dGQOS"
      },
      "source": [
        "### Word renaming. \n",
        "The operator above in limited: There are no terms like: \n",
        "$$alpha(x,y)|W^1_p(x)><W^0_p(y)|; \\ x,y=1,..,\\infty$$\n",
        "We have to add the terms. \n",
        "\n"
      ]
    },
    {
      "cell_type": "markdown",
      "metadata": {
        "id": "cjpFhbVhJ4fg"
      },
      "source": [
        "### Some interrupt in the job.\n",
        "At the moment I have no many time to continue the job. It will be done later. Now I shortly try to describe what happens in the Transformer (s) case. "
      ]
    },
    {
      "cell_type": "markdown",
      "metadata": {
        "id": "AUN75O26KVYB"
      },
      "source": [
        "### What we will get after learning. \n",
        "\n",
        "Again the one hot encoding is considered. \n",
        "\n",
        "There will be several operators to the end of learning. \n",
        "********************The first one is very important and originate from the \n",
        "$$H^{init}_{p}=\\sum_x\\alpha(x)|W^0_p(x)><W^0_p(x)|; \\ x=1,..,\\infty$$ above. \n",
        "We may write it like:  \n",
        "$$$$\n",
        "$$\\Psi^{init}(W^0)=\\sum_{x}\\alpha(x)|W^1(1)><W^0_p(x)|; \\ x=1,..,N$$\n",
        "\n",
        "\n"
      ]
    },
    {
      "cell_type": "markdown",
      "metadata": {
        "id": "jeV336qgQjaS"
      },
      "source": [
        "### General 'grid' of operators\n",
        "In general case we may write the 'grid' as the tensor:\n",
        "we have input vectors of  \n",
        " size j=1,..,m  \n",
        " (correspond to the dimention of embedding in case of word vectors).  \n",
        "\n",
        "When we have a sentence with n word, i=1,..,n  \n",
        "we think about the n words vectors as 'basis' vectors which will form our 'grid' and which we will also try to transform by the 'grid' in the result we may need.  \n",
        "\n",
        "The word vectors may be described as numbers $$w^{ij}\\quad (i,j)=(1,1),..,(N,M)$$ \n",
        "$$w^j\\quad j=1,..,M$$  and our operator as :  \n",
        "\n",
        "$$G_{hl}^{rp}\\quad (h,l)=(1,1),..,(N,M) \\quad  (r,p)=(1,1),..,(N,M)$$  \n",
        "We assume the dimention of embedding of words in target sentence is also M, and source and target seentencies have same number of words: N.  \n",
        "If not, we make padding (which also bring some complications which we are to solve by such mechanisms as 'valid_length' or 'Masked_Softmax').  \n",
        "Using the Einstain convention,   \n",
        "the result of application of our operator is: \n",
        "$$t^{rp}= G_{hl}^{rp}w^{hl}\\quad (h,l)=(1,1),..,(N,M) \\quad  (r,p)=(1,1),..,(N,M)$$  \n",
        "$$ $$\n",
        "We have to add learning matrixes to the operators:  \n",
        "$$S^i_j\\quad (i,j)=(1,1),..,(M,M)$$\n",
        "and\n",
        "$$T^i_j\\quad (i,j)=(1,1),..,(M,M)$$\n",
        "$$ $$\n",
        "And operator, our 'grid' which we apply will looks like this:  \n",
        "$$t^{rp}= T^p_dG_{hl}^{rd}S^l_vw^{hv}\\quad (v,h,l)=(1,1,1),..,(M,N,M) \\quad  (d,r,p)=(1,1),..,(M,N,M)$$\n",
        "\n",
        "\n"
      ]
    },
    {
      "cell_type": "markdown",
      "metadata": {
        "id": "IhhW-I1Hf2U1"
      },
      "source": [
        "### Try to learn what we need\n",
        "\n",
        "\n",
        "\n",
        "If we have q as input and v as output (where v is a vector from the same space as q), we may use a learning mechanisms and backpropagation to calculate the needed $\\{a_i\\quad   i=1,..,n\\}.$.  \n",
        "As the result we will get the 'grid' of operators: $$a_i|e^i><e_i| \\quad   i=1,..,n$$ which will transform out initial q to the final v. Actually, the calculation of such 'grids' , or 'states' is the essence of the Transformers: our target is to find the 'grid' which will transform the input to the output we need. The 'grid' is the grid of operators: \n",
        "for every i:  $$a_i|e^i><e_i|$$ is a martix of size $n^2$ which transform vectors of size n."
      ]
    },
    {
      "cell_type": "markdown",
      "metadata": {
        "id": "OggdopIiNfDo"
      },
      "source": [
        "### Renaming to get correspondence with NLP and Transformers. \n",
        "### Dictionary, query, key/values. \n",
        "\n",
        "Let us rename our vectors and covectors:\n",
        "$$<e^i| = <k^i|\\quad  i=1,..,n$$ and \n",
        "$$|e_i>=|v_i>\\quad   i=1,..,n $$\n",
        "And in the new notations we have: \n",
        "$$q =q^i|e_i>=(\\sum_{i=1}^n|v^i><k_i|)|q> =\\sum_{i=1}^n(|v^i><k_i|)|q>$$\n",
        "\n",
        "The Q (or a q) is from: \"Query\".  \n",
        "The K (or a k) is from: \"Key\".  \n",
        "The V (or a v) is from:  \"Value\". \n",
        "\n",
        "See the picture.... Most probably, the developers of Transformer used the 'dictionary' intuition. I use the word 'grid', which is in some correspondence  with Quantum Mechanics and operators algebra, where we pass an electron throught a grid and collect and analize what happens on the other side of the grid with our particle. We also may think about our grid of operators as a 'dictionary': it is a dictionary (in the sence of modern programming languages) of keys/values pairs : \n",
        "$$|v^i><k_i|\\quad   i=1,..,n$$  \n",
        "We may take a 'query' q, calculate the 'vector' of scores: \n",
        "$$s_i = <k_i|q>\\quad  i=1,..,n$$ where we can thing about s as a vector: \n",
        "$$|s>= (s_1, s_2,..,s_n)$$  \n",
        "and make 'dot_product' of 'vector of vectors' v:\n",
        "$$|v_i>\\quad  i=1,..,n$$\n",
        "or \n",
        "$$v=(|v_1> , |v_2>,..,|v_n>)$$  with s and get: \n",
        "$$q_{ trans}\\quad = s_i|v^i>=\\sum_{i=1}^n|v^i>(<k_i|q>) =$$\n",
        "$$=\\sum_{i=1}(|v^i><k_i|)|q>= (\\sum_{i=1}|v^i><k_i|)|q>$$\n",
        "\\\n",
        "We may have many queries: let us say we have collection Q of $$q^1,q^2,..,q^m\\quad   \\{q^i,\\quad   i=1,..,m\\}$$\n",
        "queries.\n",
        "After passing through the 'grid' of operators, we will get collection $Q_{trans}\\quad $ of:\n",
        "$$q^1_{trans}\\quad,q^2_{trans}\\quad,..,q^m_{trans}\\quad   \\{q^i_{trans},\\quad   i=1,..,m\\}$$ \n",
        "queries. \n"
      ]
    },
    {
      "cell_type": "markdown",
      "metadata": {
        "id": "k-NPh--uPkvo"
      },
      "source": [
        "### Birth , death operators again. Learning again. Orthonormal basis again. \n",
        "\n",
        "If we have orhonormal basis $$|e_i>$$ everything become very symple, usually. But usually we do not have an orthonormal basis.  \n",
        "If we believe in our system, and believe there is to be an orthonormal basis, we can 'wrap' , like a Monad wrap , our input in matrix which will transform our input vector to orthonormal vector, and make the matrix part of our learning process.  \n",
        " It means the  parameters of our matrix $o^i_j$ will be parameters which we have to learn. And we have to designate as O as the matrix of all the parameters. We will learn the O matrix.  \n",
        "In simplest case, we will have (b,a) pairs, where b is vector in orthonormal basis, and a is our sourse , original vectors. We have to learn (find) map G(O) which is parametrized by matrixes O, and we will find some $$O^*$$  \n",
        "which will maximize the V(O) which correspond to sums of all:\n",
        "$<b|G(O)|a>$  in our learning experiment.  \n",
        "Or, it will minimize the (-V(O)).  \n",
        "In case of transformer, we have to two subsystems: for sourse sentence and for target.  \n",
        "Actually, transformer works in the way, the part of learning are the $O^s$ and $O^t$  \n",
        "Our transformation is $$G(O^s,O^t)$$\n",
        "The matrixes appears in Attention Mechanism,  when we do the Linear Transformations. May be it appears in some other places too, like in PositionWise encoding, because the Transformer is structured in some othr way we discuss here, but there a lot of similarities.   \n",
        "Even if we transform s ant to to orthonormal bases, the bases will be different.  \n",
        "Even two languages correspond one to one , word by a word to each other, the name of words are different. In both languages, we may use natural numbers for words numbering of words, but we have to find the 'renumbering' to go from language to language. It means, in case of vectors we have to have orthogonal matrixes L(s,t) and L(t,s) which are reverse to each other and which have to act after the orthonormalilzation stage.   \n",
        "Our parametrization will change:  \n",
        "now we have the  $$G((L(t,s),L(s,t)),O^s,O^t)$$.  \n",
        "The 'birth' and 'death' operators are very intuitive in orthonormal basis. If we are at stage or state $|i>$ and would like to go to $|j>$ , the process is describe by operator $$|j><i|$$ or by $$A^*_jA_i$$  \n",
        "We may construct the operator:  \n",
        "$$G =\\sum_{i,j}a(j,i)A^*_jA_i$$ and learn it by showing the (j,i) transition pairs. If our system is set of cyclic transitions, like in example above, and we allow for a(i,j) to be between 0 and 1, our system wil easily learn from  the sample pairs (j,i) to maximize the sum of all:   $$V(A)=\\sum_{j,i}<j|G(A)|i>, (j,i) \\in (SetOfSamples)$$ \n",
        "Where we disignate by A matrix with elements between 0 and 1. But in this case we have to normilize the A and our vectors j and i. Most probably by $L_2(A)=1$. same for norm of j's and i's.  \n",
        "Statistic of samples, will be laso reflected in the coefficients of A matrix: the more often the (j,i) pair will appear in samples, the bigger the a(j,i) will be in the matrix.  \n",
        "We may also \n",
        "\n",
        "\n",
        "\n",
        "\n",
        "\n"
      ]
    }
  ]
}