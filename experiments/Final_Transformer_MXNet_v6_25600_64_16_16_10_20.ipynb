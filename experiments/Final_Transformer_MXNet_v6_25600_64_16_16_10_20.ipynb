{
  "nbformat": 4,
  "nbformat_minor": 0,
  "metadata": {
    "colab": {
      "name": "Final_Transformer_MXNet_v6_25600_64_16_16_10_20",
      "provenance": [],
      "collapsed_sections": [],
      "authorship_tag": "ABX9TyNuSqxu7iXAYBaVqrKo7DBJ",
      "include_colab_link": true
    },
    "kernelspec": {
      "name": "python3",
      "display_name": "Python 3"
    }
  },
  "cells": [
    {
      "cell_type": "markdown",
      "metadata": {
        "id": "view-in-github",
        "colab_type": "text"
      },
      "source": [
        "<a href=\"https://colab.research.google.com/github/Dmitri9149/Transformer_From_Scratch/blob/main/Final_Transformer_MXNet_v6_25600_64_16_16_10_20.ipynb\" target=\"_parent\"><img src=\"https://colab.research.google.com/assets/colab-badge.svg\" alt=\"Open In Colab\"/></a>"
      ]
    },
    {
      "cell_type": "code",
      "metadata": {
        "id": "se3XU8H6kLYd",
        "outputId": "30a893a6-b77e-4424-ab97-462ead738f88",
        "colab": {
          "base_uri": "https://localhost:8080/",
          "height": 1000
        }
      },
      "source": [
        "!pip install -U mxnet-cu101==1.7.0\n",
        "!pip install d2l==0.14.4\n"
      ],
      "execution_count": null,
      "outputs": [
        {
          "output_type": "stream",
          "text": [
            "Collecting mxnet-cu101==1.7.0\n",
            "\u001b[?25l  Downloading https://files.pythonhosted.org/packages/40/26/9655677b901537f367c3c473376e4106abc72e01a8fc25b1cb6ed9c37e8c/mxnet_cu101-1.7.0-py2.py3-none-manylinux2014_x86_64.whl (846.0MB)\n",
            "\u001b[K     |███████████████████████████████▌| 834.1MB 1.4MB/s eta 0:00:09tcmalloc: large alloc 1147494400 bytes == 0x66142000 @  0x7ff8371ed615 0x591f47 0x4cc229 0x4cc38b 0x50a51c 0x50c1f4 0x507f24 0x509c50 0x50a64d 0x50c1f4 0x507f24 0x509c50 0x50a64d 0x50cfd6 0x58e793 0x50c467 0x58e793 0x50c467 0x58e793 0x50c467 0x58e793 0x50c467 0x509918 0x50a64d 0x50c1f4 0x507f24 0x509c50 0x50a64d 0x50c1f4 0x509918 0x50a64d\n",
            "\u001b[K     |████████████████████████████████| 846.0MB 21kB/s \n",
            "\u001b[?25hRequirement already satisfied, skipping upgrade: numpy<2.0.0,>1.16.0 in /usr/local/lib/python3.6/dist-packages (from mxnet-cu101==1.7.0) (1.18.5)\n",
            "Collecting graphviz<0.9.0,>=0.8.1\n",
            "  Downloading https://files.pythonhosted.org/packages/53/39/4ab213673844e0c004bed8a0781a0721a3f6bb23eb8854ee75c236428892/graphviz-0.8.4-py2.py3-none-any.whl\n",
            "Requirement already satisfied, skipping upgrade: requests<3,>=2.20.0 in /usr/local/lib/python3.6/dist-packages (from mxnet-cu101==1.7.0) (2.23.0)\n",
            "Requirement already satisfied, skipping upgrade: chardet<4,>=3.0.2 in /usr/local/lib/python3.6/dist-packages (from requests<3,>=2.20.0->mxnet-cu101==1.7.0) (3.0.4)\n",
            "Requirement already satisfied, skipping upgrade: urllib3!=1.25.0,!=1.25.1,<1.26,>=1.21.1 in /usr/local/lib/python3.6/dist-packages (from requests<3,>=2.20.0->mxnet-cu101==1.7.0) (1.24.3)\n",
            "Requirement already satisfied, skipping upgrade: idna<3,>=2.5 in /usr/local/lib/python3.6/dist-packages (from requests<3,>=2.20.0->mxnet-cu101==1.7.0) (2.10)\n",
            "Requirement already satisfied, skipping upgrade: certifi>=2017.4.17 in /usr/local/lib/python3.6/dist-packages (from requests<3,>=2.20.0->mxnet-cu101==1.7.0) (2020.6.20)\n",
            "Installing collected packages: graphviz, mxnet-cu101\n",
            "  Found existing installation: graphviz 0.10.1\n",
            "    Uninstalling graphviz-0.10.1:\n",
            "      Successfully uninstalled graphviz-0.10.1\n",
            "Successfully installed graphviz-0.8.4 mxnet-cu101-1.7.0\n",
            "Collecting d2l==0.14.4\n",
            "\u001b[?25l  Downloading https://files.pythonhosted.org/packages/b4/9b/7fd84dcfa6d4f51f5671ed581e749586beb6a7432804bcf28fde32df4df7/d2l-0.14.4-py3-none-any.whl (58kB)\n",
            "\u001b[K     |████████████████████████████████| 61kB 4.6MB/s \n",
            "\u001b[?25hRequirement already satisfied: numpy in /usr/local/lib/python3.6/dist-packages (from d2l==0.14.4) (1.18.5)\n",
            "Requirement already satisfied: matplotlib in /usr/local/lib/python3.6/dist-packages (from d2l==0.14.4) (3.2.2)\n",
            "Requirement already satisfied: jupyter in /usr/local/lib/python3.6/dist-packages (from d2l==0.14.4) (1.0.0)\n",
            "Requirement already satisfied: pandas in /usr/local/lib/python3.6/dist-packages (from d2l==0.14.4) (1.1.2)\n",
            "Requirement already satisfied: pyparsing!=2.0.4,!=2.1.2,!=2.1.6,>=2.0.1 in /usr/local/lib/python3.6/dist-packages (from matplotlib->d2l==0.14.4) (2.4.7)\n",
            "Requirement already satisfied: cycler>=0.10 in /usr/local/lib/python3.6/dist-packages (from matplotlib->d2l==0.14.4) (0.10.0)\n",
            "Requirement already satisfied: python-dateutil>=2.1 in /usr/local/lib/python3.6/dist-packages (from matplotlib->d2l==0.14.4) (2.8.1)\n",
            "Requirement already satisfied: kiwisolver>=1.0.1 in /usr/local/lib/python3.6/dist-packages (from matplotlib->d2l==0.14.4) (1.2.0)\n",
            "Requirement already satisfied: nbconvert in /usr/local/lib/python3.6/dist-packages (from jupyter->d2l==0.14.4) (5.6.1)\n",
            "Requirement already satisfied: jupyter-console in /usr/local/lib/python3.6/dist-packages (from jupyter->d2l==0.14.4) (5.2.0)\n",
            "Requirement already satisfied: qtconsole in /usr/local/lib/python3.6/dist-packages (from jupyter->d2l==0.14.4) (4.7.7)\n",
            "Requirement already satisfied: notebook in /usr/local/lib/python3.6/dist-packages (from jupyter->d2l==0.14.4) (5.3.1)\n",
            "Requirement already satisfied: ipywidgets in /usr/local/lib/python3.6/dist-packages (from jupyter->d2l==0.14.4) (7.5.1)\n",
            "Requirement already satisfied: ipykernel in /usr/local/lib/python3.6/dist-packages (from jupyter->d2l==0.14.4) (4.10.1)\n",
            "Requirement already satisfied: pytz>=2017.2 in /usr/local/lib/python3.6/dist-packages (from pandas->d2l==0.14.4) (2018.9)\n",
            "Requirement already satisfied: six in /usr/local/lib/python3.6/dist-packages (from cycler>=0.10->matplotlib->d2l==0.14.4) (1.15.0)\n",
            "Requirement already satisfied: nbformat>=4.4 in /usr/local/lib/python3.6/dist-packages (from nbconvert->jupyter->d2l==0.14.4) (5.0.7)\n",
            "Requirement already satisfied: pandocfilters>=1.4.1 in /usr/local/lib/python3.6/dist-packages (from nbconvert->jupyter->d2l==0.14.4) (1.4.2)\n",
            "Requirement already satisfied: mistune<2,>=0.8.1 in /usr/local/lib/python3.6/dist-packages (from nbconvert->jupyter->d2l==0.14.4) (0.8.4)\n",
            "Requirement already satisfied: entrypoints>=0.2.2 in /usr/local/lib/python3.6/dist-packages (from nbconvert->jupyter->d2l==0.14.4) (0.3)\n",
            "Requirement already satisfied: testpath in /usr/local/lib/python3.6/dist-packages (from nbconvert->jupyter->d2l==0.14.4) (0.4.4)\n",
            "Requirement already satisfied: pygments in /usr/local/lib/python3.6/dist-packages (from nbconvert->jupyter->d2l==0.14.4) (2.6.1)\n",
            "Requirement already satisfied: jinja2>=2.4 in /usr/local/lib/python3.6/dist-packages (from nbconvert->jupyter->d2l==0.14.4) (2.11.2)\n",
            "Requirement already satisfied: traitlets>=4.2 in /usr/local/lib/python3.6/dist-packages (from nbconvert->jupyter->d2l==0.14.4) (4.3.3)\n",
            "Requirement already satisfied: bleach in /usr/local/lib/python3.6/dist-packages (from nbconvert->jupyter->d2l==0.14.4) (3.2.1)\n",
            "Requirement already satisfied: jupyter-core in /usr/local/lib/python3.6/dist-packages (from nbconvert->jupyter->d2l==0.14.4) (4.6.3)\n",
            "Requirement already satisfied: defusedxml in /usr/local/lib/python3.6/dist-packages (from nbconvert->jupyter->d2l==0.14.4) (0.6.0)\n",
            "Requirement already satisfied: ipython in /usr/local/lib/python3.6/dist-packages (from jupyter-console->jupyter->d2l==0.14.4) (5.5.0)\n",
            "Requirement already satisfied: jupyter-client in /usr/local/lib/python3.6/dist-packages (from jupyter-console->jupyter->d2l==0.14.4) (5.3.5)\n",
            "Requirement already satisfied: prompt-toolkit<2.0.0,>=1.0.0 in /usr/local/lib/python3.6/dist-packages (from jupyter-console->jupyter->d2l==0.14.4) (1.0.18)\n",
            "Requirement already satisfied: pyzmq>=17.1 in /usr/local/lib/python3.6/dist-packages (from qtconsole->jupyter->d2l==0.14.4) (19.0.2)\n",
            "Requirement already satisfied: ipython-genutils in /usr/local/lib/python3.6/dist-packages (from qtconsole->jupyter->d2l==0.14.4) (0.2.0)\n",
            "Requirement already satisfied: qtpy in /usr/local/lib/python3.6/dist-packages (from qtconsole->jupyter->d2l==0.14.4) (1.9.0)\n",
            "Requirement already satisfied: terminado>=0.8.1 in /usr/local/lib/python3.6/dist-packages (from notebook->jupyter->d2l==0.14.4) (0.9.1)\n",
            "Requirement already satisfied: tornado>=4 in /usr/local/lib/python3.6/dist-packages (from notebook->jupyter->d2l==0.14.4) (5.1.1)\n",
            "Requirement already satisfied: Send2Trash in /usr/local/lib/python3.6/dist-packages (from notebook->jupyter->d2l==0.14.4) (1.5.0)\n",
            "Requirement already satisfied: widgetsnbextension~=3.5.0 in /usr/local/lib/python3.6/dist-packages (from ipywidgets->jupyter->d2l==0.14.4) (3.5.1)\n",
            "Requirement already satisfied: jsonschema!=2.5.0,>=2.4 in /usr/local/lib/python3.6/dist-packages (from nbformat>=4.4->nbconvert->jupyter->d2l==0.14.4) (2.6.0)\n",
            "Requirement already satisfied: MarkupSafe>=0.23 in /usr/local/lib/python3.6/dist-packages (from jinja2>=2.4->nbconvert->jupyter->d2l==0.14.4) (1.1.1)\n",
            "Requirement already satisfied: decorator in /usr/local/lib/python3.6/dist-packages (from traitlets>=4.2->nbconvert->jupyter->d2l==0.14.4) (4.4.2)\n",
            "Requirement already satisfied: webencodings in /usr/local/lib/python3.6/dist-packages (from bleach->nbconvert->jupyter->d2l==0.14.4) (0.5.1)\n",
            "Requirement already satisfied: packaging in /usr/local/lib/python3.6/dist-packages (from bleach->nbconvert->jupyter->d2l==0.14.4) (20.4)\n",
            "Requirement already satisfied: simplegeneric>0.8 in /usr/local/lib/python3.6/dist-packages (from ipython->jupyter-console->jupyter->d2l==0.14.4) (0.8.1)\n",
            "Requirement already satisfied: pickleshare in /usr/local/lib/python3.6/dist-packages (from ipython->jupyter-console->jupyter->d2l==0.14.4) (0.7.5)\n",
            "Requirement already satisfied: setuptools>=18.5 in /usr/local/lib/python3.6/dist-packages (from ipython->jupyter-console->jupyter->d2l==0.14.4) (50.3.0)\n",
            "Requirement already satisfied: pexpect; sys_platform != \"win32\" in /usr/local/lib/python3.6/dist-packages (from ipython->jupyter-console->jupyter->d2l==0.14.4) (4.8.0)\n",
            "Requirement already satisfied: wcwidth in /usr/local/lib/python3.6/dist-packages (from prompt-toolkit<2.0.0,>=1.0.0->jupyter-console->jupyter->d2l==0.14.4) (0.2.5)\n",
            "Requirement already satisfied: ptyprocess; os_name != \"nt\" in /usr/local/lib/python3.6/dist-packages (from terminado>=0.8.1->notebook->jupyter->d2l==0.14.4) (0.6.0)\n",
            "Installing collected packages: d2l\n",
            "Successfully installed d2l-0.14.4\n"
          ],
          "name": "stdout"
        }
      ]
    },
    {
      "cell_type": "code",
      "metadata": {
        "id": "nIZmHf96M8DY"
      },
      "source": [
        "### !pip install ipython-autotime\n",
        "\n",
        "### %load_ext autotime"
      ],
      "execution_count": null,
      "outputs": []
    },
    {
      "cell_type": "code",
      "metadata": {
        "id": "VlxeCFu4pTB6"
      },
      "source": [
        "import math\n",
        "from d2l import mxnet as d2l\n",
        "from mxnet import np, npx\n",
        "from mxnet.gluon import nn\n",
        "from mxnet import np, npx, init, gluon, autograd\n",
        "import collections\n",
        "import os\n",
        "import time\n",
        "npx.set_np()\n",
        "from mxnet import autograd, np, npx\n"
      ],
      "execution_count": null,
      "outputs": []
    },
    {
      "cell_type": "markdown",
      "metadata": {
        "id": "I9SiUMN4xLyq"
      },
      "source": [
        "The code for Transformer from scratch is collected here. The code is mostly from  http://d2l.ai/chapter_attention-mechanisms/transformer.html . I did many comments to the code at most difficult points. I hope my additional code and comments will help in better understanding of the Transformer.   \n",
        "This is the original article for the Transformer : \n",
        "Vaswani, A., Shazeer, N., Parmar, N., Uszkoreit, J., Jones, L., Gomez, A. N., … Polosukhin, I. (2017). Attention is all you need. Advances in neural information processing systems (pp. 5998–6008). \n",
        "\n",
        "The future work:  \n",
        "1. To learn the Transformer on big data set.\n",
        "2. Transation from (to)  English to Finnish language.\n",
        "3. Modify the architecture of the Transformer. \n",
        "4. Better tokenization and preprocessing.\n",
        "\n",
        "\n"
      ]
    },
    {
      "cell_type": "markdown",
      "metadata": {
        "id": "VsTaZurJGlAN"
      },
      "source": [
        "### Attention Mechanism\n"
      ]
    },
    {
      "cell_type": "markdown",
      "metadata": {
        "id": "5xCH_Y6CG3RN"
      },
      "source": [
        "#### Masked softmax\n",
        "\n",
        "This is importand auxiliary function.\n",
        "\"\"\" The masked softmax takes a 3-dimensional input and enables us to filter out some elements by specifying a valid length for the last dimension.... As a result, any value outside the valid length will be masked as  0.\"\"\" (citation from d2l.ai).  \n",
        "The notion of valid length come from the need to add special <pad> token if our sentence is shorter than length we use for all sentencies in batches. The <pad> tokens will not participate in prediction. \n",
        "\n",
        "My comments are started with ### , \n",
        "the comments with one # are from the original d2l.ai code.\n",
        "\n",
        "Some functions for plotting and downloading of specific files from specific places are still taken from the d2l.ai library on GitHub : https://github.com/d2l-ai/d2l-en/blob/master/d2l/mxnet.py  But the biggest par of the code is collected here (and commented)."
      ]
    },
    {
      "cell_type": "code",
      "metadata": {
        "id": "q5eCmYbQkVZ3"
      },
      "source": [
        "### from d2l.ai\n",
        "def masked_softmax(X, valid_len):\n",
        "    \"\"\"Perform softmax by filtering out some elements.\"\"\"\n",
        "    # X: 3-D tensor, valid_len: 1-D or 2-D tensor\n",
        "\n",
        "### why 3-D tensor ?\n",
        "### first dimention; we will quantify samples within batch,  \n",
        "### so, the first dimention determines the number of samples in the batch\n",
        "###\n",
        "### second dimention; we will quantify queries, \n",
        "### we may have several queries,   \n",
        "### the second dimention determines the number of queries\n",
        "###\n",
        "### we may set up the valid lengths same for every sample in the \n",
        "### batch, i.e 1-D valid-lengh with size (batch_size, )\n",
        "### the same means : independent of the queries\n",
        "### On the contarry: we may set up  valid lengths individually for every \n",
        "### sample in a batch and for every query,  \n",
        "### in this case it will be 2-D valid length \n",
        "### with size (batch size, number of queries)\n",
        "###\n",
        "### Third parameter will correspond to the number of key/value pairs\n",
        "###\n",
        "### We may need the valid_length when: 1. we <pad> the end of a sentence: it is too \n",
        "### short, shorter than num_steps ; 2. when we use the valid_lenght in decoder \n",
        "### via training, and every word in target sentence is used as query: the query \n",
        "### can (or may ?) see the all words to the left, but not to the right (see the \n",
        "### encoder decoder code below). To handle the case we use valid_length too. \n",
        "###\n",
        "    if valid_len is None:\n",
        "        return npx.softmax(X)\n",
        "    else:\n",
        "        shape = X.shape\n",
        "        if valid_len.ndim == 1:\n",
        "            valid_len = valid_len.repeat(shape[1], axis=0)\n",
        "        else:\n",
        "            valid_len = valid_len.reshape(-1)\n",
        "        # Fill masked elements with a large negative, whose exp is 0\n",
        "        X = npx.sequence_mask(X.reshape(-1, shape[-1]), valid_len, True,\n",
        "                              axis=1, value=-1e6)\n",
        "        return npx.softmax(X).reshape(shape)"
      ],
      "execution_count": null,
      "outputs": []
    },
    {
      "cell_type": "code",
      "metadata": {
        "id": "846OVWClkhCa",
        "outputId": "5fc1ee49-e424-4c4e-d116-d8826d4abe20",
        "colab": {
          "base_uri": "https://localhost:8080/",
          "height": 105
        }
      },
      "source": [
        "### from d2l.ai\n",
        "masked_softmax(np.random.uniform(size=(2, 2, 4)), np.array([2, 3]))\n",
        "\n",
        "### 2 - number of samples in the batch\n",
        "### 2 - we make deal with 2 queries\n",
        "### 4 - four key/value pairs\n",
        "\n",
        "### for the first sample in our batch , from 4 pairs we will take \n",
        "### into account only results from first 2 pairs, the rest will be multiplied by 0,  \n",
        "### because that pairs correspond to <pad> tokens\n",
        "### for the second sample (4 key/value pairs) we will take into account \n",
        "### only results for first 3 key/value pairs (the rest will masked with 0, \n",
        "### because the rest pairs correspond to <pad> tokens)\n",
        "### this is the meaning of np.array([2,3]) as valid length\n",
        "### the velid length is not dependent from queries in this case"
      ],
      "execution_count": null,
      "outputs": [
        {
          "output_type": "execute_result",
          "data": {
            "text/plain": [
              "array([[[0.488994  , 0.511006  , 0.        , 0.        ],\n",
              "        [0.4365484 , 0.56345165, 0.        , 0.        ]],\n",
              "\n",
              "       [[0.288171  , 0.3519408 , 0.3598882 , 0.        ],\n",
              "        [0.29034296, 0.25239873, 0.45725837, 0.        ]]])"
            ]
          },
          "metadata": {
            "tags": []
          },
          "execution_count": 5
        }
      ]
    },
    {
      "cell_type": "code",
      "metadata": {
        "id": "Ty6KkQs0kiYF",
        "outputId": "a9e84afd-7cb0-4b03-9cbe-4d564a7d9c8e",
        "colab": {
          "base_uri": "https://localhost:8080/",
          "height": 70
        }
      },
      "source": [
        "### from d2l.ai\n",
        "npx.batch_dot(np.ones((2, 1, 3)), np.ones((2, 3, 2)))"
      ],
      "execution_count": null,
      "outputs": [
        {
          "output_type": "execute_result",
          "data": {
            "text/plain": [
              "array([[[3., 3.]],\n",
              "\n",
              "       [[3., 3.]]])"
            ]
          },
          "metadata": {
            "tags": []
          },
          "execution_count": 6
        }
      ]
    },
    {
      "cell_type": "code",
      "metadata": {
        "id": "WWRQYp1sPO_F",
        "outputId": "123df097-306d-4998-d59f-7df98643264a",
        "colab": {
          "base_uri": "https://localhost:8080/",
          "height": 158
        }
      },
      "source": [
        "### one more example with 1-D valid length\n",
        "valid_length = np.array([2,3])\n",
        "### the shape is (2,) : one dimentional length\n",
        "print('valid_length shape= ', valid_length.shape)\n",
        "masked_softmax(np.random.uniform (size =(2, 3, 5)), valid_length )"
      ],
      "execution_count": null,
      "outputs": [
        {
          "output_type": "stream",
          "text": [
            "valid_length shape=  (2,)\n"
          ],
          "name": "stdout"
        },
        {
          "output_type": "execute_result",
          "data": {
            "text/plain": [
              "array([[[0.6661908 , 0.33380923, 0.        , 0.        , 0.        ],\n",
              "        [0.5703486 , 0.42965135, 0.        , 0.        , 0.        ],\n",
              "        [0.52236456, 0.47763544, 0.        , 0.        , 0.        ]],\n",
              "\n",
              "       [[0.4367729 , 0.2330982 , 0.33012888, 0.        , 0.        ],\n",
              "        [0.3810022 , 0.20134084, 0.41765702, 0.        , 0.        ],\n",
              "        [0.26511037, 0.36712292, 0.36776674, 0.        , 0.        ]]])"
            ]
          },
          "metadata": {
            "tags": []
          },
          "execution_count": 7
        }
      ]
    },
    {
      "cell_type": "code",
      "metadata": {
        "id": "n_Vwfo60JtQa"
      },
      "source": [
        ""
      ],
      "execution_count": null,
      "outputs": []
    },
    {
      "cell_type": "code",
      "metadata": {
        "id": "277f-M9HPTAl",
        "outputId": "e4d55105-88ac-4227-ac2a-0c5bdddb6f24",
        "colab": {
          "base_uri": "https://localhost:8080/",
          "height": 298
        }
      },
      "source": [
        "### if we declare 2-D  valid_length\n",
        "valid_length = np.array([[3, 5, 4], [2,4, 1], [1,4, 3],[1,2,3]])\n",
        "print('valid_length shape= ', valid_length.shape)\n",
        "masked_softmax(np.random.uniform(size = (4, 3, 5)), valid_length) \n",
        "\n",
        "### Let us consider the first sample in our batch \n",
        "\n",
        "###        [[0.21225105, 0.31475353, 0.4729953 , 0.        , 0.        ,\n",
        "###         0.        ],\n",
        "###        [0.19417836, 0.20596693, 0.16711308, 0.15453914, 0.27820238,\n",
        "###         0.        ],\n",
        "###        [0.2753876 , 0.21671425, 0.30811197, 0.19978616, 0.        ,\n",
        "###         0.        ]],\n",
        "\n",
        "\n",
        "### from third dimention in np.random.uniform(size = (4, 3, 5)) we may see it correspond to \n",
        "### 5 key/value pairs (that is why the length of the lines is 5)\n",
        "### second dimention in np.random.uniform(size = (4, 3, 5)) means the results are obtained from \n",
        "### 3 queries, that is why there are 3 lines corresponding to every batch\n",
        "###\n",
        "### Below we may see there are 4 groups, because the first dimention, the \n",
        "### number of samples, is 4 (batch size)\n",
        "###\n",
        "### np.array([[3, 5, 4], [2,4, 1], [1,4, 3],[1,2,3]])  \n",
        "### is 2-D array (of size 4 * 3 in our case))\n",
        "### 4 is batch size, 3 is number of queries : we have 4 groups with 3 lines in each; \n",
        "### the [3,5,4] subarray correspond to the first sample in the batch,  \n",
        "### in the first group : the first line has first 3 non zero elements, \n",
        "### the second line 5 first non zero and third line 4 first non zero elements. \n"
      ],
      "execution_count": null,
      "outputs": [
        {
          "output_type": "stream",
          "text": [
            "valid_length shape=  (4, 3)\n"
          ],
          "name": "stdout"
        },
        {
          "output_type": "execute_result",
          "data": {
            "text/plain": [
              "array([[[0.4133883 , 0.37343267, 0.21317907, 0.        , 0.        ],\n",
              "        [0.19114935, 0.12327141, 0.18280292, 0.27470675, 0.22806959],\n",
              "        [0.28482115, 0.18790206, 0.25587142, 0.27140537, 0.        ]],\n",
              "\n",
              "       [[0.3571165 , 0.6428835 , 0.        , 0.        , 0.        ],\n",
              "        [0.33235466, 0.21550561, 0.19182019, 0.2603195 , 0.        ],\n",
              "        [1.        , 0.        , 0.        , 0.        , 0.        ]],\n",
              "\n",
              "       [[1.        , 0.        , 0.        , 0.        , 0.        ],\n",
              "        [0.23461454, 0.19674575, 0.31332123, 0.25531843, 0.        ],\n",
              "        [0.18806307, 0.46701482, 0.34492216, 0.        , 0.        ]],\n",
              "\n",
              "       [[1.        , 0.        , 0.        , 0.        , 0.        ],\n",
              "        [0.42741585, 0.5725841 , 0.        , 0.        , 0.        ],\n",
              "        [0.23219864, 0.34646067, 0.42134076, 0.        , 0.        ]]])"
            ]
          },
          "metadata": {
            "tags": []
          },
          "execution_count": 8
        }
      ]
    },
    {
      "cell_type": "markdown",
      "metadata": {
        "id": "qxiF2bdujQHW"
      },
      "source": [
        "### Dot product attention\n",
        "\n",
        "#### Why we need it, how it is calculated\n",
        "\n"
      ]
    },
    {
      "cell_type": "markdown",
      "metadata": {
        "id": "GabuXpxG54vE"
      },
      "source": [
        "We have query with dimension `d`.\n",
        "We have #kv_pairs:  key/value pairs. Every key and value are vectors of dimension `d`. We pass the query trought the 'grid' with the leng of #kv_pairs and get #kv_pairs of scores. How it works within the pass: we make dot product of query with every of #kv_pairs keys in the 'grid' and get a #kv_pairs scores. We also normilize the scores by dividing on $\\sqrt{d}$.    \n",
        "If we have batch with size batch_size and number of queries = #queries, we will get tensor of scores of size (batch_size, #queries, #kv_pairs). \n",
        "In this way we receive the attention_weights tensor.\n",
        "We also have tensor 'value' of values of size (batch_size, #kv_pairs, dim_v). \n",
        "Finally, using npx.batch_dot(attention_weights, value) we will get tensor of size (batch_size, #queries, dim_v) which corresponf of the 'passing' our queries throught the 'grid' of key/value pairs: for every query, for every sample in the batch we will get the transformed vector of size dim_v.  \n"
      ]
    },
    {
      "cell_type": "code",
      "metadata": {
        "id": "bCGtMEgIkmRK"
      },
      "source": [
        "### from d2l.ai book\n",
        "class DotProductAttention(nn.Block):\n",
        "    def __init__(self, dropout, **kwargs):\n",
        "        super(DotProductAttention, self).__init__(**kwargs)\n",
        "        self.dropout = nn.Dropout(dropout)\n",
        "\n",
        "    # `query`: (`batch_size`, #queries, `d`)\n",
        "    # `key`: (`batch_size`, #kv_pairs, `d`)\n",
        "    # `value`: (`batch_size`, #kv_pairs, `dim_v`)\n",
        "    # `valid_len`: either (`batch_size`, ) or (`batch_size`, xx)\n",
        "    def forward(self, query, key, value, valid_len=None):\n",
        "        d = query.shape[-1]\n",
        "        # Set transpose_b=True to swap the last two dimensions of key\n",
        "        scores = npx.batch_dot(query, key, transpose_b=True) / math.sqrt(d)\n",
        "        attention_weights = self.dropout(masked_softmax(scores, valid_len))\n",
        "        return npx.batch_dot(attention_weights, value)\n"
      ],
      "execution_count": null,
      "outputs": []
    },
    {
      "cell_type": "code",
      "metadata": {
        "id": "3JF5Sxa6kqDq"
      },
      "source": [
        "if False:\n",
        "   ### the code from d2l.ai\n",
        "  atten = DotProductAttention(dropout=0.5)\n",
        "  atten.initialize()\n",
        "  ### batch size of 2, #kv_pairs = 10, every key is vector of size 2 with \n",
        "  ### ones : (1.,1.)\n",
        "  keys = np.ones((2, 10, 2))\n",
        "  ### we start with vector which keep float numbers from 0 to 39; \n",
        "  ### reshape it to tensor which model one sample batch with 10 key/value pairs and \n",
        "  ### dimension of values dim_v = 4; finally we repeat the construction to get 2 \n",
        "  ### similar samples (batch with 2 samples).\n",
        "  values = np.arange(40).reshape(1, 10, 4).repeat(2, axis=0)\n",
        "  atten(np.ones((2, 1, 2)), keys, values, np.array([2, 6]))\n"
      ],
      "execution_count": null,
      "outputs": []
    },
    {
      "cell_type": "code",
      "metadata": {
        "id": "WklkVqgAq8lC"
      },
      "source": [
        "if False:\n",
        "  atten = DotProductAttention(dropout=0.5)\n",
        "  atten.initialize()\n",
        "  keys = np.ones((3,10,5)) # keys in batch of size 3; for every line in batch we have \n",
        "  ### 10 keys/values pairs ; where every key is  5 dimentional vector (and value will be 7 dimentional vector); \n",
        "  ### each key is forming pair with value, there are 10 such pairs\n",
        "\n",
        "  values = np.arange(70).reshape(1,10,7).repeat(3, axis =0) # values in batch of \n",
        "  ### size 3 ; 10 values with 7 dimentional vector each;\n",
        "  ### in our batch the 3 samples are identical by construction\n",
        "\n",
        "  queries = np.ones((3,4,5)) # quiries in batch of size 3, there are 4 queries, \n",
        "  ### where every query is vector of size 5 (same size as for key)\n",
        "\n",
        "  atten(queries, keys, values, np.array([3, 8, 6]))  # values in batch of size 3 ; \n",
        "  ### 4 quiry per every sample in batch where every query is vector of size 5 \n",
        "\n",
        "  ### the valid_len is 1-D\n",
        "  ### for the 3 samples the valid_length have size 3 , 8 , 6 ; \n",
        "  ### size 3 for first sample , ....., ..... size 6 for the last sample\n",
        "\n",
        "  ### the outputs are: \n",
        "  ### for every entry in the batch (for every of the 3 samples)\n",
        "  ### for every of 4 queries\n",
        "  ### total : 3*4 = 12 final values: vectors of size 7 \n",
        "  ### the values are different for different samples in the batch , \n",
        "  ### because we used different valid length, \n",
        "  ### but for every sample group in the batch (same sample, different queries), \n",
        "  ### all 4 final values are the same: \n",
        "  ### even we use 4 queries, all the quiries are equal in our case "
      ],
      "execution_count": null,
      "outputs": []
    },
    {
      "cell_type": "markdown",
      "metadata": {
        "id": "1qHhjcNvy3xJ"
      },
      "source": [
        "### Multihead Attention\n",
        "\n",
        "\"\"\" The *multi-head attention* layer consists of $h$ parallel self-attention layers, each one is called a *head*. For each head, before feeding into the attention layer, we project the queries, keys, and values with three dense layers with hidden sizes $p_q$, $p_k$, and $p_v$, respectively. The outputs of these $h$ attention heads are concatenated and then processed by a final dense layer.\n",
        "\n",
        "\n",
        "![Multi-head attention](../img/multi-head-attention.svg)\n",
        "\n",
        "\n",
        "Assume that the dimension for a query, a key, and a value are $d_q$, $d_k$, and $d_v$, respectively. Then, for each head $i=1,\\ldots, h$, we can train learnable parameters\n",
        "$\\mathbf W_q^{(i)}\\in\\mathbb R^{p_q\\times d_q}$,\n",
        "$\\mathbf W_k^{(i)}\\in\\mathbb R^{p_k\\times d_k}$,\n",
        "and $\\mathbf W_v^{(i)}\\in\\mathbb R^{p_v\\times d_v}$. Therefore, the output for each head is\n",
        "\n",
        "$$\\mathbf o^{(i)} = \\mathrm{attention}(\\mathbf W_q^{(i)}\\mathbf q, \\mathbf W_k^{(i)}\\mathbf k,\\mathbf W_v^{(i)}\\mathbf v),$$\n",
        "\n",
        "where $\\textrm{attention}$ can be any attention layer, such as the `DotProductAttention` and `MLPAttention` as we introduced in :numref:`sec_attention`.\n",
        "\n",
        "\n",
        "\n",
        "After that, the output with length $p_v$ from each of the $h$ attention heads are concatenated to be an output of length $h p_v$, which is then passed the final dense layer with $d_o$ hidden units. The weights of this dense layer can be denoted by $\\mathbf W_o\\in\\mathbb R^{d_o\\times h p_v}$. As a result, the multi-head attention output will be\n",
        "\n",
        "$$\\mathbf o = \\mathbf W_o \\begin{bmatrix}\\mathbf o^{(1)}\\\\\\vdots\\\\\\mathbf o^{(h)}\\end{bmatrix}.$$\n",
        "\n",
        "\n",
        "Now we can implement the multi-head attention. Assume that the multi-head attention contain the number heads `num_heads` $=h$, the hidden size `num_hiddens` $=p_q=p_k=p_v$ are the same for the query,  key, and value dense layers. In addition, since the multi-head attention keeps the same dimensionality between its input and its output, we have the output feature size $d_o =$ `num_hiddens` as well. \"\"\" (citation from d2l.ai book). \n"
      ]
    },
    {
      "cell_type": "markdown",
      "metadata": {
        "id": "J618Qc3qMu1j"
      },
      "source": [
        "There are some problems in the d2l.ai text, there is stated :   \n",
        "$p_q$ = $p_k$ = $p_v$ = num_hiddens,  \n",
        "and \n",
        "$d_o =$ `num_hiddens` as well.  \n",
        "So, we have $W_o$ transformation from input of size (num_heads * num_hiddens) to output of size (num_hiddens). If h > 1, the input size and output size can not be equal. But in the PyTorch code in the d2l.ai we have:  \n",
        "self.W_o = nn.Linear(num_hiddens, num_hiddens, bias=bias) \n",
        "with equal input and output. It is hidden in the d2l.ai \n",
        "MXNet code: self.W_o = nn.Dense(num_hiddens, use_bias=use_bias, flatten=False), because in the \n",
        "case of Gluon Dense layer we state only output dimension (num_hiddens in the case). The input dimension is not stated. \n",
        "\n",
        "There is also assumed in the code below (from d2l.ai book), the num_hiddens is multiple of num_heads. No assumptions about it in the main text of the book. But in the d2l.ai code the assumption is used.\n",
        "\n",
        "The ony interpretation to the code below I may give now:  \n",
        "$p_v$ * num_heads=num_hiddens  (same for  $p_q$ = $p_k$ = $p_v$),  \n",
        "but not $p_v$=num_hiddens.  \n",
        "I will interpret the code with the assumption.  \n",
        "\n"
      ]
    },
    {
      "cell_type": "code",
      "metadata": {
        "id": "2WvAyhjFk4qS"
      },
      "source": [
        "### from d2l.ai\n",
        "class MultiHeadAttention(nn.Block):\n",
        "    def __init__(self, num_hiddens, num_heads, dropout, use_bias=False, **kwargs):\n",
        "        super(MultiHeadAttention, self).__init__(**kwargs)\n",
        "        self.num_heads = num_heads\n",
        "        self.attention = d2l.DotProductAttention(dropout)\n",
        "### here, as I understand, the num_hiddens = num_heads * p_v \n",
        "### where p_v (see the text above) is the dimension of the vector \n",
        "### to which a query is transformed by single head,\n",
        "### the size of p_v is to be (num_hidden/num_heads)\n",
        "### it explains what the code below do\n",
        "        self.W_q = nn.Dense(num_hiddens, use_bias=use_bias, flatten=False)\n",
        "        self.W_k = nn.Dense(num_hiddens, use_bias=use_bias, flatten=False)\n",
        "        self.W_v = nn.Dense(num_hiddens, use_bias=use_bias, flatten=False)\n",
        "### if every head transform query of size `dim` = num_hiddens to \n",
        "### p_v = p_q = p_k = (num_hidden/num_heads), when we \n",
        "### concatenate num_heads of such queries, we will get \n",
        "### vector of size num_hidden again; \n",
        "### it explains the input / output dimensions for W_o : \n",
        "### input and output have same dimension = num_hiddens\n",
        "        self.W_o = nn.Dense(num_hiddens, use_bias=use_bias, flatten=False)\n",
        "\n",
        "\n",
        "### every query generate num_heads outputs , which we cancatenate in \n",
        "### one vector of dimention num_hiddens : so the output of every query is \n",
        "### of size num_heads / num_hiddens;\n",
        "### to apply self-attention we de-cancatenate the combined output \n",
        "### to hum_heads of separate outputs from every query \n",
        "### with size (num_hiddens / num_heads), and \n",
        "### simultaneously recombine them in single batch (with size num_heads),\n",
        "### which increase the total batch size to (batch_size * num_heads)\n",
        "### We have to correct the valid_length to take into account \n",
        "### the num_heads query transformtions are combined now in single batch.\n",
        "### After application of self_attention, we make the reverse operation: \n",
        "### locate the batch samples which correspond to the outputs of the same query \n",
        "### in different heads, and concatenate them again in one combined output.\n",
        "### The number of batches decrease and the length of output increase by the \n",
        "### same factor num_heads.\n",
        "### These are the roles of transpose_qkv , transpose_output functions below:\n",
        "    def forward(self, query, key, value, valid_len):\n",
        "        # For self-attention, `query`, `key`, and `value` shape:\n",
        "        # (`batch_size`, `seq_len`, `dim`), where `seq_len` is the length of\n",
        "        # input sequence. `valid_len` shape is either (`batch_size`, ) or\n",
        "        # (`batch_size`, `seq_len`).\n",
        "\n",
        "        # Project and transpose `query`, `key`, and `value` from\n",
        "        # (`batch_size`, `seq_len`, `num_hiddens`) to\n",
        "        # (`batch_size` * `num_heads`, `seq_len`, `num_hiddens` / `num_heads`)\n",
        "        query = transpose_qkv(self.W_q(query), self.num_heads)\n",
        "        key = transpose_qkv(self.W_k(key), self.num_heads)\n",
        "        value = transpose_qkv(self.W_v(value), self.num_heads)\n",
        "\n",
        "        if valid_len is not None:\n",
        "            # Copy `valid_len` by `num_heads` times\n",
        "            if valid_len.ndim == 1:\n",
        "                valid_len = np.tile(valid_len, self.num_heads)\n",
        "            else:\n",
        "                valid_len = np.tile(valid_len, (self.num_heads, 1))\n",
        "\n",
        "        # For self-attention, `output` shape:\n",
        "        # (`batch_size` * `num_heads`, `seq_len`, `num_hiddens` / `num_heads`)\n",
        "        output = self.attention(query, key, value, valid_len)\n",
        "\n",
        "        # `output_concat` shape: (`batch_size`, `seq_len`, `num_hiddens`)\n",
        "        output_concat = transpose_output(output, self.num_heads)\n",
        "        return self.W_o(output_concat)\n"
      ],
      "execution_count": null,
      "outputs": []
    },
    {
      "cell_type": "code",
      "metadata": {
        "id": "7yIscKTuk6nL"
      },
      "source": [
        "### from d2l.ai\n",
        "def transpose_qkv(X, num_heads):\n",
        "    # Input `X` shape: (`batch_size`, `seq_len`, `num_hiddens`).\n",
        "    # Output `X` shape:\n",
        "    # (`batch_size`, `seq_len`, `num_heads`, `num_hiddens` / `num_heads`)\n",
        "    X = X.reshape(X.shape[0], X.shape[1], num_heads, -1)\n",
        "\n",
        "    # `X` shape:\n",
        "    # (`batch_size`, `num_heads`, `seq_len`, `num_hiddens` / `num_heads`)\n",
        "    X = X.transpose(0, 2, 1, 3)\n",
        "\n",
        "    # `output` shape:\n",
        "    # (`batch_size` * `num_heads`, `seq_len`, `num_hiddens` / `num_heads`)\n",
        "    output = X.reshape(-1, X.shape[2], X.shape[3])\n",
        "    return output\n",
        "\n",
        "\n",
        "### from d2l.ai\n",
        "def transpose_output(X, num_heads):\n",
        "    # A reversed version of `transpose_qkv`\n",
        "    X = X.reshape(-1, num_heads, X.shape[1], X.shape[2])\n",
        "    X = X.transpose(0, 2, 1, 3)\n",
        "    return X.reshape(X.shape[0], X.shape[1], -1)\n"
      ],
      "execution_count": null,
      "outputs": []
    },
    {
      "cell_type": "code",
      "metadata": {
        "id": "n5rGL8xek-US"
      },
      "source": [
        "if False:\n",
        "  ### from d2l.ai\n",
        "  ### num_hiddens = 100, num_heads=10\n",
        "  cell = MultiHeadAttention(100, 10, 0.5)\n",
        "  cell.initialize()\n",
        "  X = np.ones((2, 4, 5))\n",
        "  valid_len = np.array([2, 3])\n",
        "  cell(X, X, X, valid_len).shape\n"
      ],
      "execution_count": null,
      "outputs": []
    },
    {
      "cell_type": "code",
      "metadata": {
        "id": "R83Fn2Sn-CWL"
      },
      "source": [
        "if False:\n",
        "  ### it correspond to scenario size of embedding is 512 ; num_heads = 8 ; \n",
        "  ### num_hiddens = 512\n",
        "  cell = MultiHeadAttention(512, 8, 0.5)\n",
        "  cell.initialize()\n",
        "  # num of batches is 3 ; seq_len is 20 ; size of embedding is 512\n",
        "  X = np.ones((3, 20, 512))\n",
        "  valid_len = np.array([15,17,12])\n",
        "  cell(X, X, X, valid_len).shape"
      ],
      "execution_count": null,
      "outputs": []
    },
    {
      "cell_type": "markdown",
      "metadata": {
        "id": "GTS9pWEQ_MZw"
      },
      "source": [
        "### Position-wise encoding\n",
        "\n",
        "Two 1 * 1 convolutional layers are applied. Extract \n",
        "position independent features of word representations (in the same way the convolution layers are applied in image recognition networks).  \n",
        "\"\"\" Similar to the multi-head attention, the position-wise feed-forward network will only change the last dimension size of the input—the feature dimension. In addition, if two items in the input sequence are identical, the according outputs will be identical as well. \"\"\" (citation from d2l.ai)"
      ]
    },
    {
      "cell_type": "code",
      "metadata": {
        "id": "zJFb4Mq3lD6Y"
      },
      "source": [
        "### from d2l.ai\n",
        "class PositionWiseFFN(nn.Block):\n",
        "    def __init__(self, ffn_num_hiddens, pw_num_outputs, **kwargs):\n",
        "        super(PositionWiseFFN, self).__init__(**kwargs)\n",
        "        self.dense1 = nn.Dense(ffn_num_hiddens, flatten=False,\n",
        "                               activation='relu')\n",
        "        self.dense2 = nn.Dense(pw_num_outputs, flatten=False)\n",
        "\n",
        "    def forward(self, X):\n",
        "        return self.dense2(self.dense1(X))\n"
      ],
      "execution_count": null,
      "outputs": []
    },
    {
      "cell_type": "code",
      "metadata": {
        "id": "lEFrwk6klIq8"
      },
      "source": [
        "if False:\n",
        "  ffn = PositionWiseFFN(4, 8)\n",
        "  ffn.initialize()\n",
        "  ffn(np.ones((2, 3, 4)))[0]\n"
      ],
      "execution_count": null,
      "outputs": []
    },
    {
      "cell_type": "markdown",
      "metadata": {
        "id": "xJz6_7utLNvG"
      },
      "source": [
        "### Add and Norm\n",
        "\"\"\" we add a layer that contains a residual structure and a layer normalization after both the multi-head attention layer and the position-wise FFN network. Layer normalization is similar to batch normalization ........ One difference is that the mean and variances for the layer normalization are calculated along the last dimension, e.g X.mean(axis=-1) instead of the first batch dimension, e.g., X.mean(axis=0). Layer normalization prevents the range of values in the layers from changing too much, which allows faster training and better generalization ability. \"\"\" (citation from d2l.ai)"
      ]
    },
    {
      "cell_type": "code",
      "metadata": {
        "id": "q31gjuTWLyUg"
      },
      "source": [
        "if False:\n",
        "  ### from d2l.ai\n",
        "  layer = nn.LayerNorm()\n",
        "  layer.initialize()\n",
        "  batch = nn.BatchNorm()\n",
        "  batch.initialize()\n",
        "  X = np.array([[1, 2], [2, 3]])\n",
        "  # Compute mean and variance from `X` in the training mode\n",
        "  with autograd.record():\n",
        "      print('layer norm:', layer(X), '\\nbatch norm:', batch(X))"
      ],
      "execution_count": null,
      "outputs": []
    },
    {
      "cell_type": "markdown",
      "metadata": {
        "id": "WaYlKHljMB6l"
      },
      "source": [
        "\n",
        "\"\"\"AddNorm accepts two inputs X and Y. We can deem X as the original input in the residual network, and Y as the outputs from either the multi-head attention layer or the position-wise FFN network. In addition, we apply dropout on Y for regularization.\"\"\" citation from d2l.ai"
      ]
    },
    {
      "cell_type": "code",
      "metadata": {
        "id": "KTwTY_wtlNP6"
      },
      "source": [
        "### from d2l.ai\n",
        "class AddNorm(nn.Block):\n",
        "    def __init__(self, dropout, **kwargs):\n",
        "        super(AddNorm, self).__init__(**kwargs)\n",
        "        self.dropout = nn.Dropout(dropout)\n",
        "        self.ln = nn.LayerNorm()\n",
        "\n",
        "    def forward(self, X, Y):\n",
        "        return self.ln(self.dropout(Y) + X)\n"
      ],
      "execution_count": null,
      "outputs": []
    },
    {
      "cell_type": "code",
      "metadata": {
        "id": "w61BnqdalQbB"
      },
      "source": [
        "if False:\n",
        "  ### d2l.ai\n",
        "  add_norm = AddNorm(0.5)\n",
        "  add_norm.initialize()\n",
        "  add_norm(np.ones((2, 3, 4)), np.ones((2, 3, 4))).shape\n"
      ],
      "execution_count": null,
      "outputs": []
    },
    {
      "cell_type": "markdown",
      "metadata": {
        "id": "iKDZY55-A59e"
      },
      "source": [
        "### Positional Encoding"
      ]
    },
    {
      "cell_type": "code",
      "metadata": {
        "id": "hKa5KWQglWH_"
      },
      "source": [
        "### I used the code as alternative to the original positional encoding; \n",
        "### just encode position of words (tokens) in sentence ,\n",
        "### it changes the results , but the results are quite well. \n",
        "if False:\n",
        "      ### from d2l.ai\n",
        "      class PositionalEncoding(nn.Block):\n",
        "          def __init__(self, num_hiddens, dropout, max_len=100):\n",
        "              super(PositionalEncoding, self).__init__()\n",
        "              self.dropout = nn.Dropout(dropout)\n",
        "              # Create a long enough `P`\n",
        "      ### max_len correspond to sequence length ; \n",
        "      ### num_hiddens correspond to embedding size\n",
        "      ###         \n",
        "              self.P = np.zeros((1, max_len, num_hiddens))\n",
        "      ###        X = np.arange(0, max_len).reshape(-1, 1) / np.power(\n",
        "      ###            10000, np.arange(0, num_hiddens, 2) / num_hiddens)\n",
        "      ###        self.P[:, :, 0::2] = np.sin(X)\n",
        "      ###        self.P[:, :, 1::2] = np.cos(X)\n",
        "\n",
        "\n",
        "      ###################### my code be carefull !!!!!\n",
        "              X = np.arange(0, max_len).reshape(-1, 1) / max_len\n",
        "      ###            10000, np.arange(0, num_hiddens, 2) / num_hiddens)\n",
        "              self.P[:, :, 0::1] = np.sin(X)\n",
        "      ###        self.P[:, :, 1::2] = np.cos(X)\n",
        "      ################################\n",
        "\n",
        "\n",
        "          def forward(self, X):\n",
        "              X = X + self.P[:, :X.shape[1], :].as_in_ctx(X.ctx)\n",
        "              return self.dropout(X)\n"
      ],
      "execution_count": null,
      "outputs": []
    },
    {
      "cell_type": "code",
      "metadata": {
        "id": "SvVLBV6jMqyz"
      },
      "source": [
        "### from d2l.ai\n",
        "class PositionalEncoding(nn.Block):\n",
        "    def __init__(self, num_hiddens, dropout, max_len=1000):\n",
        "        super(PositionalEncoding, self).__init__()\n",
        "        self.dropout = nn.Dropout(dropout)\n",
        "        # Create a long enough `P`\n",
        "### max_len correspond to sequence length ; \n",
        "### num_hiddens correspond to embedding size\n",
        "        self.P = np.zeros((1, max_len, num_hiddens))\n",
        "        X = np.arange(0, max_len).reshape(-1, 1) / np.power(\n",
        "            10000, np.arange(0, num_hiddens, 2) / num_hiddens)\n",
        "        self.P[:, :, 0::2] = np.sin(X)\n",
        "        self.P[:, :, 1::2] = np.cos(X)\n",
        "\n",
        "    def forward(self, X):\n",
        "        X = X + self.P[:, :X.shape[1], :].as_in_ctx(X.ctx)\n",
        "        return self.dropout(X)"
      ],
      "execution_count": null,
      "outputs": []
    },
    {
      "cell_type": "code",
      "metadata": {
        "id": "I_2Ew2GWlZUh"
      },
      "source": [
        "if False:\n",
        "  ### from d2l.ai\n",
        "  ### num_hiddens = 20 , dropout = 0\n",
        "  pe = PositionalEncoding(20, 0)\n",
        "  pe.initialize()\n",
        "  ### we assume batch_size = 1; max_length = 100 correspond to tokens (here words) in our line;\n",
        "  ### num_hiddens = 20 (embedding size)\n",
        "  ### \n",
        "  Y = pe(np.zeros((1, 100, 20)))\n",
        "  ### dim correspond to coordinate in embedding vector of out tokens (words)\n",
        "  d2l.plot(np.arange(100), Y[0, :, 4:8].T, figsize=(6, 2.5),\n",
        "          legend=[\"dim %d\" % p for p in [4, 5, 6, 7]])\n"
      ],
      "execution_count": null,
      "outputs": []
    },
    {
      "cell_type": "markdown",
      "metadata": {
        "id": "k2GyVY8oey9I"
      },
      "source": [
        "### Encoder\n",
        "\n",
        "\"\"\"Armed with all the essential components of Transformer, let us first build a Transformer encoder block. This encoder contains a multi-head attention layer, a position-wise feed-forward network, and two “add and norm” connection blocks. As shown in the code, for both of the attention model and the positional FFN model in the EncoderBlock, their outputs’ dimension are equal to the num_hiddens. This is due to the nature of the residual block, as we need to add these outputs back to the original value during “add and norm”. \"\"\" (citation from d2l.ai)"
      ]
    },
    {
      "cell_type": "code",
      "metadata": {
        "id": "rm2rOdPXlckg"
      },
      "source": [
        "### from d2l.ai\n",
        "### this block will not change the input shape\n",
        "class EncoderBlock(nn.Block):\n",
        "    def __init__(self, num_hiddens, ffn_num_hiddens, num_heads, dropout,\n",
        "                 use_bias=False, **kwargs):\n",
        "        super(EncoderBlock, self).__init__(**kwargs)\n",
        "        self.attention = MultiHeadAttention(num_hiddens, num_heads, dropout,\n",
        "                                            use_bias)\n",
        "        self.addnorm1 = AddNorm(dropout)\n",
        "        self.ffn = PositionWiseFFN(ffn_num_hiddens, num_hiddens)\n",
        "        self.addnorm2 = AddNorm(dropout)\n",
        "\n",
        "    def forward(self, X, valid_len):\n",
        "### we sum the original input to the attention block and the output from the  \n",
        "### block + we normilize the result using AddNorm \n",
        "\n",
        "        Y = self.addnorm1(X, self.attention(X, X, X, valid_len))\n",
        "        return self.addnorm2(Y, self.ffn(Y))\n"
      ],
      "execution_count": null,
      "outputs": []
    },
    {
      "cell_type": "markdown",
      "metadata": {
        "id": "CAAQoTC30nzJ"
      },
      "source": [
        "\"\"\" Now it comes to the implementation of the entire Transformer encoder. With the Transformer encoder, $n$ blocks of `EncoderBlock` stack up one after another. Because of the residual connection, the embedding layer size $d$ is same as the Transformer block output size. Also note that we multiply the embedding output by $\\sqrt{d}$ to prevent its values from being too small. \"\"\" (citation from d2l.ai)"
      ]
    },
    {
      "cell_type": "code",
      "metadata": {
        "id": "izJGhrKRauzo"
      },
      "source": [
        "### from d2l.ai\n",
        "class Encoder(nn.Block):\n",
        "    \"\"\"The base encoder interface for the encoder-decoder architecture.\"\"\"\n",
        "    def __init__(self, **kwargs):\n",
        "        super(Encoder, self).__init__(**kwargs)\n",
        "\n",
        "    def forward(self, X, *args):\n",
        "        raise NotImplementedError"
      ],
      "execution_count": null,
      "outputs": []
    },
    {
      "cell_type": "code",
      "metadata": {
        "id": "c2wamZIhllpO"
      },
      "source": [
        "### from d2l.ai\n",
        "class TransformerEncoder(Encoder):\n",
        "    def __init__(self, vocab_size, num_hiddens, ffn_num_hiddens,\n",
        "                 num_heads, num_layers, dropout, use_bias=False, **kwargs):\n",
        "        super(TransformerEncoder, self).__init__(**kwargs)\n",
        "        self.num_hiddens = num_hiddens\n",
        "        self.embedding = nn.Embedding(vocab_size, num_hiddens)\n",
        "        self.pos_encoding = PositionalEncoding(num_hiddens, dropout)\n",
        "        self.blks = nn.Sequential()\n",
        "        for _ in range(num_layers):\n",
        "            self.blks.add(\n",
        "                EncoderBlock(num_hiddens, ffn_num_hiddens, num_heads, dropout,\n",
        "                             use_bias))\n",
        "### the order of steps:\n",
        "### firstly we apply Positinal Encoding to initial word vectors\n",
        "### FROM HERE: Then several times do:\n",
        "### apply Multihead Attention\n",
        "### apply Add Norm\n",
        "### apply PositionWise transformation\n",
        "### apply Add Norm\n",
        "### and again... Go To  FROM HERE\n",
        "    def forward(self, X, valid_len, *args):\n",
        "        X = self.pos_encoding(self.embedding(X) * math.sqrt(self.num_hiddens))\n",
        "        for blk in self.blks:\n",
        "            X = blk(X, valid_len)\n",
        "        return X\n"
      ],
      "execution_count": null,
      "outputs": []
    },
    {
      "cell_type": "markdown",
      "metadata": {
        "id": "tyZgVJaW5IpA"
      },
      "source": [
        "### Decoder\n",
        "\n",
        "\"\"\" During training, the output for the $t$-query could observe all the previous key-value pairs. It results in an different behavior from prediction. Thus, during prediction we can eliminate the unnecessary information by specifying the valid length to be $t$ for the $t^\\textrm{th}$ query. \"\"\"\n",
        "(citation from d2l.ai)"
      ]
    },
    {
      "cell_type": "code",
      "metadata": {
        "id": "S_YlpVF7lsMR"
      },
      "source": [
        "### from d2l.ai\n",
        "class DecoderBlock(nn.Block):\n",
        "    # `i` means it is the i-th block in the decoder\n",
        "### the i will be initialized from the TransformerDecoder block \n",
        "### the block will be used in TransformerDecoder in stack , \n",
        "### several blocks will be aranged in sequence, output from \n",
        "### one block will be input to the next blosk\n",
        "    def __init__(self, num_hiddens, ffn_num_hiddens, num_heads,\n",
        "                 dropout, i, **kwargs):\n",
        "        super(DecoderBlock, self).__init__(**kwargs)\n",
        "        self.i = i\n",
        "### in the block we will aplly (MultiHeadAttention + AddNorm) \n",
        "### and again (MultiHeadAttention + AddNorm)  ; \n",
        "### then we will apply PositionWiseFFN\n",
        "        self.attention1 = MultiHeadAttention(num_hiddens, num_heads, dropout)\n",
        "        self.addnorm1 = AddNorm(dropout)\n",
        "        self.attention2 = MultiHeadAttention(num_hiddens, num_heads, dropout)\n",
        "        self.addnorm2 = AddNorm(dropout)\n",
        "        self.ffn = PositionWiseFFN(ffn_num_hiddens, num_hiddens)\n",
        "        self.addnorm3 = AddNorm(dropout)\n",
        "\n",
        "    def forward(self, X, state):\n",
        "\n",
        "### we use state [0] and state[1] to keep output from TransformerEncoder : \n",
        "### enc_outputs and enc_valid_length; \n",
        "### which correspond to sentences we are translating (sentences in language FROM \n",
        "### which we translate); \n",
        "### the state [0] and state [1] are received from TransformerDecoder \n",
        "### enclosing block as shared parameter;      \n",
        "        enc_outputs, enc_valid_len = state[0], state[1]\n",
        "        # `state[2][i]` contains the past queries for this block\n",
        "### in the first block (i = 1) , at this place in code, \n",
        "### the queries = None, see the code in TransformetEncoder : \n",
        "###\n",
        "###    def init_state(self, enc_outputs, enc_valid_len, *args):\n",
        "###        return [enc_outputs, enc_valid_len, [None]*self.num_layers]\n",
        "###\n",
        "### TransformerEncoder is initialized from EncoderDecoder\n",
        "### using the 'init_state' function (see above) , as \n",
        "### we can see, the fird element in array is None for self.layers;\n",
        "### the 'init_state'  determines the 'state' in TransformerEncoder, \n",
        "### in the code above we use state[0] and state[1] to determine \n",
        "### 'enc_outputs', 'enc_valid_len' in this block \n",
        "        if state[2][self.i] is None:          \n",
        "            key_values = X \n",
        "        else:\n",
        "### queries are processed and concatenated and used as new \n",
        "### grid of key/value pairs           \n",
        "            key_values = np.concatenate((state[2][self.i], X), axis=1)\n",
        "        state[2][self.i] = key_values\n",
        "        if autograd.is_training():\n",
        "### here are are in training mode\n",
        "### below in 'attention' function we will use X as queries, \n",
        "### X correspond to all words in the target sentence within training; \n",
        "### seq_len correspond to the length of the whole target sentence; \n",
        "### we will use seq_len queries, for every sample in the batch;\n",
        "### for us important the following: \n",
        "### first query from the sentence has to be constrained \n",
        "### to first key_value pair; second: to the first two key_value pairs, \n",
        "### etc...\n",
        "### that is why the valid_len is generated in the way:           \n",
        "            batch_size, seq_len, _ = X.shape\n",
        "            # Shape: (batch_size, seq_len), the values in the j-th column\n",
        "            # are j+1\n",
        "### while training we take into account the result of passing a query \n",
        "### in target sentence throught the 'grid' of key/value pairs to the \n",
        "### left of the query ; \n",
        "### every query in the target sequence has its own valid_len and \n",
        "### the valid_len correspond to the position of a query in the \n",
        "### sentence\n",
        "            valid_len = np.tile(np.arange(1, seq_len + 1, ctx=X.ctx),\n",
        "                                (batch_size, 1))\n",
        "\n",
        "        else:\n",
        "            valid_len = None\n",
        "\n",
        "### the attention mechanism is used on key_values corresponding \n",
        "### to the target sentence key_values (then AddNorm is applied)\n",
        "        X2 = self.attention1(X, key_values, key_values, valid_len)\n",
        "        Y = self.addnorm1(X, X2)\n",
        "### the attention mechanism is used on TransformerEncoder outputs \n",
        "### key_values as the 'grid' (then AddNorm is applied);\n",
        "### the key/values are the learned pairs \n",
        "### which are originated from the source sentence\n",
        "        Y2 = self.attention2(Y, enc_outputs, enc_outputs, enc_valid_len)\n",
        "        Z = self.addnorm2(Y, Y2)\n",
        "        return self.addnorm3(Z, self.ffn(Z)), state\n"
      ],
      "execution_count": null,
      "outputs": []
    },
    {
      "cell_type": "code",
      "metadata": {
        "id": "iDNchRW5aPfd"
      },
      "source": [
        "### from d2l.ai\n",
        "class Decoder(nn.Block):\n",
        "    \"\"\"The base decoder interface for the encoder-decoder architecture.\"\"\"\n",
        "    def __init__(self, **kwargs):\n",
        "        super(Decoder, self).__init__(**kwargs)\n",
        "\n",
        "    def init_state(self, enc_outputs, *args):\n",
        "        raise NotImplementedError\n",
        "\n",
        "    def forward(self, X, state):\n",
        "        raise NotImplementedError"
      ],
      "execution_count": null,
      "outputs": []
    },
    {
      "cell_type": "code",
      "metadata": {
        "id": "MOF871y_lxOS"
      },
      "source": [
        "### from d2l.ai\n",
        "class TransformerDecoder(Decoder):\n",
        "    def __init__(self, vocab_size, num_hiddens, ffn_num_hiddens,\n",
        "                 num_heads, num_layers, dropout, **kwargs):\n",
        "        super(TransformerDecoder, self).__init__(**kwargs)\n",
        "        self.num_hiddens = num_hiddens\n",
        "        self.num_layers = num_layers\n",
        "        self.embedding = nn.Embedding(vocab_size, num_hiddens)\n",
        "        self.pos_encoding = PositionalEncoding(num_hiddens, dropout)\n",
        "\n",
        "### sequential application of several DecoderBlock's         \n",
        "        self.blks = nn.Sequential()\n",
        "        for i in range(num_layers):\n",
        "            self.blks.add(\n",
        "                DecoderBlock(num_hiddens, ffn_num_hiddens, num_heads,\n",
        "                             dropout, i))\n",
        "        self.dense = nn.Dense(vocab_size, flatten=False)\n",
        "\n",
        "\n",
        "    def init_state(self, enc_outputs, env_valid_len, *args):\n",
        "       return [enc_outputs, env_valid_len, [None]*self.num_layers]\n",
        "\n",
        "    def forward(self, X, state):\n",
        "        X = self.pos_encoding(self.embedding(X) * math.sqrt(self.num_hiddens))\n",
        "        for blk in self.blks:\n",
        "            X, state = blk(X, state)\n",
        "        return self.dense(X), state\n"
      ],
      "execution_count": null,
      "outputs": []
    },
    {
      "cell_type": "code",
      "metadata": {
        "id": "RwO0LYrSS6i1"
      },
      "source": [
        "### from d2l.ai\n",
        "### this block couples together TransformerEncoder and TransformerDecoder\n",
        "### \n",
        "class EncoderDecoder(nn.Block):\n",
        "    \"\"\"The base class for the encoder-decoder architecture.\"\"\"\n",
        "    def __init__(self, encoder, decoder, **kwargs):\n",
        "        super(EncoderDecoder, self).__init__(**kwargs)\n",
        "        self.encoder = encoder\n",
        "        self.decoder = decoder\n",
        "\n",
        "    def forward(self, enc_X, dec_X, *args):\n",
        "### the enc_outputs are moved to decoder from encoder; \n",
        "### the coupling happens in this point of code\n",
        "        enc_outputs = self.encoder(enc_X, *args)\n",
        "### initial decoder state: dec_state is calculated using the dec_outputs \n",
        "### and used as 'state' in TransformerDecoder         \n",
        "        dec_state = self.decoder.init_state(enc_outputs, *args)\n",
        "### use initial state + input dec_X to the decoder   to calculate \n",
        "### the decoder output\n",
        "        return self.decoder(dec_X, dec_state)"
      ],
      "execution_count": null,
      "outputs": []
    },
    {
      "cell_type": "markdown",
      "metadata": {
        "id": "XrqvERfDfILO"
      },
      "source": [
        "### Training"
      ]
    },
    {
      "cell_type": "code",
      "metadata": {
        "id": "NKwxMS4ZqAdM"
      },
      "source": [
        "### from d2l.ai\n",
        "### because of the padding (and valid_length) we have to filter out some entries\n",
        "class MaskedSoftmaxCELoss(gluon.loss.SoftmaxCELoss):\n",
        "    # `pred` shape: (`batch_size`, `seq_len`, `vocab_size`)\n",
        "    # `label` shape: (`batch_size`, `seq_len`)\n",
        "    # `valid_len` shape: (`batch_size`, )\n",
        "    def forward(self, pred, label, valid_len):\n",
        "        # weights shape: (batch_size, seq_len, 1)\n",
        "        weights = np.expand_dims(np.ones_like(label), axis=-1)\n",
        "        weights = npx.sequence_mask(weights, valid_len, True, axis=1)\n",
        "        return super(MaskedSoftmaxCELoss, self).forward(pred, label, weights)"
      ],
      "execution_count": null,
      "outputs": []
    },
    {
      "cell_type": "code",
      "metadata": {
        "id": "_9vQqtmNqItq"
      },
      "source": [
        "if False:\n",
        "  ### from d2l.ai \n",
        "  loss = MaskedSoftmaxCELoss()\n",
        "  loss(np.ones((3, 4, 10)), np.ones((3, 4)), np.array([4, 2, 0]))"
      ],
      "execution_count": null,
      "outputs": []
    },
    {
      "cell_type": "code",
      "metadata": {
        "id": "o70lOEd4ryf8"
      },
      "source": [
        "### from d2l.ai\n",
        "### prevents too high gradients \n",
        "def grad_clipping(model, theta):  \n",
        "    \"\"\"Clip the gradient.\"\"\"\n",
        "    if isinstance(model, gluon.Block):\n",
        "        params = [p.data() for p in model.collect_params().values()]\n",
        "    else:\n",
        "        params = model.params\n",
        "    norm = math.sqrt(sum((p.grad ** 2).sum() for p in params))\n",
        "    if norm > theta:\n",
        "        for param in params:\n",
        "            param.grad[:] *= theta / norm"
      ],
      "execution_count": null,
      "outputs": []
    },
    {
      "cell_type": "code",
      "metadata": {
        "id": "c4IEuqKWH0Oa"
      },
      "source": [
        "### from d2l.ai\n",
        "### accumulate results in one array, auxiliary function\n",
        "class Accumulator:\n",
        "    \"\"\"For accumulating sums over `n` variables.\"\"\"\n",
        "    def __init__(self, n):\n",
        "        self.data = [0.0] * n\n",
        "\n",
        "    def add(self, *args):\n",
        "        self.data = [a + float(b) for a, b in zip(self.data, args)]\n",
        "\n",
        "    def reset(self):\n",
        "        self.data = [0.0] * len(self.data)\n",
        "\n",
        "    def __getitem__(self, idx):\n",
        "        return self.data[idx]"
      ],
      "execution_count": null,
      "outputs": []
    },
    {
      "cell_type": "code",
      "metadata": {
        "id": "2nalImXie535"
      },
      "source": [
        "### from d2l.ai\n",
        "def train_s2s_ch9(model, data_iter, lr, num_epochs, device):\n",
        "    model.initialize(init.Xavier(), force_reinit=True, ctx=device)\n",
        "    trainer = gluon.Trainer(model.collect_params(),\n",
        "                            'adam', {'learning_rate': lr})\n",
        "    loss = MaskedSoftmaxCELoss()\n",
        "    animator = d2l.Animator(xlabel='epoch', ylabel='loss',\n",
        "                            xlim=[1, num_epochs], ylim=[0, 1.00])\n",
        "    for epoch in range(1, num_epochs + 1):\n",
        "        timer = d2l.Timer()\n",
        "        metric = d2l.Accumulator(2)  # loss_sum, num_tokens\n",
        "        \n",
        "### use data_iter from load_data_nmt to get X and Y which include: \n",
        "### the source and target \n",
        "### sentence representations + X_vlen and Y_vlen : the valid lenghts of \n",
        "### the sentencies        \n",
        "        for batch in data_iter:\n",
        "            X, X_vlen, Y, Y_vlen = [x.as_in_ctx(device) for x in batch]\n",
        "            Y_input, Y_label, Y_vlen = Y[:, :-1], Y[:, 1:], Y_vlen-1\n",
        "            with autograd.record():\n",
        "                Y_hat, _ = model(X, Y_input, X_vlen, Y_vlen)\n",
        "                l = loss(Y_hat, Y_label, Y_vlen)\n",
        "            l.backward()\n",
        "            grad_clipping(model, 1)\n",
        "            num_tokens = Y_vlen.sum()\n",
        "            trainer.step(num_tokens)\n",
        "            metric.add(l.sum(), num_tokens)\n",
        "        if epoch % 10 == 0:\n",
        "            animator.add(epoch, (metric[0]/metric[1],))\n",
        "    print(f'loss {metric[0] / metric[1]:.3f}, {metric[1] / timer.stop():.1f} '\n",
        "          f'tokens/sec on {str(device)}')"
      ],
      "execution_count": null,
      "outputs": []
    },
    {
      "cell_type": "markdown",
      "metadata": {
        "id": "u_sxg49EICVl"
      },
      "source": [
        "### Reading and Processing the Text"
      ]
    },
    {
      "cell_type": "code",
      "metadata": {
        "id": "rgUlZVmd1IHE"
      },
      "source": [
        "### from d2l.ai\n",
        "def download_extract(name, folder=None):\n",
        "    \"\"\"Download and extract a zip/tar file.\"\"\"\n",
        "    fname = download(name)\n",
        "    base_dir = os.path.dirname(fname)\n",
        "    data_dir, ext = os.path.splitext(fname)\n",
        "    if ext == '.zip':\n",
        "        fp = zipfile.ZipFile(fname, 'r')\n",
        "    elif ext in ('.tar', '.gz'):\n",
        "        fp = tarfile.open(fname, 'r')\n",
        "    else:\n",
        "        assert False, 'Only zip/tar files can be extracted.'\n",
        "    fp.extractall(base_dir)\n",
        "    return os.path.join(base_dir, folder) if folder else data_dir"
      ],
      "execution_count": null,
      "outputs": []
    },
    {
      "cell_type": "markdown",
      "metadata": {
        "id": "cvPS1MbLGVab"
      },
      "source": [
        "\"\"\" ... a dataset that contains a set of English sentences with the corresponding French translations. As can be seen that each line contains an English sentence with its French translation, which are separated by a TAB.\"\"\" (citation from d2l.ai)"
      ]
    },
    {
      "cell_type": "code",
      "metadata": {
        "id": "N6qY1LlJhALj"
      },
      "source": [
        "### d2l.ai\n",
        "### the data for the translation are prepared by the d2l.ai project (book)\n",
        "\n",
        "d2l.DATA_HUB['fra-eng'] = (d2l.DATA_URL + 'fra-eng.zip',\n",
        "                           '94646ad1522d915e7b0f9296181140edcf86a4f5')\n",
        "\n",
        "\n",
        "def read_data_nmt():\n",
        "    data_dir = d2l.download_extract('fra-eng')\n",
        "    with open(os.path.join(data_dir, 'fra.txt'), 'r') as f:\n",
        "        return f.read()"
      ],
      "execution_count": null,
      "outputs": []
    },
    {
      "cell_type": "code",
      "metadata": {
        "id": "oZ1WHzBLjIID",
        "outputId": "f2390740-bdbd-4fe7-a64e-ebdb8207e5de",
        "colab": {
          "base_uri": "https://localhost:8080/",
          "height": 175
        }
      },
      "source": [
        "raw_text = read_data_nmt()\n",
        "print(raw_text[0:106])"
      ],
      "execution_count": null,
      "outputs": [
        {
          "output_type": "stream",
          "text": [
            "Downloading ../data/fra-eng.zip from http://d2l-data.s3-accelerate.amazonaws.com/fra-eng.zip...\n",
            "Go.\tVa !\n",
            "Hi.\tSalut !\n",
            "Run!\tCours !\n",
            "Run!\tCourez !\n",
            "Who?\tQui ?\n",
            "Wow!\tÇa alors !\n",
            "Fire!\tAu feu !\n",
            "Help!\tÀ l'aide !\n"
          ],
          "name": "stdout"
        }
      ]
    },
    {
      "cell_type": "code",
      "metadata": {
        "id": "Gue5_rT_GL65"
      },
      "source": [
        "### from d2l.ai\n",
        "def preprocess_nmt(text):\n",
        "    def no_space(char, prev_char):\n",
        "        return char in set(',.!') and prev_char != ' '\n",
        "\n",
        "    text = text.replace('\\u202f', ' ').replace('\\xa0', ' ').lower()\n",
        "    out = [' ' + char if i > 0 and no_space(char, text[i-1]) else char\n",
        "           for i, char in enumerate(text)]\n",
        "    return ''.join(out)"
      ],
      "execution_count": null,
      "outputs": []
    },
    {
      "cell_type": "code",
      "metadata": {
        "id": "X9iThu9ymSAj",
        "outputId": "28fd9693-f0d3-4ae6-d81c-fc443b101749",
        "colab": {
          "base_uri": "https://localhost:8080/",
          "height": 140
        }
      },
      "source": [
        "### from d2l.ai\n",
        "text = preprocess_nmt(raw_text)\n",
        "print(text[0:95])"
      ],
      "execution_count": null,
      "outputs": [
        {
          "output_type": "stream",
          "text": [
            "go .\tva !\n",
            "hi .\tsalut !\n",
            "run !\tcours !\n",
            "run !\tcourez !\n",
            "who?\tqui ?\n",
            "wow !\tça alors !\n",
            "fire !\tau feu !\n"
          ],
          "name": "stdout"
        }
      ]
    },
    {
      "cell_type": "code",
      "metadata": {
        "id": "_Dm_Tx5vGCSl"
      },
      "source": [
        "### from d2l.ai\n",
        "def tokenize_nmt(text, num_examples=None):\n",
        "    source, target = [], []\n",
        "    for i, line in enumerate(text.split('\\n')):\n",
        "        if num_examples and i > num_examples:\n",
        "            break\n",
        "        parts = line.split('\\t')\n",
        "        if len(parts) == 2:\n",
        "            source.append(parts[0].split(' '))\n",
        "            target.append(parts[1].split(' '))\n",
        "    return source, target\n"
      ],
      "execution_count": null,
      "outputs": []
    },
    {
      "cell_type": "code",
      "metadata": {
        "id": "CEQ6O9wRmdn_",
        "outputId": "af6a82e4-5d4b-4dae-aa9c-34b039855b80",
        "colab": {
          "base_uri": "https://localhost:8080/",
          "height": 52
        }
      },
      "source": [
        "### from d2l.ai\n",
        "source, target = tokenize_nmt(text)\n",
        "source[0:3], target[0:3]"
      ],
      "execution_count": null,
      "outputs": [
        {
          "output_type": "execute_result",
          "data": {
            "text/plain": [
              "([['go', '.'], ['hi', '.'], ['run', '!']],\n",
              " [['va', '!'], ['salut', '!'], ['cours', '!']])"
            ]
          },
          "metadata": {
            "tags": []
          },
          "execution_count": 42
        }
      ]
    },
    {
      "cell_type": "markdown",
      "metadata": {
        "id": "kQbNVIJjm5Km"
      },
      "source": [
        "#### Histogram of the number of tokens per sentence\n",
        "\n",
        "There are mostly 5 token sentencies, num of tokens is \n",
        "usually less than 10..15."
      ]
    },
    {
      "cell_type": "code",
      "metadata": {
        "id": "BtOp7UHxm2GI",
        "outputId": "9cd4bd0b-3e5e-4536-e8a5-e7993ff20c3f",
        "colab": {
          "base_uri": "https://localhost:8080/",
          "height": 243
        }
      },
      "source": [
        "### from d2l.ai\n",
        "\n",
        "d2l.set_figsize()\n",
        "d2l.plt.hist([[len(l) for l in source], [len(l) for l in target]],\n",
        "             label=['source', 'target'])\n",
        "d2l.plt.legend(loc='upper right');"
      ],
      "execution_count": null,
      "outputs": [
        {
          "output_type": "display_data",
          "data": {
            "text/plain": [
              "<Figure size 252x180 with 1 Axes>"
            ],
            "image/svg+xml": "<?xml version=\"1.0\" encoding=\"utf-8\" standalone=\"no\"?>\n<!DOCTYPE svg PUBLIC \"-//W3C//DTD SVG 1.1//EN\"\n  \"http://www.w3.org/Graphics/SVG/1.1/DTD/svg11.dtd\">\n<!-- Created with matplotlib (https://matplotlib.org/) -->\n<svg height=\"166.978125pt\" version=\"1.1\" viewBox=\"0 0 254.166217 166.978125\" width=\"254.166217pt\" xmlns=\"http://www.w3.org/2000/svg\" xmlns:xlink=\"http://www.w3.org/1999/xlink\">\n <defs>\n  <style type=\"text/css\">\n*{stroke-linecap:butt;stroke-linejoin:round;}\n  </style>\n </defs>\n <g id=\"figure_1\">\n  <g id=\"patch_1\">\n   <path d=\"M 0 166.978125 \nL 254.166217 166.978125 \nL 254.166217 0 \nL 0 0 \nz\n\" style=\"fill:none;\"/>\n  </g>\n  <g id=\"axes_1\">\n   <g id=\"patch_2\">\n    <path d=\"M 46.0125 143.1 \nL 241.3125 143.1 \nL 241.3125 7.2 \nL 46.0125 7.2 \nz\n\" style=\"fill:#ffffff;\"/>\n   </g>\n   <g id=\"patch_3\">\n    <path clip-path=\"url(#p82315d8060)\" d=\"M 54.889773 143.1 \nL 62.136526 143.1 \nL 62.136526 28.855425 \nL 54.889773 28.855425 \nz\n\" style=\"fill:#1f77b4;\"/>\n   </g>\n   <g id=\"patch_4\">\n    <path clip-path=\"url(#p82315d8060)\" d=\"M 73.006656 143.1 \nL 80.253409 143.1 \nL 80.253409 26.419498 \nL 73.006656 26.419498 \nz\n\" style=\"fill:#1f77b4;\"/>\n   </g>\n   <g id=\"patch_5\">\n    <path clip-path=\"url(#p82315d8060)\" d=\"M 91.123539 143.1 \nL 98.370292 143.1 \nL 98.370292 134.708466 \nL 91.123539 134.708466 \nz\n\" style=\"fill:#1f77b4;\"/>\n   </g>\n   <g id=\"patch_6\">\n    <path clip-path=\"url(#p82315d8060)\" d=\"M 109.240422 143.1 \nL 116.487175 143.1 \nL 116.487175 142.639226 \nL 109.240422 142.639226 \nz\n\" style=\"fill:#1f77b4;\"/>\n   </g>\n   <g id=\"patch_7\">\n    <path clip-path=\"url(#p82315d8060)\" d=\"M 127.357305 143.1 \nL 134.604058 143.1 \nL 134.604058 143.005262 \nL 127.357305 143.005262 \nz\n\" style=\"fill:#1f77b4;\"/>\n   </g>\n   <g id=\"patch_8\">\n    <path clip-path=\"url(#p82315d8060)\" d=\"M 145.474188 143.1 \nL 152.720942 143.1 \nL 152.720942 143.081339 \nL 145.474188 143.081339 \nz\n\" style=\"fill:#1f77b4;\"/>\n   </g>\n   <g id=\"patch_9\">\n    <path clip-path=\"url(#p82315d8060)\" d=\"M 163.591071 143.1 \nL 170.837825 143.1 \nL 170.837825 143.091387 \nL 163.591071 143.091387 \nz\n\" style=\"fill:#1f77b4;\"/>\n   </g>\n   <g id=\"patch_10\">\n    <path clip-path=\"url(#p82315d8060)\" d=\"M 181.707955 143.1 \nL 188.954708 143.1 \nL 188.954708 143.098565 \nL 181.707955 143.098565 \nz\n\" style=\"fill:#1f77b4;\"/>\n   </g>\n   <g id=\"patch_11\">\n    <path clip-path=\"url(#p82315d8060)\" d=\"M 199.824838 143.1 \nL 207.071591 143.1 \nL 207.071591 143.097129 \nL 199.824838 143.097129 \nz\n\" style=\"fill:#1f77b4;\"/>\n   </g>\n   <g id=\"patch_12\">\n    <path clip-path=\"url(#p82315d8060)\" d=\"M 217.941721 143.1 \nL 225.188474 143.1 \nL 225.188474 143.1 \nL 217.941721 143.1 \nz\n\" style=\"fill:#1f77b4;\"/>\n   </g>\n   <g id=\"patch_13\">\n    <path clip-path=\"url(#p82315d8060)\" d=\"M 62.136526 143.1 \nL 69.383279 143.1 \nL 69.383279 46.735163 \nL 62.136526 46.735163 \nz\n\" style=\"fill:#ff7f0e;\"/>\n   </g>\n   <g id=\"patch_14\">\n    <path clip-path=\"url(#p82315d8060)\" d=\"M 80.253409 143.1 \nL 87.500162 143.1 \nL 87.500162 13.671429 \nL 80.253409 13.671429 \nz\n\" style=\"fill:#ff7f0e;\"/>\n   </g>\n   <g id=\"patch_15\">\n    <path clip-path=\"url(#p82315d8060)\" d=\"M 98.370292 143.1 \nL 105.617045 143.1 \nL 105.617045 130.234226 \nL 98.370292 130.234226 \nz\n\" style=\"fill:#ff7f0e;\"/>\n   </g>\n   <g id=\"patch_16\">\n    <path clip-path=\"url(#p82315d8060)\" d=\"M 116.487175 143.1 \nL 123.733929 143.1 \nL 123.733929 142.092327 \nL 116.487175 142.092327 \nz\n\" style=\"fill:#ff7f0e;\"/>\n   </g>\n   <g id=\"patch_17\">\n    <path clip-path=\"url(#p82315d8060)\" d=\"M 134.604058 143.1 \nL 141.850812 143.1 \nL 141.850812 142.923442 \nL 134.604058 142.923442 \nz\n\" style=\"fill:#ff7f0e;\"/>\n   </g>\n   <g id=\"patch_18\">\n    <path clip-path=\"url(#p82315d8060)\" d=\"M 152.720942 143.1 \nL 159.967695 143.1 \nL 159.967695 143.052631 \nL 152.720942 143.052631 \nz\n\" style=\"fill:#ff7f0e;\"/>\n   </g>\n   <g id=\"patch_19\">\n    <path clip-path=\"url(#p82315d8060)\" d=\"M 170.837825 143.1 \nL 178.084578 143.1 \nL 178.084578 143.097129 \nL 170.837825 143.097129 \nz\n\" style=\"fill:#ff7f0e;\"/>\n   </g>\n   <g id=\"patch_20\">\n    <path clip-path=\"url(#p82315d8060)\" d=\"M 188.954708 143.1 \nL 196.201461 143.1 \nL 196.201461 143.097129 \nL 188.954708 143.097129 \nz\n\" style=\"fill:#ff7f0e;\"/>\n   </g>\n   <g id=\"patch_21\">\n    <path clip-path=\"url(#p82315d8060)\" d=\"M 207.071591 143.1 \nL 214.318344 143.1 \nL 214.318344 143.097129 \nL 207.071591 143.097129 \nz\n\" style=\"fill:#ff7f0e;\"/>\n   </g>\n   <g id=\"patch_22\">\n    <path clip-path=\"url(#p82315d8060)\" d=\"M 225.188474 143.1 \nL 232.435227 143.1 \nL 232.435227 143.095694 \nL 225.188474 143.095694 \nz\n\" style=\"fill:#ff7f0e;\"/>\n   </g>\n   <g id=\"matplotlib.axis_1\">\n    <g id=\"xtick_1\">\n     <g id=\"line2d_1\">\n      <defs>\n       <path d=\"M 0 0 \nL 0 3.5 \n\" id=\"mbb26322d6c\" style=\"stroke:#000000;stroke-width:0.8;\"/>\n      </defs>\n      <g>\n       <use style=\"stroke:#000000;stroke-width:0.8;\" x=\"49.899684\" xlink:href=\"#mbb26322d6c\" y=\"143.1\"/>\n      </g>\n     </g>\n     <g id=\"text_1\">\n      <!-- 0 -->\n      <defs>\n       <path d=\"M 31.78125 66.40625 \nQ 24.171875 66.40625 20.328125 58.90625 \nQ 16.5 51.421875 16.5 36.375 \nQ 16.5 21.390625 20.328125 13.890625 \nQ 24.171875 6.390625 31.78125 6.390625 \nQ 39.453125 6.390625 43.28125 13.890625 \nQ 47.125 21.390625 47.125 36.375 \nQ 47.125 51.421875 43.28125 58.90625 \nQ 39.453125 66.40625 31.78125 66.40625 \nz\nM 31.78125 74.21875 \nQ 44.046875 74.21875 50.515625 64.515625 \nQ 56.984375 54.828125 56.984375 36.375 \nQ 56.984375 17.96875 50.515625 8.265625 \nQ 44.046875 -1.421875 31.78125 -1.421875 \nQ 19.53125 -1.421875 13.0625 8.265625 \nQ 6.59375 17.96875 6.59375 36.375 \nQ 6.59375 54.828125 13.0625 64.515625 \nQ 19.53125 74.21875 31.78125 74.21875 \nz\n\" id=\"DejaVuSans-48\"/>\n      </defs>\n      <g transform=\"translate(46.718434 157.698438)scale(0.1 -0.1)\">\n       <use xlink:href=\"#DejaVuSans-48\"/>\n      </g>\n     </g>\n    </g>\n    <g id=\"xtick_2\">\n     <g id=\"line2d_2\">\n      <g>\n       <use style=\"stroke:#000000;stroke-width:0.8;\" x=\"113.467695\" xlink:href=\"#mbb26322d6c\" y=\"143.1\"/>\n      </g>\n     </g>\n     <g id=\"text_2\">\n      <!-- 20 -->\n      <defs>\n       <path d=\"M 19.1875 8.296875 \nL 53.609375 8.296875 \nL 53.609375 0 \nL 7.328125 0 \nL 7.328125 8.296875 \nQ 12.9375 14.109375 22.625 23.890625 \nQ 32.328125 33.6875 34.8125 36.53125 \nQ 39.546875 41.84375 41.421875 45.53125 \nQ 43.3125 49.21875 43.3125 52.78125 \nQ 43.3125 58.59375 39.234375 62.25 \nQ 35.15625 65.921875 28.609375 65.921875 \nQ 23.96875 65.921875 18.8125 64.3125 \nQ 13.671875 62.703125 7.8125 59.421875 \nL 7.8125 69.390625 \nQ 13.765625 71.78125 18.9375 73 \nQ 24.125 74.21875 28.421875 74.21875 \nQ 39.75 74.21875 46.484375 68.546875 \nQ 53.21875 62.890625 53.21875 53.421875 \nQ 53.21875 48.921875 51.53125 44.890625 \nQ 49.859375 40.875 45.40625 35.40625 \nQ 44.1875 33.984375 37.640625 27.21875 \nQ 31.109375 20.453125 19.1875 8.296875 \nz\n\" id=\"DejaVuSans-50\"/>\n      </defs>\n      <g transform=\"translate(107.105195 157.698438)scale(0.1 -0.1)\">\n       <use xlink:href=\"#DejaVuSans-50\"/>\n       <use x=\"63.623047\" xlink:href=\"#DejaVuSans-48\"/>\n      </g>\n     </g>\n    </g>\n    <g id=\"xtick_3\">\n     <g id=\"line2d_3\">\n      <g>\n       <use style=\"stroke:#000000;stroke-width:0.8;\" x=\"177.035706\" xlink:href=\"#mbb26322d6c\" y=\"143.1\"/>\n      </g>\n     </g>\n     <g id=\"text_3\">\n      <!-- 40 -->\n      <defs>\n       <path d=\"M 37.796875 64.3125 \nL 12.890625 25.390625 \nL 37.796875 25.390625 \nz\nM 35.203125 72.90625 \nL 47.609375 72.90625 \nL 47.609375 25.390625 \nL 58.015625 25.390625 \nL 58.015625 17.1875 \nL 47.609375 17.1875 \nL 47.609375 0 \nL 37.796875 0 \nL 37.796875 17.1875 \nL 4.890625 17.1875 \nL 4.890625 26.703125 \nz\n\" id=\"DejaVuSans-52\"/>\n      </defs>\n      <g transform=\"translate(170.673206 157.698438)scale(0.1 -0.1)\">\n       <use xlink:href=\"#DejaVuSans-52\"/>\n       <use x=\"63.623047\" xlink:href=\"#DejaVuSans-48\"/>\n      </g>\n     </g>\n    </g>\n    <g id=\"xtick_4\">\n     <g id=\"line2d_4\">\n      <g>\n       <use style=\"stroke:#000000;stroke-width:0.8;\" x=\"240.603717\" xlink:href=\"#mbb26322d6c\" y=\"143.1\"/>\n      </g>\n     </g>\n     <g id=\"text_4\">\n      <!-- 60 -->\n      <defs>\n       <path d=\"M 33.015625 40.375 \nQ 26.375 40.375 22.484375 35.828125 \nQ 18.609375 31.296875 18.609375 23.390625 \nQ 18.609375 15.53125 22.484375 10.953125 \nQ 26.375 6.390625 33.015625 6.390625 \nQ 39.65625 6.390625 43.53125 10.953125 \nQ 47.40625 15.53125 47.40625 23.390625 \nQ 47.40625 31.296875 43.53125 35.828125 \nQ 39.65625 40.375 33.015625 40.375 \nz\nM 52.59375 71.296875 \nL 52.59375 62.3125 \nQ 48.875 64.0625 45.09375 64.984375 \nQ 41.3125 65.921875 37.59375 65.921875 \nQ 27.828125 65.921875 22.671875 59.328125 \nQ 17.53125 52.734375 16.796875 39.40625 \nQ 19.671875 43.65625 24.015625 45.921875 \nQ 28.375 48.1875 33.59375 48.1875 \nQ 44.578125 48.1875 50.953125 41.515625 \nQ 57.328125 34.859375 57.328125 23.390625 \nQ 57.328125 12.15625 50.6875 5.359375 \nQ 44.046875 -1.421875 33.015625 -1.421875 \nQ 20.359375 -1.421875 13.671875 8.265625 \nQ 6.984375 17.96875 6.984375 36.375 \nQ 6.984375 53.65625 15.1875 63.9375 \nQ 23.390625 74.21875 37.203125 74.21875 \nQ 40.921875 74.21875 44.703125 73.484375 \nQ 48.484375 72.75 52.59375 71.296875 \nz\n\" id=\"DejaVuSans-54\"/>\n      </defs>\n      <g transform=\"translate(234.241217 157.698438)scale(0.1 -0.1)\">\n       <use xlink:href=\"#DejaVuSans-54\"/>\n       <use x=\"63.623047\" xlink:href=\"#DejaVuSans-48\"/>\n      </g>\n     </g>\n    </g>\n   </g>\n   <g id=\"matplotlib.axis_2\">\n    <g id=\"ytick_1\">\n     <g id=\"line2d_5\">\n      <defs>\n       <path d=\"M 0 0 \nL -3.5 0 \n\" id=\"m43f5121b17\" style=\"stroke:#000000;stroke-width:0.8;\"/>\n      </defs>\n      <g>\n       <use style=\"stroke:#000000;stroke-width:0.8;\" x=\"46.0125\" xlink:href=\"#m43f5121b17\" y=\"143.1\"/>\n      </g>\n     </g>\n     <g id=\"text_5\">\n      <!-- 0 -->\n      <g transform=\"translate(32.65 146.899219)scale(0.1 -0.1)\">\n       <use xlink:href=\"#DejaVuSans-48\"/>\n      </g>\n     </g>\n    </g>\n    <g id=\"ytick_2\">\n     <g id=\"line2d_6\">\n      <g>\n       <use style=\"stroke:#000000;stroke-width:0.8;\" x=\"46.0125\" xlink:href=\"#m43f5121b17\" y=\"114.391366\"/>\n      </g>\n     </g>\n     <g id=\"text_6\">\n      <!-- 20000 -->\n      <g transform=\"translate(7.2 118.190584)scale(0.1 -0.1)\">\n       <use xlink:href=\"#DejaVuSans-50\"/>\n       <use x=\"63.623047\" xlink:href=\"#DejaVuSans-48\"/>\n       <use x=\"127.246094\" xlink:href=\"#DejaVuSans-48\"/>\n       <use x=\"190.869141\" xlink:href=\"#DejaVuSans-48\"/>\n       <use x=\"254.492188\" xlink:href=\"#DejaVuSans-48\"/>\n      </g>\n     </g>\n    </g>\n    <g id=\"ytick_3\">\n     <g id=\"line2d_7\">\n      <g>\n       <use style=\"stroke:#000000;stroke-width:0.8;\" x=\"46.0125\" xlink:href=\"#m43f5121b17\" y=\"85.682731\"/>\n      </g>\n     </g>\n     <g id=\"text_7\">\n      <!-- 40000 -->\n      <g transform=\"translate(7.2 89.48195)scale(0.1 -0.1)\">\n       <use xlink:href=\"#DejaVuSans-52\"/>\n       <use x=\"63.623047\" xlink:href=\"#DejaVuSans-48\"/>\n       <use x=\"127.246094\" xlink:href=\"#DejaVuSans-48\"/>\n       <use x=\"190.869141\" xlink:href=\"#DejaVuSans-48\"/>\n       <use x=\"254.492188\" xlink:href=\"#DejaVuSans-48\"/>\n      </g>\n     </g>\n    </g>\n    <g id=\"ytick_4\">\n     <g id=\"line2d_8\">\n      <g>\n       <use style=\"stroke:#000000;stroke-width:0.8;\" x=\"46.0125\" xlink:href=\"#m43f5121b17\" y=\"56.974097\"/>\n      </g>\n     </g>\n     <g id=\"text_8\">\n      <!-- 60000 -->\n      <g transform=\"translate(7.2 60.773316)scale(0.1 -0.1)\">\n       <use xlink:href=\"#DejaVuSans-54\"/>\n       <use x=\"63.623047\" xlink:href=\"#DejaVuSans-48\"/>\n       <use x=\"127.246094\" xlink:href=\"#DejaVuSans-48\"/>\n       <use x=\"190.869141\" xlink:href=\"#DejaVuSans-48\"/>\n       <use x=\"254.492188\" xlink:href=\"#DejaVuSans-48\"/>\n      </g>\n     </g>\n    </g>\n    <g id=\"ytick_5\">\n     <g id=\"line2d_9\">\n      <g>\n       <use style=\"stroke:#000000;stroke-width:0.8;\" x=\"46.0125\" xlink:href=\"#m43f5121b17\" y=\"28.265463\"/>\n      </g>\n     </g>\n     <g id=\"text_9\">\n      <!-- 80000 -->\n      <defs>\n       <path d=\"M 31.78125 34.625 \nQ 24.75 34.625 20.71875 30.859375 \nQ 16.703125 27.09375 16.703125 20.515625 \nQ 16.703125 13.921875 20.71875 10.15625 \nQ 24.75 6.390625 31.78125 6.390625 \nQ 38.8125 6.390625 42.859375 10.171875 \nQ 46.921875 13.96875 46.921875 20.515625 \nQ 46.921875 27.09375 42.890625 30.859375 \nQ 38.875 34.625 31.78125 34.625 \nz\nM 21.921875 38.8125 \nQ 15.578125 40.375 12.03125 44.71875 \nQ 8.5 49.078125 8.5 55.328125 \nQ 8.5 64.0625 14.71875 69.140625 \nQ 20.953125 74.21875 31.78125 74.21875 \nQ 42.671875 74.21875 48.875 69.140625 \nQ 55.078125 64.0625 55.078125 55.328125 \nQ 55.078125 49.078125 51.53125 44.71875 \nQ 48 40.375 41.703125 38.8125 \nQ 48.828125 37.15625 52.796875 32.3125 \nQ 56.78125 27.484375 56.78125 20.515625 \nQ 56.78125 9.90625 50.3125 4.234375 \nQ 43.84375 -1.421875 31.78125 -1.421875 \nQ 19.734375 -1.421875 13.25 4.234375 \nQ 6.78125 9.90625 6.78125 20.515625 \nQ 6.78125 27.484375 10.78125 32.3125 \nQ 14.796875 37.15625 21.921875 38.8125 \nz\nM 18.3125 54.390625 \nQ 18.3125 48.734375 21.84375 45.5625 \nQ 25.390625 42.390625 31.78125 42.390625 \nQ 38.140625 42.390625 41.71875 45.5625 \nQ 45.3125 48.734375 45.3125 54.390625 \nQ 45.3125 60.0625 41.71875 63.234375 \nQ 38.140625 66.40625 31.78125 66.40625 \nQ 25.390625 66.40625 21.84375 63.234375 \nQ 18.3125 60.0625 18.3125 54.390625 \nz\n\" id=\"DejaVuSans-56\"/>\n      </defs>\n      <g transform=\"translate(7.2 32.064682)scale(0.1 -0.1)\">\n       <use xlink:href=\"#DejaVuSans-56\"/>\n       <use x=\"63.623047\" xlink:href=\"#DejaVuSans-48\"/>\n       <use x=\"127.246094\" xlink:href=\"#DejaVuSans-48\"/>\n       <use x=\"190.869141\" xlink:href=\"#DejaVuSans-48\"/>\n       <use x=\"254.492188\" xlink:href=\"#DejaVuSans-48\"/>\n      </g>\n     </g>\n    </g>\n   </g>\n   <g id=\"patch_23\">\n    <path d=\"M 46.0125 143.1 \nL 46.0125 7.2 \n\" style=\"fill:none;stroke:#000000;stroke-linecap:square;stroke-linejoin:miter;stroke-width:0.8;\"/>\n   </g>\n   <g id=\"patch_24\">\n    <path d=\"M 241.3125 143.1 \nL 241.3125 7.2 \n\" style=\"fill:none;stroke:#000000;stroke-linecap:square;stroke-linejoin:miter;stroke-width:0.8;\"/>\n   </g>\n   <g id=\"patch_25\">\n    <path d=\"M 46.0125 143.1 \nL 241.3125 143.1 \n\" style=\"fill:none;stroke:#000000;stroke-linecap:square;stroke-linejoin:miter;stroke-width:0.8;\"/>\n   </g>\n   <g id=\"patch_26\">\n    <path d=\"M 46.0125 7.2 \nL 241.3125 7.2 \n\" style=\"fill:none;stroke:#000000;stroke-linecap:square;stroke-linejoin:miter;stroke-width:0.8;\"/>\n   </g>\n   <g id=\"legend_1\">\n    <g id=\"patch_27\">\n     <path d=\"M 169.109375 44.55625 \nL 234.3125 44.55625 \nQ 236.3125 44.55625 236.3125 42.55625 \nL 236.3125 14.2 \nQ 236.3125 12.2 234.3125 12.2 \nL 169.109375 12.2 \nQ 167.109375 12.2 167.109375 14.2 \nL 167.109375 42.55625 \nQ 167.109375 44.55625 169.109375 44.55625 \nz\n\" style=\"fill:#ffffff;opacity:0.8;stroke:#cccccc;stroke-linejoin:miter;\"/>\n    </g>\n    <g id=\"patch_28\">\n     <path d=\"M 171.109375 23.798438 \nL 191.109375 23.798438 \nL 191.109375 16.798438 \nL 171.109375 16.798438 \nz\n\" style=\"fill:#1f77b4;\"/>\n    </g>\n    <g id=\"text_10\">\n     <!-- source -->\n     <defs>\n      <path d=\"M 44.28125 53.078125 \nL 44.28125 44.578125 \nQ 40.484375 46.53125 36.375 47.5 \nQ 32.28125 48.484375 27.875 48.484375 \nQ 21.1875 48.484375 17.84375 46.4375 \nQ 14.5 44.390625 14.5 40.28125 \nQ 14.5 37.15625 16.890625 35.375 \nQ 19.28125 33.59375 26.515625 31.984375 \nL 29.59375 31.296875 \nQ 39.15625 29.25 43.1875 25.515625 \nQ 47.21875 21.78125 47.21875 15.09375 \nQ 47.21875 7.46875 41.1875 3.015625 \nQ 35.15625 -1.421875 24.609375 -1.421875 \nQ 20.21875 -1.421875 15.453125 -0.5625 \nQ 10.6875 0.296875 5.421875 2 \nL 5.421875 11.28125 \nQ 10.40625 8.6875 15.234375 7.390625 \nQ 20.0625 6.109375 24.8125 6.109375 \nQ 31.15625 6.109375 34.5625 8.28125 \nQ 37.984375 10.453125 37.984375 14.40625 \nQ 37.984375 18.0625 35.515625 20.015625 \nQ 33.0625 21.96875 24.703125 23.78125 \nL 21.578125 24.515625 \nQ 13.234375 26.265625 9.515625 29.90625 \nQ 5.8125 33.546875 5.8125 39.890625 \nQ 5.8125 47.609375 11.28125 51.796875 \nQ 16.75 56 26.8125 56 \nQ 31.78125 56 36.171875 55.265625 \nQ 40.578125 54.546875 44.28125 53.078125 \nz\n\" id=\"DejaVuSans-115\"/>\n      <path d=\"M 30.609375 48.390625 \nQ 23.390625 48.390625 19.1875 42.75 \nQ 14.984375 37.109375 14.984375 27.296875 \nQ 14.984375 17.484375 19.15625 11.84375 \nQ 23.34375 6.203125 30.609375 6.203125 \nQ 37.796875 6.203125 41.984375 11.859375 \nQ 46.1875 17.53125 46.1875 27.296875 \nQ 46.1875 37.015625 41.984375 42.703125 \nQ 37.796875 48.390625 30.609375 48.390625 \nz\nM 30.609375 56 \nQ 42.328125 56 49.015625 48.375 \nQ 55.71875 40.765625 55.71875 27.296875 \nQ 55.71875 13.875 49.015625 6.21875 \nQ 42.328125 -1.421875 30.609375 -1.421875 \nQ 18.84375 -1.421875 12.171875 6.21875 \nQ 5.515625 13.875 5.515625 27.296875 \nQ 5.515625 40.765625 12.171875 48.375 \nQ 18.84375 56 30.609375 56 \nz\n\" id=\"DejaVuSans-111\"/>\n      <path d=\"M 8.5 21.578125 \nL 8.5 54.6875 \nL 17.484375 54.6875 \nL 17.484375 21.921875 \nQ 17.484375 14.15625 20.5 10.265625 \nQ 23.53125 6.390625 29.59375 6.390625 \nQ 36.859375 6.390625 41.078125 11.03125 \nQ 45.3125 15.671875 45.3125 23.6875 \nL 45.3125 54.6875 \nL 54.296875 54.6875 \nL 54.296875 0 \nL 45.3125 0 \nL 45.3125 8.40625 \nQ 42.046875 3.421875 37.71875 1 \nQ 33.40625 -1.421875 27.6875 -1.421875 \nQ 18.265625 -1.421875 13.375 4.4375 \nQ 8.5 10.296875 8.5 21.578125 \nz\nM 31.109375 56 \nz\n\" id=\"DejaVuSans-117\"/>\n      <path d=\"M 41.109375 46.296875 \nQ 39.59375 47.171875 37.8125 47.578125 \nQ 36.03125 48 33.890625 48 \nQ 26.265625 48 22.1875 43.046875 \nQ 18.109375 38.09375 18.109375 28.8125 \nL 18.109375 0 \nL 9.078125 0 \nL 9.078125 54.6875 \nL 18.109375 54.6875 \nL 18.109375 46.1875 \nQ 20.953125 51.171875 25.484375 53.578125 \nQ 30.03125 56 36.53125 56 \nQ 37.453125 56 38.578125 55.875 \nQ 39.703125 55.765625 41.0625 55.515625 \nz\n\" id=\"DejaVuSans-114\"/>\n      <path d=\"M 48.78125 52.59375 \nL 48.78125 44.1875 \nQ 44.96875 46.296875 41.140625 47.34375 \nQ 37.3125 48.390625 33.40625 48.390625 \nQ 24.65625 48.390625 19.8125 42.84375 \nQ 14.984375 37.3125 14.984375 27.296875 \nQ 14.984375 17.28125 19.8125 11.734375 \nQ 24.65625 6.203125 33.40625 6.203125 \nQ 37.3125 6.203125 41.140625 7.25 \nQ 44.96875 8.296875 48.78125 10.40625 \nL 48.78125 2.09375 \nQ 45.015625 0.34375 40.984375 -0.53125 \nQ 36.96875 -1.421875 32.421875 -1.421875 \nQ 20.0625 -1.421875 12.78125 6.34375 \nQ 5.515625 14.109375 5.515625 27.296875 \nQ 5.515625 40.671875 12.859375 48.328125 \nQ 20.21875 56 33.015625 56 \nQ 37.15625 56 41.109375 55.140625 \nQ 45.0625 54.296875 48.78125 52.59375 \nz\n\" id=\"DejaVuSans-99\"/>\n      <path d=\"M 56.203125 29.59375 \nL 56.203125 25.203125 \nL 14.890625 25.203125 \nQ 15.484375 15.921875 20.484375 11.0625 \nQ 25.484375 6.203125 34.421875 6.203125 \nQ 39.59375 6.203125 44.453125 7.46875 \nQ 49.3125 8.734375 54.109375 11.28125 \nL 54.109375 2.78125 \nQ 49.265625 0.734375 44.1875 -0.34375 \nQ 39.109375 -1.421875 33.890625 -1.421875 \nQ 20.796875 -1.421875 13.15625 6.1875 \nQ 5.515625 13.8125 5.515625 26.8125 \nQ 5.515625 40.234375 12.765625 48.109375 \nQ 20.015625 56 32.328125 56 \nQ 43.359375 56 49.78125 48.890625 \nQ 56.203125 41.796875 56.203125 29.59375 \nz\nM 47.21875 32.234375 \nQ 47.125 39.59375 43.09375 43.984375 \nQ 39.0625 48.390625 32.421875 48.390625 \nQ 24.90625 48.390625 20.390625 44.140625 \nQ 15.875 39.890625 15.1875 32.171875 \nz\n\" id=\"DejaVuSans-101\"/>\n     </defs>\n     <g transform=\"translate(199.109375 23.798438)scale(0.1 -0.1)\">\n      <use xlink:href=\"#DejaVuSans-115\"/>\n      <use x=\"52.099609\" xlink:href=\"#DejaVuSans-111\"/>\n      <use x=\"113.28125\" xlink:href=\"#DejaVuSans-117\"/>\n      <use x=\"176.660156\" xlink:href=\"#DejaVuSans-114\"/>\n      <use x=\"215.523438\" xlink:href=\"#DejaVuSans-99\"/>\n      <use x=\"270.503906\" xlink:href=\"#DejaVuSans-101\"/>\n     </g>\n    </g>\n    <g id=\"patch_29\">\n     <path d=\"M 171.109375 38.476562 \nL 191.109375 38.476562 \nL 191.109375 31.476562 \nL 171.109375 31.476562 \nz\n\" style=\"fill:#ff7f0e;\"/>\n    </g>\n    <g id=\"text_11\">\n     <!-- target -->\n     <defs>\n      <path d=\"M 18.3125 70.21875 \nL 18.3125 54.6875 \nL 36.8125 54.6875 \nL 36.8125 47.703125 \nL 18.3125 47.703125 \nL 18.3125 18.015625 \nQ 18.3125 11.328125 20.140625 9.421875 \nQ 21.96875 7.515625 27.59375 7.515625 \nL 36.8125 7.515625 \nL 36.8125 0 \nL 27.59375 0 \nQ 17.1875 0 13.234375 3.875 \nQ 9.28125 7.765625 9.28125 18.015625 \nL 9.28125 47.703125 \nL 2.6875 47.703125 \nL 2.6875 54.6875 \nL 9.28125 54.6875 \nL 9.28125 70.21875 \nz\n\" id=\"DejaVuSans-116\"/>\n      <path d=\"M 34.28125 27.484375 \nQ 23.390625 27.484375 19.1875 25 \nQ 14.984375 22.515625 14.984375 16.5 \nQ 14.984375 11.71875 18.140625 8.90625 \nQ 21.296875 6.109375 26.703125 6.109375 \nQ 34.1875 6.109375 38.703125 11.40625 \nQ 43.21875 16.703125 43.21875 25.484375 \nL 43.21875 27.484375 \nz\nM 52.203125 31.203125 \nL 52.203125 0 \nL 43.21875 0 \nL 43.21875 8.296875 \nQ 40.140625 3.328125 35.546875 0.953125 \nQ 30.953125 -1.421875 24.3125 -1.421875 \nQ 15.921875 -1.421875 10.953125 3.296875 \nQ 6 8.015625 6 15.921875 \nQ 6 25.140625 12.171875 29.828125 \nQ 18.359375 34.515625 30.609375 34.515625 \nL 43.21875 34.515625 \nL 43.21875 35.40625 \nQ 43.21875 41.609375 39.140625 45 \nQ 35.0625 48.390625 27.6875 48.390625 \nQ 23 48.390625 18.546875 47.265625 \nQ 14.109375 46.140625 10.015625 43.890625 \nL 10.015625 52.203125 \nQ 14.9375 54.109375 19.578125 55.046875 \nQ 24.21875 56 28.609375 56 \nQ 40.484375 56 46.34375 49.84375 \nQ 52.203125 43.703125 52.203125 31.203125 \nz\n\" id=\"DejaVuSans-97\"/>\n      <path d=\"M 45.40625 27.984375 \nQ 45.40625 37.75 41.375 43.109375 \nQ 37.359375 48.484375 30.078125 48.484375 \nQ 22.859375 48.484375 18.828125 43.109375 \nQ 14.796875 37.75 14.796875 27.984375 \nQ 14.796875 18.265625 18.828125 12.890625 \nQ 22.859375 7.515625 30.078125 7.515625 \nQ 37.359375 7.515625 41.375 12.890625 \nQ 45.40625 18.265625 45.40625 27.984375 \nz\nM 54.390625 6.78125 \nQ 54.390625 -7.171875 48.1875 -13.984375 \nQ 42 -20.796875 29.203125 -20.796875 \nQ 24.46875 -20.796875 20.265625 -20.09375 \nQ 16.0625 -19.390625 12.109375 -17.921875 \nL 12.109375 -9.1875 \nQ 16.0625 -11.328125 19.921875 -12.34375 \nQ 23.78125 -13.375 27.78125 -13.375 \nQ 36.625 -13.375 41.015625 -8.765625 \nQ 45.40625 -4.15625 45.40625 5.171875 \nL 45.40625 9.625 \nQ 42.625 4.78125 38.28125 2.390625 \nQ 33.9375 0 27.875 0 \nQ 17.828125 0 11.671875 7.65625 \nQ 5.515625 15.328125 5.515625 27.984375 \nQ 5.515625 40.671875 11.671875 48.328125 \nQ 17.828125 56 27.875 56 \nQ 33.9375 56 38.28125 53.609375 \nQ 42.625 51.21875 45.40625 46.390625 \nL 45.40625 54.6875 \nL 54.390625 54.6875 \nz\n\" id=\"DejaVuSans-103\"/>\n     </defs>\n     <g transform=\"translate(199.109375 38.476562)scale(0.1 -0.1)\">\n      <use xlink:href=\"#DejaVuSans-116\"/>\n      <use x=\"39.208984\" xlink:href=\"#DejaVuSans-97\"/>\n      <use x=\"100.488281\" xlink:href=\"#DejaVuSans-114\"/>\n      <use x=\"139.851562\" xlink:href=\"#DejaVuSans-103\"/>\n      <use x=\"203.328125\" xlink:href=\"#DejaVuSans-101\"/>\n      <use x=\"264.851562\" xlink:href=\"#DejaVuSans-116\"/>\n     </g>\n    </g>\n   </g>\n  </g>\n </g>\n <defs>\n  <clipPath id=\"p82315d8060\">\n   <rect height=\"135.9\" width=\"195.3\" x=\"46.0125\" y=\"7.2\"/>\n  </clipPath>\n </defs>\n</svg>\n"
          },
          "metadata": {
            "tags": [],
            "needs_background": "light"
          }
        }
      ]
    },
    {
      "cell_type": "markdown",
      "metadata": {
        "id": "QAJ31deVz58_"
      },
      "source": [
        "### Vocabulary"
      ]
    },
    {
      "cell_type": "code",
      "metadata": {
        "id": "u-ZnTJKdxw2s"
      },
      "source": [
        "### from d2l.ai\n",
        "def count_corpus(tokens): \n",
        "    \"\"\"Count token frequencies.\"\"\"\n",
        "    # Here `tokens` is a 1D list or 2D list\n",
        "    if len(tokens) == 0 or isinstance(tokens[0], list):\n",
        "        # Flatten a list of token lists into a list of tokens\n",
        "        tokens = [token for line in tokens for token in line]\n",
        "    return collections.Counter(tokens)"
      ],
      "execution_count": null,
      "outputs": []
    },
    {
      "cell_type": "code",
      "metadata": {
        "id": "yvc84yOHxVWo"
      },
      "source": [
        "### from d2l.ai\n",
        "class Vocab: \n",
        "    \"\"\"Vocabulary for text.\"\"\"\n",
        "    def __init__(self, tokens=None, min_freq=0, reserved_tokens=None):\n",
        "        if tokens is None:\n",
        "            tokens = []\n",
        "        if reserved_tokens is None:\n",
        "            reserved_tokens = [] \n",
        "        # Sort according to frequencies\n",
        "        counter = count_corpus(tokens)\n",
        "        self.token_freqs = sorted(counter.items(), key=lambda x: x[0])\n",
        "        self.token_freqs.sort(key=lambda x: x[1], reverse=True)\n",
        "        # The index for the unknown token is 0\n",
        "        self.unk, uniq_tokens = 0, ['<unk>'] + reserved_tokens\n",
        "        uniq_tokens += [token for token, freq in self.token_freqs\n",
        "                        if freq >= min_freq and token not in uniq_tokens]\n",
        "        self.idx_to_token, self.token_to_idx = [], dict()\n",
        "        for token in uniq_tokens:\n",
        "            self.idx_to_token.append(token)\n",
        "            self.token_to_idx[token] = len(self.idx_to_token) - 1\n",
        "\n",
        "    def __len__(self):\n",
        "        return len(self.idx_to_token)\n",
        "\n",
        "    def __getitem__(self, tokens):\n",
        "        if not isinstance(tokens, (list, tuple)):\n",
        "            return self.token_to_idx.get(tokens, self.unk)\n",
        "        return [self.__getitem__(token) for token in tokens]\n",
        "\n",
        "    def to_tokens(self, indices):\n",
        "        if not isinstance(indices, (list, tuple)):\n",
        "            return self.idx_to_token[indices]\n",
        "        return [self.idx_to_token[index] for index in indices]"
      ],
      "execution_count": null,
      "outputs": []
    },
    {
      "cell_type": "code",
      "metadata": {
        "id": "8XIGBHAEz83o",
        "outputId": "ae766b96-6c4e-402f-ba85-c559f87f3271",
        "colab": {
          "base_uri": "https://localhost:8080/",
          "height": 34
        }
      },
      "source": [
        "### from d2l.ai\n",
        "src_vocab = Vocab(source, min_freq=3,\n",
        "                      reserved_tokens=['<pad>', '<bos>', '<eos>'])\n",
        "len(src_vocab)"
      ],
      "execution_count": null,
      "outputs": [
        {
          "output_type": "execute_result",
          "data": {
            "text/plain": [
              "9140"
            ]
          },
          "metadata": {
            "tags": []
          },
          "execution_count": 46
        }
      ]
    },
    {
      "cell_type": "markdown",
      "metadata": {
        "id": "WlymolB-zvf-"
      },
      "source": [
        "### Loading the dataset"
      ]
    },
    {
      "cell_type": "code",
      "metadata": {
        "id": "hT96fUzTF5LG"
      },
      "source": [
        "### from d2l.ai\n",
        "def truncate_pad(line, num_steps, padding_token):\n",
        "    if len(line) > num_steps:\n",
        "        return line[:num_steps]  # Trim\n",
        "    return line + [padding_token] * (num_steps - len(line))  # Pad\n",
        "\n",
        "### the <pad> is represented by number 1 in Vocabuary"
      ],
      "execution_count": null,
      "outputs": []
    },
    {
      "cell_type": "code",
      "metadata": {
        "id": "xcCKS0imn8Ll",
        "outputId": "b54e896c-e8ab-4d88-c01e-59dce62872fb",
        "colab": {
          "base_uri": "https://localhost:8080/",
          "height": 34
        }
      },
      "source": [
        "### from d2l.ai\n",
        "truncate_pad(src_vocab[source[0]], 10, src_vocab['<pad>'])"
      ],
      "execution_count": null,
      "outputs": [
        {
          "output_type": "execute_result",
          "data": {
            "text/plain": [
              "[47, 4, 1, 1, 1, 1, 1, 1, 1, 1]"
            ]
          },
          "metadata": {
            "tags": []
          },
          "execution_count": 48
        }
      ]
    },
    {
      "cell_type": "code",
      "metadata": {
        "id": "30na3aM9FuuO"
      },
      "source": [
        "### from d2l.ai\n",
        "def build_array(lines, vocab, num_steps, is_source):\n",
        "    lines = [vocab[l] for l in lines]\n",
        "    if not is_source:\n",
        "        lines = [[vocab['<bos>']] + l + [vocab['<eos>']] for l in lines]\n",
        "    array = np.array([truncate_pad(\n",
        "        l, num_steps, vocab['<pad>']) for l in lines])\n",
        "    valid_len = (array != vocab['<pad>']).sum(axis=1)\n",
        "    return array, valid_len"
      ],
      "execution_count": null,
      "outputs": []
    },
    {
      "cell_type": "code",
      "metadata": {
        "id": "_C9-MV_DtO3b"
      },
      "source": [
        "### from d2l.ai\n",
        "def load_array(data_arrays, batch_size, is_train=True):\n",
        "    \"\"\"Construct a Gluon data iterator.\"\"\"\n",
        "    dataset = gluon.data.ArrayDataset(*data_arrays)\n",
        "    return gluon.data.DataLoader(dataset, batch_size, shuffle=is_train)"
      ],
      "execution_count": null,
      "outputs": []
    },
    {
      "cell_type": "code",
      "metadata": {
        "id": "DgDvaAHrFS29"
      },
      "source": [
        "### from d2l.ai\n",
        "### quite importand function to construct dataset for training (data_iter) \n",
        "### from original data\n",
        "def load_data_nmt(batch_size, num_steps, num_examples=25600):\n",
        "    text = preprocess_nmt(read_data_nmt())\n",
        "    source, target = tokenize_nmt(text, num_examples)\n",
        "    src_vocab = Vocab(source, min_freq=3,\n",
        "                          reserved_tokens=['<pad>', '<bos>', '<eos>'])\n",
        "    tgt_vocab = Vocab(target, min_freq=3,\n",
        "                          reserved_tokens=['<pad>', '<bos>', '<eos>'])\n",
        "    src_array, src_valid_len = build_array(\n",
        "        source, src_vocab, num_steps, True)\n",
        "    tgt_array, tgt_valid_len = build_array(\n",
        "        target, tgt_vocab, num_steps, False)\n",
        "    data_arrays = (src_array, src_valid_len, tgt_array, tgt_valid_len)\n",
        "    data_iter = load_array(data_arrays, batch_size)\n",
        "    return src_vocab, tgt_vocab, data_iter"
      ],
      "execution_count": null,
      "outputs": []
    },
    {
      "cell_type": "code",
      "metadata": {
        "id": "E2Vbr344rbhI"
      },
      "source": [
        "### from d2l.ai\n",
        "def try_gpu(i=0): \n",
        "    \"\"\"Return gpu(i) if exists, otherwise return cpu().\"\"\"\n",
        "    return npx.gpu(i) if npx.num_gpus() >= i + 1 else npx.cpu()"
      ],
      "execution_count": null,
      "outputs": []
    },
    {
      "cell_type": "markdown",
      "metadata": {
        "id": "uM6PC5noDevE"
      },
      "source": [
        "### Model: training and prediction "
      ]
    },
    {
      "cell_type": "code",
      "metadata": {
        "id": "zlHL925Pl4VU",
        "outputId": "8e21e1be-cd99-44c9-b5cb-be56425da516",
        "colab": {
          "base_uri": "https://localhost:8080/",
          "height": 302
        }
      },
      "source": [
        "### the code from d2l.ai\n",
        "\n",
        "### estimate the execution time for the cell in seconds\n",
        "start = time.time()\n",
        "\n",
        "\n",
        "num_hiddens, num_layers, dropout, batch_size, num_steps = 32, 2, 0.0, 64, 16\n",
        "lr, num_epochs, device = 0.001, 400, try_gpu()\n",
        "ffn_num_hiddens, num_heads = 64, 4  ### num_hiddens is to be a multiple of num_heads !!\n",
        "\n",
        "src_vocab, tgt_vocab, train_iter = load_data_nmt(batch_size, num_steps,25600)\n",
        "\n",
        "encoder = TransformerEncoder(\n",
        "    len(src_vocab), num_hiddens, ffn_num_hiddens, num_heads, num_layers,\n",
        "    dropout)\n",
        "decoder = TransformerDecoder(\n",
        "    len(src_vocab), num_hiddens, ffn_num_hiddens, num_heads, num_layers,\n",
        "    dropout)\n",
        "model = EncoderDecoder(encoder, decoder)\n",
        "train_s2s_ch9(model, train_iter, lr, num_epochs, device)\n",
        "\n",
        "### estimate the execution time for the cell\n",
        "end = time.time()\n",
        "print(end - start)\n"
      ],
      "execution_count": null,
      "outputs": [
        {
          "output_type": "stream",
          "text": [
            "loss 0.023, 4408.0 tokens/sec on gpu(0)\n",
            "12994.927897453308\n"
          ],
          "name": "stdout"
        },
        {
          "output_type": "display_data",
          "data": {
            "text/plain": [
              "<Figure size 252x180 with 1 Axes>"
            ],
            "image/svg+xml": "<?xml version=\"1.0\" encoding=\"utf-8\" standalone=\"no\"?>\n<!DOCTYPE svg PUBLIC \"-//W3C//DTD SVG 1.1//EN\"\n  \"http://www.w3.org/Graphics/SVG/1.1/DTD/svg11.dtd\">\n<!-- Created with matplotlib (https://matplotlib.org/) -->\n<svg height=\"184.455469pt\" version=\"1.1\" viewBox=\"0 0 255.825 184.455469\" width=\"255.825pt\" xmlns=\"http://www.w3.org/2000/svg\" xmlns:xlink=\"http://www.w3.org/1999/xlink\">\n <defs>\n  <style type=\"text/css\">\n*{stroke-linecap:butt;stroke-linejoin:round;}\n  </style>\n </defs>\n <g id=\"figure_1\">\n  <g id=\"patch_1\">\n   <path d=\"M 0 184.455469 \nL 255.825 184.455469 \nL 255.825 -0 \nL 0 -0 \nz\n\" style=\"fill:none;\"/>\n  </g>\n  <g id=\"axes_1\">\n   <g id=\"patch_2\">\n    <path d=\"M 43.78125 146.899219 \nL 239.08125 146.899219 \nL 239.08125 10.999219 \nL 43.78125 10.999219 \nz\n\" style=\"fill:#ffffff;\"/>\n   </g>\n   <g id=\"matplotlib.axis_1\">\n    <g id=\"xtick_1\">\n     <g id=\"line2d_1\">\n      <path clip-path=\"url(#pe4e91c0210)\" d=\"M 92.239145 146.899219 \nL 92.239145 10.999219 \n\" style=\"fill:none;stroke:#b0b0b0;stroke-linecap:square;stroke-width:0.8;\"/>\n     </g>\n     <g id=\"line2d_2\">\n      <defs>\n       <path d=\"M 0 0 \nL 0 3.5 \n\" id=\"mac7a0b6326\" style=\"stroke:#000000;stroke-width:0.8;\"/>\n      </defs>\n      <g>\n       <use style=\"stroke:#000000;stroke-width:0.8;\" x=\"92.239145\" xlink:href=\"#mac7a0b6326\" y=\"146.899219\"/>\n      </g>\n     </g>\n     <g id=\"text_1\">\n      <!-- 100 -->\n      <defs>\n       <path d=\"M 12.40625 8.296875 \nL 28.515625 8.296875 \nL 28.515625 63.921875 \nL 10.984375 60.40625 \nL 10.984375 69.390625 \nL 28.421875 72.90625 \nL 38.28125 72.90625 \nL 38.28125 8.296875 \nL 54.390625 8.296875 \nL 54.390625 0 \nL 12.40625 0 \nz\n\" id=\"DejaVuSans-49\"/>\n       <path d=\"M 31.78125 66.40625 \nQ 24.171875 66.40625 20.328125 58.90625 \nQ 16.5 51.421875 16.5 36.375 \nQ 16.5 21.390625 20.328125 13.890625 \nQ 24.171875 6.390625 31.78125 6.390625 \nQ 39.453125 6.390625 43.28125 13.890625 \nQ 47.125 21.390625 47.125 36.375 \nQ 47.125 51.421875 43.28125 58.90625 \nQ 39.453125 66.40625 31.78125 66.40625 \nz\nM 31.78125 74.21875 \nQ 44.046875 74.21875 50.515625 64.515625 \nQ 56.984375 54.828125 56.984375 36.375 \nQ 56.984375 17.96875 50.515625 8.265625 \nQ 44.046875 -1.421875 31.78125 -1.421875 \nQ 19.53125 -1.421875 13.0625 8.265625 \nQ 6.59375 17.96875 6.59375 36.375 \nQ 6.59375 54.828125 13.0625 64.515625 \nQ 19.53125 74.21875 31.78125 74.21875 \nz\n\" id=\"DejaVuSans-48\"/>\n      </defs>\n      <g transform=\"translate(82.695395 161.497656)scale(0.1 -0.1)\">\n       <use xlink:href=\"#DejaVuSans-49\"/>\n       <use x=\"63.623047\" xlink:href=\"#DejaVuSans-48\"/>\n       <use x=\"127.246094\" xlink:href=\"#DejaVuSans-48\"/>\n      </g>\n     </g>\n    </g>\n    <g id=\"xtick_2\">\n     <g id=\"line2d_3\">\n      <path clip-path=\"url(#pe4e91c0210)\" d=\"M 141.186513 146.899219 \nL 141.186513 10.999219 \n\" style=\"fill:none;stroke:#b0b0b0;stroke-linecap:square;stroke-width:0.8;\"/>\n     </g>\n     <g id=\"line2d_4\">\n      <g>\n       <use style=\"stroke:#000000;stroke-width:0.8;\" x=\"141.186513\" xlink:href=\"#mac7a0b6326\" y=\"146.899219\"/>\n      </g>\n     </g>\n     <g id=\"text_2\">\n      <!-- 200 -->\n      <defs>\n       <path d=\"M 19.1875 8.296875 \nL 53.609375 8.296875 \nL 53.609375 0 \nL 7.328125 0 \nL 7.328125 8.296875 \nQ 12.9375 14.109375 22.625 23.890625 \nQ 32.328125 33.6875 34.8125 36.53125 \nQ 39.546875 41.84375 41.421875 45.53125 \nQ 43.3125 49.21875 43.3125 52.78125 \nQ 43.3125 58.59375 39.234375 62.25 \nQ 35.15625 65.921875 28.609375 65.921875 \nQ 23.96875 65.921875 18.8125 64.3125 \nQ 13.671875 62.703125 7.8125 59.421875 \nL 7.8125 69.390625 \nQ 13.765625 71.78125 18.9375 73 \nQ 24.125 74.21875 28.421875 74.21875 \nQ 39.75 74.21875 46.484375 68.546875 \nQ 53.21875 62.890625 53.21875 53.421875 \nQ 53.21875 48.921875 51.53125 44.890625 \nQ 49.859375 40.875 45.40625 35.40625 \nQ 44.1875 33.984375 37.640625 27.21875 \nQ 31.109375 20.453125 19.1875 8.296875 \nz\n\" id=\"DejaVuSans-50\"/>\n      </defs>\n      <g transform=\"translate(131.642763 161.497656)scale(0.1 -0.1)\">\n       <use xlink:href=\"#DejaVuSans-50\"/>\n       <use x=\"63.623047\" xlink:href=\"#DejaVuSans-48\"/>\n       <use x=\"127.246094\" xlink:href=\"#DejaVuSans-48\"/>\n      </g>\n     </g>\n    </g>\n    <g id=\"xtick_3\">\n     <g id=\"line2d_5\">\n      <path clip-path=\"url(#pe4e91c0210)\" d=\"M 190.133882 146.899219 \nL 190.133882 10.999219 \n\" style=\"fill:none;stroke:#b0b0b0;stroke-linecap:square;stroke-width:0.8;\"/>\n     </g>\n     <g id=\"line2d_6\">\n      <g>\n       <use style=\"stroke:#000000;stroke-width:0.8;\" x=\"190.133882\" xlink:href=\"#mac7a0b6326\" y=\"146.899219\"/>\n      </g>\n     </g>\n     <g id=\"text_3\">\n      <!-- 300 -->\n      <defs>\n       <path d=\"M 40.578125 39.3125 \nQ 47.65625 37.796875 51.625 33 \nQ 55.609375 28.21875 55.609375 21.1875 \nQ 55.609375 10.40625 48.1875 4.484375 \nQ 40.765625 -1.421875 27.09375 -1.421875 \nQ 22.515625 -1.421875 17.65625 -0.515625 \nQ 12.796875 0.390625 7.625 2.203125 \nL 7.625 11.71875 \nQ 11.71875 9.328125 16.59375 8.109375 \nQ 21.484375 6.890625 26.8125 6.890625 \nQ 36.078125 6.890625 40.9375 10.546875 \nQ 45.796875 14.203125 45.796875 21.1875 \nQ 45.796875 27.640625 41.28125 31.265625 \nQ 36.765625 34.90625 28.71875 34.90625 \nL 20.21875 34.90625 \nL 20.21875 43.015625 \nL 29.109375 43.015625 \nQ 36.375 43.015625 40.234375 45.921875 \nQ 44.09375 48.828125 44.09375 54.296875 \nQ 44.09375 59.90625 40.109375 62.90625 \nQ 36.140625 65.921875 28.71875 65.921875 \nQ 24.65625 65.921875 20.015625 65.03125 \nQ 15.375 64.15625 9.8125 62.3125 \nL 9.8125 71.09375 \nQ 15.4375 72.65625 20.34375 73.4375 \nQ 25.25 74.21875 29.59375 74.21875 \nQ 40.828125 74.21875 47.359375 69.109375 \nQ 53.90625 64.015625 53.90625 55.328125 \nQ 53.90625 49.265625 50.4375 45.09375 \nQ 46.96875 40.921875 40.578125 39.3125 \nz\n\" id=\"DejaVuSans-51\"/>\n      </defs>\n      <g transform=\"translate(180.590132 161.497656)scale(0.1 -0.1)\">\n       <use xlink:href=\"#DejaVuSans-51\"/>\n       <use x=\"63.623047\" xlink:href=\"#DejaVuSans-48\"/>\n       <use x=\"127.246094\" xlink:href=\"#DejaVuSans-48\"/>\n      </g>\n     </g>\n    </g>\n    <g id=\"xtick_4\">\n     <g id=\"line2d_7\">\n      <path clip-path=\"url(#pe4e91c0210)\" d=\"M 239.08125 146.899219 \nL 239.08125 10.999219 \n\" style=\"fill:none;stroke:#b0b0b0;stroke-linecap:square;stroke-width:0.8;\"/>\n     </g>\n     <g id=\"line2d_8\">\n      <g>\n       <use style=\"stroke:#000000;stroke-width:0.8;\" x=\"239.08125\" xlink:href=\"#mac7a0b6326\" y=\"146.899219\"/>\n      </g>\n     </g>\n     <g id=\"text_4\">\n      <!-- 400 -->\n      <defs>\n       <path d=\"M 37.796875 64.3125 \nL 12.890625 25.390625 \nL 37.796875 25.390625 \nz\nM 35.203125 72.90625 \nL 47.609375 72.90625 \nL 47.609375 25.390625 \nL 58.015625 25.390625 \nL 58.015625 17.1875 \nL 47.609375 17.1875 \nL 47.609375 0 \nL 37.796875 0 \nL 37.796875 17.1875 \nL 4.890625 17.1875 \nL 4.890625 26.703125 \nz\n\" id=\"DejaVuSans-52\"/>\n      </defs>\n      <g transform=\"translate(229.5375 161.497656)scale(0.1 -0.1)\">\n       <use xlink:href=\"#DejaVuSans-52\"/>\n       <use x=\"63.623047\" xlink:href=\"#DejaVuSans-48\"/>\n       <use x=\"127.246094\" xlink:href=\"#DejaVuSans-48\"/>\n      </g>\n     </g>\n    </g>\n    <g id=\"text_5\">\n     <!-- epoch -->\n     <defs>\n      <path d=\"M 56.203125 29.59375 \nL 56.203125 25.203125 \nL 14.890625 25.203125 \nQ 15.484375 15.921875 20.484375 11.0625 \nQ 25.484375 6.203125 34.421875 6.203125 \nQ 39.59375 6.203125 44.453125 7.46875 \nQ 49.3125 8.734375 54.109375 11.28125 \nL 54.109375 2.78125 \nQ 49.265625 0.734375 44.1875 -0.34375 \nQ 39.109375 -1.421875 33.890625 -1.421875 \nQ 20.796875 -1.421875 13.15625 6.1875 \nQ 5.515625 13.8125 5.515625 26.8125 \nQ 5.515625 40.234375 12.765625 48.109375 \nQ 20.015625 56 32.328125 56 \nQ 43.359375 56 49.78125 48.890625 \nQ 56.203125 41.796875 56.203125 29.59375 \nz\nM 47.21875 32.234375 \nQ 47.125 39.59375 43.09375 43.984375 \nQ 39.0625 48.390625 32.421875 48.390625 \nQ 24.90625 48.390625 20.390625 44.140625 \nQ 15.875 39.890625 15.1875 32.171875 \nz\n\" id=\"DejaVuSans-101\"/>\n      <path d=\"M 18.109375 8.203125 \nL 18.109375 -20.796875 \nL 9.078125 -20.796875 \nL 9.078125 54.6875 \nL 18.109375 54.6875 \nL 18.109375 46.390625 \nQ 20.953125 51.265625 25.265625 53.625 \nQ 29.59375 56 35.59375 56 \nQ 45.5625 56 51.78125 48.09375 \nQ 58.015625 40.1875 58.015625 27.296875 \nQ 58.015625 14.40625 51.78125 6.484375 \nQ 45.5625 -1.421875 35.59375 -1.421875 \nQ 29.59375 -1.421875 25.265625 0.953125 \nQ 20.953125 3.328125 18.109375 8.203125 \nz\nM 48.6875 27.296875 \nQ 48.6875 37.203125 44.609375 42.84375 \nQ 40.53125 48.484375 33.40625 48.484375 \nQ 26.265625 48.484375 22.1875 42.84375 \nQ 18.109375 37.203125 18.109375 27.296875 \nQ 18.109375 17.390625 22.1875 11.75 \nQ 26.265625 6.109375 33.40625 6.109375 \nQ 40.53125 6.109375 44.609375 11.75 \nQ 48.6875 17.390625 48.6875 27.296875 \nz\n\" id=\"DejaVuSans-112\"/>\n      <path d=\"M 30.609375 48.390625 \nQ 23.390625 48.390625 19.1875 42.75 \nQ 14.984375 37.109375 14.984375 27.296875 \nQ 14.984375 17.484375 19.15625 11.84375 \nQ 23.34375 6.203125 30.609375 6.203125 \nQ 37.796875 6.203125 41.984375 11.859375 \nQ 46.1875 17.53125 46.1875 27.296875 \nQ 46.1875 37.015625 41.984375 42.703125 \nQ 37.796875 48.390625 30.609375 48.390625 \nz\nM 30.609375 56 \nQ 42.328125 56 49.015625 48.375 \nQ 55.71875 40.765625 55.71875 27.296875 \nQ 55.71875 13.875 49.015625 6.21875 \nQ 42.328125 -1.421875 30.609375 -1.421875 \nQ 18.84375 -1.421875 12.171875 6.21875 \nQ 5.515625 13.875 5.515625 27.296875 \nQ 5.515625 40.765625 12.171875 48.375 \nQ 18.84375 56 30.609375 56 \nz\n\" id=\"DejaVuSans-111\"/>\n      <path d=\"M 48.78125 52.59375 \nL 48.78125 44.1875 \nQ 44.96875 46.296875 41.140625 47.34375 \nQ 37.3125 48.390625 33.40625 48.390625 \nQ 24.65625 48.390625 19.8125 42.84375 \nQ 14.984375 37.3125 14.984375 27.296875 \nQ 14.984375 17.28125 19.8125 11.734375 \nQ 24.65625 6.203125 33.40625 6.203125 \nQ 37.3125 6.203125 41.140625 7.25 \nQ 44.96875 8.296875 48.78125 10.40625 \nL 48.78125 2.09375 \nQ 45.015625 0.34375 40.984375 -0.53125 \nQ 36.96875 -1.421875 32.421875 -1.421875 \nQ 20.0625 -1.421875 12.78125 6.34375 \nQ 5.515625 14.109375 5.515625 27.296875 \nQ 5.515625 40.671875 12.859375 48.328125 \nQ 20.21875 56 33.015625 56 \nQ 37.15625 56 41.109375 55.140625 \nQ 45.0625 54.296875 48.78125 52.59375 \nz\n\" id=\"DejaVuSans-99\"/>\n      <path d=\"M 54.890625 33.015625 \nL 54.890625 0 \nL 45.90625 0 \nL 45.90625 32.71875 \nQ 45.90625 40.484375 42.875 44.328125 \nQ 39.84375 48.1875 33.796875 48.1875 \nQ 26.515625 48.1875 22.3125 43.546875 \nQ 18.109375 38.921875 18.109375 30.90625 \nL 18.109375 0 \nL 9.078125 0 \nL 9.078125 75.984375 \nL 18.109375 75.984375 \nL 18.109375 46.1875 \nQ 21.34375 51.125 25.703125 53.5625 \nQ 30.078125 56 35.796875 56 \nQ 45.21875 56 50.046875 50.171875 \nQ 54.890625 44.34375 54.890625 33.015625 \nz\n\" id=\"DejaVuSans-104\"/>\n     </defs>\n     <g transform=\"translate(126.203125 175.175781)scale(0.1 -0.1)\">\n      <use xlink:href=\"#DejaVuSans-101\"/>\n      <use x=\"61.523438\" xlink:href=\"#DejaVuSans-112\"/>\n      <use x=\"125\" xlink:href=\"#DejaVuSans-111\"/>\n      <use x=\"186.181641\" xlink:href=\"#DejaVuSans-99\"/>\n      <use x=\"241.162109\" xlink:href=\"#DejaVuSans-104\"/>\n     </g>\n    </g>\n   </g>\n   <g id=\"matplotlib.axis_2\">\n    <g id=\"ytick_1\">\n     <g id=\"line2d_9\">\n      <path clip-path=\"url(#pe4e91c0210)\" d=\"M 43.78125 146.899219 \nL 239.08125 146.899219 \n\" style=\"fill:none;stroke:#b0b0b0;stroke-linecap:square;stroke-width:0.8;\"/>\n     </g>\n     <g id=\"line2d_10\">\n      <defs>\n       <path d=\"M 0 0 \nL -3.5 0 \n\" id=\"me7f3955f42\" style=\"stroke:#000000;stroke-width:0.8;\"/>\n      </defs>\n      <g>\n       <use style=\"stroke:#000000;stroke-width:0.8;\" x=\"43.78125\" xlink:href=\"#me7f3955f42\" y=\"146.899219\"/>\n      </g>\n     </g>\n     <g id=\"text_6\">\n      <!-- 0.0 -->\n      <defs>\n       <path d=\"M 10.6875 12.40625 \nL 21 12.40625 \nL 21 0 \nL 10.6875 0 \nz\n\" id=\"DejaVuSans-46\"/>\n      </defs>\n      <g transform=\"translate(20.878125 150.698437)scale(0.1 -0.1)\">\n       <use xlink:href=\"#DejaVuSans-48\"/>\n       <use x=\"63.623047\" xlink:href=\"#DejaVuSans-46\"/>\n       <use x=\"95.410156\" xlink:href=\"#DejaVuSans-48\"/>\n      </g>\n     </g>\n    </g>\n    <g id=\"ytick_2\">\n     <g id=\"line2d_11\">\n      <path clip-path=\"url(#pe4e91c0210)\" d=\"M 43.78125 119.719219 \nL 239.08125 119.719219 \n\" style=\"fill:none;stroke:#b0b0b0;stroke-linecap:square;stroke-width:0.8;\"/>\n     </g>\n     <g id=\"line2d_12\">\n      <g>\n       <use style=\"stroke:#000000;stroke-width:0.8;\" x=\"43.78125\" xlink:href=\"#me7f3955f42\" y=\"119.719219\"/>\n      </g>\n     </g>\n     <g id=\"text_7\">\n      <!-- 0.2 -->\n      <g transform=\"translate(20.878125 123.518437)scale(0.1 -0.1)\">\n       <use xlink:href=\"#DejaVuSans-48\"/>\n       <use x=\"63.623047\" xlink:href=\"#DejaVuSans-46\"/>\n       <use x=\"95.410156\" xlink:href=\"#DejaVuSans-50\"/>\n      </g>\n     </g>\n    </g>\n    <g id=\"ytick_3\">\n     <g id=\"line2d_13\">\n      <path clip-path=\"url(#pe4e91c0210)\" d=\"M 43.78125 92.539219 \nL 239.08125 92.539219 \n\" style=\"fill:none;stroke:#b0b0b0;stroke-linecap:square;stroke-width:0.8;\"/>\n     </g>\n     <g id=\"line2d_14\">\n      <g>\n       <use style=\"stroke:#000000;stroke-width:0.8;\" x=\"43.78125\" xlink:href=\"#me7f3955f42\" y=\"92.539219\"/>\n      </g>\n     </g>\n     <g id=\"text_8\">\n      <!-- 0.4 -->\n      <g transform=\"translate(20.878125 96.338437)scale(0.1 -0.1)\">\n       <use xlink:href=\"#DejaVuSans-48\"/>\n       <use x=\"63.623047\" xlink:href=\"#DejaVuSans-46\"/>\n       <use x=\"95.410156\" xlink:href=\"#DejaVuSans-52\"/>\n      </g>\n     </g>\n    </g>\n    <g id=\"ytick_4\">\n     <g id=\"line2d_15\">\n      <path clip-path=\"url(#pe4e91c0210)\" d=\"M 43.78125 65.359219 \nL 239.08125 65.359219 \n\" style=\"fill:none;stroke:#b0b0b0;stroke-linecap:square;stroke-width:0.8;\"/>\n     </g>\n     <g id=\"line2d_16\">\n      <g>\n       <use style=\"stroke:#000000;stroke-width:0.8;\" x=\"43.78125\" xlink:href=\"#me7f3955f42\" y=\"65.359219\"/>\n      </g>\n     </g>\n     <g id=\"text_9\">\n      <!-- 0.6 -->\n      <defs>\n       <path d=\"M 33.015625 40.375 \nQ 26.375 40.375 22.484375 35.828125 \nQ 18.609375 31.296875 18.609375 23.390625 \nQ 18.609375 15.53125 22.484375 10.953125 \nQ 26.375 6.390625 33.015625 6.390625 \nQ 39.65625 6.390625 43.53125 10.953125 \nQ 47.40625 15.53125 47.40625 23.390625 \nQ 47.40625 31.296875 43.53125 35.828125 \nQ 39.65625 40.375 33.015625 40.375 \nz\nM 52.59375 71.296875 \nL 52.59375 62.3125 \nQ 48.875 64.0625 45.09375 64.984375 \nQ 41.3125 65.921875 37.59375 65.921875 \nQ 27.828125 65.921875 22.671875 59.328125 \nQ 17.53125 52.734375 16.796875 39.40625 \nQ 19.671875 43.65625 24.015625 45.921875 \nQ 28.375 48.1875 33.59375 48.1875 \nQ 44.578125 48.1875 50.953125 41.515625 \nQ 57.328125 34.859375 57.328125 23.390625 \nQ 57.328125 12.15625 50.6875 5.359375 \nQ 44.046875 -1.421875 33.015625 -1.421875 \nQ 20.359375 -1.421875 13.671875 8.265625 \nQ 6.984375 17.96875 6.984375 36.375 \nQ 6.984375 53.65625 15.1875 63.9375 \nQ 23.390625 74.21875 37.203125 74.21875 \nQ 40.921875 74.21875 44.703125 73.484375 \nQ 48.484375 72.75 52.59375 71.296875 \nz\n\" id=\"DejaVuSans-54\"/>\n      </defs>\n      <g transform=\"translate(20.878125 69.158437)scale(0.1 -0.1)\">\n       <use xlink:href=\"#DejaVuSans-48\"/>\n       <use x=\"63.623047\" xlink:href=\"#DejaVuSans-46\"/>\n       <use x=\"95.410156\" xlink:href=\"#DejaVuSans-54\"/>\n      </g>\n     </g>\n    </g>\n    <g id=\"ytick_5\">\n     <g id=\"line2d_17\">\n      <path clip-path=\"url(#pe4e91c0210)\" d=\"M 43.78125 38.179219 \nL 239.08125 38.179219 \n\" style=\"fill:none;stroke:#b0b0b0;stroke-linecap:square;stroke-width:0.8;\"/>\n     </g>\n     <g id=\"line2d_18\">\n      <g>\n       <use style=\"stroke:#000000;stroke-width:0.8;\" x=\"43.78125\" xlink:href=\"#me7f3955f42\" y=\"38.179219\"/>\n      </g>\n     </g>\n     <g id=\"text_10\">\n      <!-- 0.8 -->\n      <defs>\n       <path d=\"M 31.78125 34.625 \nQ 24.75 34.625 20.71875 30.859375 \nQ 16.703125 27.09375 16.703125 20.515625 \nQ 16.703125 13.921875 20.71875 10.15625 \nQ 24.75 6.390625 31.78125 6.390625 \nQ 38.8125 6.390625 42.859375 10.171875 \nQ 46.921875 13.96875 46.921875 20.515625 \nQ 46.921875 27.09375 42.890625 30.859375 \nQ 38.875 34.625 31.78125 34.625 \nz\nM 21.921875 38.8125 \nQ 15.578125 40.375 12.03125 44.71875 \nQ 8.5 49.078125 8.5 55.328125 \nQ 8.5 64.0625 14.71875 69.140625 \nQ 20.953125 74.21875 31.78125 74.21875 \nQ 42.671875 74.21875 48.875 69.140625 \nQ 55.078125 64.0625 55.078125 55.328125 \nQ 55.078125 49.078125 51.53125 44.71875 \nQ 48 40.375 41.703125 38.8125 \nQ 48.828125 37.15625 52.796875 32.3125 \nQ 56.78125 27.484375 56.78125 20.515625 \nQ 56.78125 9.90625 50.3125 4.234375 \nQ 43.84375 -1.421875 31.78125 -1.421875 \nQ 19.734375 -1.421875 13.25 4.234375 \nQ 6.78125 9.90625 6.78125 20.515625 \nQ 6.78125 27.484375 10.78125 32.3125 \nQ 14.796875 37.15625 21.921875 38.8125 \nz\nM 18.3125 54.390625 \nQ 18.3125 48.734375 21.84375 45.5625 \nQ 25.390625 42.390625 31.78125 42.390625 \nQ 38.140625 42.390625 41.71875 45.5625 \nQ 45.3125 48.734375 45.3125 54.390625 \nQ 45.3125 60.0625 41.71875 63.234375 \nQ 38.140625 66.40625 31.78125 66.40625 \nQ 25.390625 66.40625 21.84375 63.234375 \nQ 18.3125 60.0625 18.3125 54.390625 \nz\n\" id=\"DejaVuSans-56\"/>\n      </defs>\n      <g transform=\"translate(20.878125 41.978437)scale(0.1 -0.1)\">\n       <use xlink:href=\"#DejaVuSans-48\"/>\n       <use x=\"63.623047\" xlink:href=\"#DejaVuSans-46\"/>\n       <use x=\"95.410156\" xlink:href=\"#DejaVuSans-56\"/>\n      </g>\n     </g>\n    </g>\n    <g id=\"ytick_6\">\n     <g id=\"line2d_19\">\n      <path clip-path=\"url(#pe4e91c0210)\" d=\"M 43.78125 10.999219 \nL 239.08125 10.999219 \n\" style=\"fill:none;stroke:#b0b0b0;stroke-linecap:square;stroke-width:0.8;\"/>\n     </g>\n     <g id=\"line2d_20\">\n      <g>\n       <use style=\"stroke:#000000;stroke-width:0.8;\" x=\"43.78125\" xlink:href=\"#me7f3955f42\" y=\"10.999219\"/>\n      </g>\n     </g>\n     <g id=\"text_11\">\n      <!-- 1.0 -->\n      <g transform=\"translate(20.878125 14.798437)scale(0.1 -0.1)\">\n       <use xlink:href=\"#DejaVuSans-49\"/>\n       <use x=\"63.623047\" xlink:href=\"#DejaVuSans-46\"/>\n       <use x=\"95.410156\" xlink:href=\"#DejaVuSans-48\"/>\n      </g>\n     </g>\n    </g>\n    <g id=\"text_12\">\n     <!-- loss -->\n     <defs>\n      <path d=\"M 9.421875 75.984375 \nL 18.40625 75.984375 \nL 18.40625 0 \nL 9.421875 0 \nz\n\" id=\"DejaVuSans-108\"/>\n      <path d=\"M 44.28125 53.078125 \nL 44.28125 44.578125 \nQ 40.484375 46.53125 36.375 47.5 \nQ 32.28125 48.484375 27.875 48.484375 \nQ 21.1875 48.484375 17.84375 46.4375 \nQ 14.5 44.390625 14.5 40.28125 \nQ 14.5 37.15625 16.890625 35.375 \nQ 19.28125 33.59375 26.515625 31.984375 \nL 29.59375 31.296875 \nQ 39.15625 29.25 43.1875 25.515625 \nQ 47.21875 21.78125 47.21875 15.09375 \nQ 47.21875 7.46875 41.1875 3.015625 \nQ 35.15625 -1.421875 24.609375 -1.421875 \nQ 20.21875 -1.421875 15.453125 -0.5625 \nQ 10.6875 0.296875 5.421875 2 \nL 5.421875 11.28125 \nQ 10.40625 8.6875 15.234375 7.390625 \nQ 20.0625 6.109375 24.8125 6.109375 \nQ 31.15625 6.109375 34.5625 8.28125 \nQ 37.984375 10.453125 37.984375 14.40625 \nQ 37.984375 18.0625 35.515625 20.015625 \nQ 33.0625 21.96875 24.703125 23.78125 \nL 21.578125 24.515625 \nQ 13.234375 26.265625 9.515625 29.90625 \nQ 5.8125 33.546875 5.8125 39.890625 \nQ 5.8125 47.609375 11.28125 51.796875 \nQ 16.75 56 26.8125 56 \nQ 31.78125 56 36.171875 55.265625 \nQ 40.578125 54.546875 44.28125 53.078125 \nz\n\" id=\"DejaVuSans-115\"/>\n     </defs>\n     <g transform=\"translate(14.798437 88.607031)rotate(-90)scale(0.1 -0.1)\">\n      <use xlink:href=\"#DejaVuSans-108\"/>\n      <use x=\"27.783203\" xlink:href=\"#DejaVuSans-111\"/>\n      <use x=\"88.964844\" xlink:href=\"#DejaVuSans-115\"/>\n      <use x=\"141.064453\" xlink:href=\"#DejaVuSans-115\"/>\n     </g>\n    </g>\n   </g>\n   <g id=\"line2d_21\">\n    <path clip-path=\"url(#pe4e91c0210)\" d=\"M 48.186513 134.811341 \nL 53.08125 138.895497 \nL 57.975987 139.753752 \nL 62.870724 140.746561 \nL 67.765461 141.26387 \nL 72.660197 141.973569 \nL 77.554934 141.906476 \nL 82.449671 142.196128 \nL 87.344408 141.582454 \nL 92.239145 142.785461 \nL 97.133882 142.645972 \nL 102.028618 142.760914 \nL 106.923355 142.692148 \nL 111.818092 142.925567 \nL 116.712829 143.149862 \nL 121.607566 142.580086 \nL 126.502303 143.293657 \nL 131.397039 143.33402 \nL 136.291776 142.264165 \nL 141.186513 143.323205 \nL 146.08125 143.382232 \nL 150.975987 143.295133 \nL 155.870724 143.40723 \nL 160.765461 143.6901 \nL 165.660197 143.445312 \nL 170.554934 143.528065 \nL 175.449671 143.530178 \nL 180.344408 143.434009 \nL 185.239145 143.65942 \nL 190.133882 143.765741 \nL 195.028618 143.114284 \nL 199.923355 143.363029 \nL 204.818092 143.658919 \nL 209.712829 143.140087 \nL 214.607566 143.96883 \nL 219.502303 143.652656 \nL 224.397039 142.807107 \nL 229.291776 143.758275 \nL 234.186513 143.569119 \nL 239.08125 143.790818 \n\" style=\"fill:none;stroke:#1f77b4;stroke-linecap:square;stroke-width:1.5;\"/>\n   </g>\n   <g id=\"patch_3\">\n    <path d=\"M 43.78125 146.899219 \nL 43.78125 10.999219 \n\" style=\"fill:none;stroke:#000000;stroke-linecap:square;stroke-linejoin:miter;stroke-width:0.8;\"/>\n   </g>\n   <g id=\"patch_4\">\n    <path d=\"M 239.08125 146.899219 \nL 239.08125 10.999219 \n\" style=\"fill:none;stroke:#000000;stroke-linecap:square;stroke-linejoin:miter;stroke-width:0.8;\"/>\n   </g>\n   <g id=\"patch_5\">\n    <path d=\"M 43.78125 146.899219 \nL 239.08125 146.899219 \n\" style=\"fill:none;stroke:#000000;stroke-linecap:square;stroke-linejoin:miter;stroke-width:0.8;\"/>\n   </g>\n   <g id=\"patch_6\">\n    <path d=\"M 43.78125 10.999219 \nL 239.08125 10.999219 \n\" style=\"fill:none;stroke:#000000;stroke-linecap:square;stroke-linejoin:miter;stroke-width:0.8;\"/>\n   </g>\n  </g>\n </g>\n <defs>\n  <clipPath id=\"pe4e91c0210\">\n   <rect height=\"135.9\" width=\"195.3\" x=\"43.78125\" y=\"10.999219\"/>\n  </clipPath>\n </defs>\n</svg>\n"
          },
          "metadata": {
            "tags": [],
            "needs_background": "light"
          }
        }
      ]
    },
    {
      "cell_type": "code",
      "metadata": {
        "id": "cmPoZHgvBhw8"
      },
      "source": [
        "### from d2l.ai\n",
        "def predict_s2s_ch9(model, src_sentence, src_vocab, tgt_vocab, num_steps,\n",
        "                    device):\n",
        "    src_tokens = src_vocab[src_sentence.lower().split(' ')]\n",
        "    enc_valid_len = np.array([len(src_tokens)], ctx=device)\n",
        "    src_tokens = truncate_pad(src_tokens, num_steps, src_vocab['<pad>'])\n",
        "    enc_X = np.array(src_tokens, ctx=device)\n",
        "    # Add the  batch size dimension\n",
        "    enc_outputs = model.encoder(np.expand_dims(enc_X, axis=0),\n",
        "                                enc_valid_len)\n",
        "    dec_state = model.decoder.init_state(enc_outputs, enc_valid_len)\n",
        "    dec_X = np.expand_dims(np.array([tgt_vocab['<bos>']], ctx=device), axis=0)\n",
        "    predict_tokens = []\n",
        "    for _ in range(num_steps):\n",
        "        Y, dec_state = model.decoder(dec_X, dec_state)\n",
        "        # The token with highest score is used as the next time step input\n",
        "        dec_X = Y.argmax(axis=2)\n",
        "        py = dec_X.squeeze(axis=0).astype('int32').item()\n",
        "        if py == tgt_vocab['<eos>']:\n",
        "            break\n",
        "        predict_tokens.append(py)\n",
        "    return ' '.join(tgt_vocab.to_tokens(predict_tokens))"
      ],
      "execution_count": null,
      "outputs": []
    },
    {
      "cell_type": "code",
      "metadata": {
        "id": "hxmimesrTg9T",
        "outputId": "793512a5-e105-4111-c4b8-6f26a58232d3",
        "colab": {
          "base_uri": "https://localhost:8080/",
          "height": 424
        }
      },
      "source": [
        "for sentence in ['Go .', 'Wow !', \"I'm OK .\", 'I won !', \n",
        "                 'Let it be !', 'How are you ?', 'How old are you ?', \n",
        "                 'Cats are cats, dogs are dogs .', 'My friend lives in US .',\n",
        "                 'He is fifty nine years old .', 'I like music and science .', \n",
        "                 'I love you .', 'The dog is chasing the cat .', \n",
        "                 'Somewhere on the earth .', 'Do not worry !', \n",
        "                 'Sit down, please !', 'Not at all !', 'It is very very strange .', \n",
        "                 'Take it into account .', 'The dark side of the moon .',\n",
        "                 'Come on !', 'We are the champions, my friends .']:\n",
        "    print(sentence + ' => ' + predict_s2s_ch9(\n",
        "        model, sentence, src_vocab, tgt_vocab, num_steps, device))\n"
      ],
      "execution_count": null,
      "outputs": [
        {
          "output_type": "stream",
          "text": [
            "Go . => va !\n",
            "Wow ! => ça alors donc , alors si alors si nouveau , <unk> ! raison ! raison !\n",
            "I'm OK . => je vas bien .\n",
            "I won ! => j'ai gagné la vérité .\n",
            "Let it be ! => laisse sois honnête au <unk> au <unk> le <unk> au <unk> le <unk> aller !\n",
            "How are you ? => comment êtes-vous ?\n",
            "How old are you ? => quel âge as-tu que vous éteinte ?\n",
            "Cats are cats, dogs are dogs . => les chats sont des chiens sont des chiens sont des chiens sont des chiens sont des\n",
            "My friend lives in US . => mon ami de l'arbre de mon <unk> .\n",
            "He is fifty nine years old . => il est âgé est <unk> plein <unk> ans .\n",
            "I like music and science . => j’aime pêcher .\n",
            "I love you . => je t'aime du point .\n",
            "The dog is chasing the cat . => le chien est le chien éteinte est le chien est le chien est le chien est\n",
            "Somewhere on the earth . => <unk> sur la <unk> <unk> <unk> .\n",
            "Do not worry ! => ne pas vraiment m'en éteinte ! pas faire éteinte ! pas souci !\n",
            "Sit down, please ! => asseyez-vous ! <unk> rester !\n",
            "Not at all ! => ne pas tout ceci n'est tout à fait tout de pas sûr de tout .\n",
            "It is very very strange . => c'est très bizarre .\n",
            "Take it into account . => fais-le entrer en <unk> .\n",
            "The dark side of the moon . => le éteinte est plein de le pleine de le pleine a fini de la éteinte plein\n",
            "Come on ! => allez !\n",
            "We are the champions, my friends . => nous sommes ses impôts sont les avons ses éteinte sont <unk> sont <unk> sont <unk> sont\n"
          ],
          "name": "stdout"
        }
      ]
    }
  ]
}
